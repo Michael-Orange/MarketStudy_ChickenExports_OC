{
 "cells": [
  {
   "cell_type": "markdown",
   "metadata": {},
   "source": [
    "<h2>Market Study - Chicken Exports</h2>"
   ]
  },
  {
   "cell_type": "markdown",
   "metadata": {},
   "source": [
    "<a href=\"https://openclassrooms.com/en/\" >Openclassrooms</a>, Data Analyst Course\n",
    "<br>Project 5 - Michael Orange\n"
   ]
  },
  {
   "cell_type": "markdown",
   "metadata": {},
   "source": [
    "<hr>"
   ]
  },
  {
   "cell_type": "markdown",
   "metadata": {},
   "source": [
    "A chicken producer is looking for new export markets. All countries are considered. \n",
    "<br>The core objective is to assist the company in targeting the markets with the highest potential. \n",
    "\n",
    "'Grouping' the countries in 'clusters' with similar caracteristics is expected. Variables are: \n",
    "- country population, \n",
    "- population growth, \n",
    "- calory supply per capita and protein supply per capita, \n",
    "- prevalence of animal proteins in the mix. \n",
    "\n",
    "Additional relevant variable might be included (ex. GDP per capita)"
   ]
  },
  {
   "cell_type": "markdown",
   "metadata": {},
   "source": [
    "<hr>"
   ]
  },
  {
   "cell_type": "markdown",
   "metadata": {},
   "source": [
    "<h2>Preparation Dataset data_country</h2>"
   ]
  },
  {
   "cell_type": "markdown",
   "metadata": {},
   "source": [
    "<h3>Import Datasets</h3>"
   ]
  },
  {
   "cell_type": "code",
   "execution_count": 1,
   "metadata": {},
   "outputs": [],
   "source": [
    "import numpy as np\n",
    "import pandas as pd\n",
    "import seaborn as sns"
   ]
  },
  {
   "cell_type": "markdown",
   "metadata": {},
   "source": [
    "Data are collected from The Food and Agriculture Organization Corporate Statistical Database (FAOSTAT). The FAOSTAT website disseminates statistical data collected and maintained by the Food and Agriculture Organization (FAO).\n",
    "\n",
    "FAOSTAT - Data collected (2013 and 2017 are selected for the below analysis): analysis is based on 2017 figures, with a comparaison from 2013 data. \n",
    "2017 is the most recent comprehensive data from FAOSTAT.\n",
    "\n",
    "- Datasets Food Balance Animal and Vegetal\n",
    "- Dataset Population\n",
    "- Dataset Gross Domestic Product (GDP)\n",
    "- Dataset Trade Mix - Chicken "
   ]
  },
  {
   "cell_type": "code",
   "execution_count": 2,
   "metadata": {},
   "outputs": [],
   "source": [
    "#import food datasets\n",
    "veg2013 = pd.read_csv(\"data/raw/vegetal2013.csv\")\n",
    "ani2013 = pd.read_csv(\"data/raw/animal2013.csv\")\n",
    "veg2017 = pd.read_csv('data/raw/vegetal2017.csv', dtype={'Note': str })\n",
    "ani2017 = pd.read_csv(\"data/raw/animal2017.csv\")\n",
    "ani2013[\"origin\"] = \"animal\"\n",
    "veg2013[\"origin\"] = \"vegetal\"\n",
    "ani2017[\"origin\"] = \"animal\"\n",
    "veg2017[\"origin\"] = \"vegetal\"\n",
    "\n",
    "#import population\n",
    "pop = pd.read_csv(\"data/raw/FAOSTAT_data_Population_2013-2017.csv\")\n",
    "\n",
    "# import GDP and Stability\n",
    "gdp = pd.read_csv(\"data/raw/FAOSTAT_data_MacroIndicators_20132017.csv\")\n",
    "stability = pd.read_csv(\"data/raw/FAOSTAT_data_PoliticalStability_2017.csv\")\n",
    "\n",
    "# import chicken trade\n",
    "chicken_trade = pd.read_csv(\"data/raw/FAOSTAT_data_Trade_Chicken_20132017.csv\")\n",
    "\n",
    "# import chicken livestock\n",
    "chicken_stock = pd.read_csv(\"data/raw/FAOSTAT_data_chicken_livestock_20132017.csv\")"
   ]
  },
  {
   "cell_type": "markdown",
   "metadata": {},
   "source": [
    "<h3>Preparation food dataset</h3>\n"
   ]
  },
  {
   "cell_type": "code",
   "execution_count": 3,
   "metadata": {},
   "outputs": [],
   "source": [
    "# group food datatsets\n",
    "temp = [veg2013, ani2013, ani2017, veg2017]\n",
    "temp = pd.concat(temp, ignore_index=True)\n",
    "\n",
    "# delete ani2013, veg2013, ani2017, veg2017\n",
    "del ani2013, veg2013, ani2017, veg2017\n",
    "\n",
    "temp.columns = [\"xx\", \"xx2\", \"country_code\", \"country\", 'xx3', 'element', 'item_code', 'item',\n",
    "                'xx4', \"year\", \"unit\", \"value\", 'xx5', 'flag_description', 'origin', 'xx6']\n",
    "\n",
    "data = temp.pivot_table(index=[\"year\", \"country_code\", \"country\", \"origin\", \"item_code\", \\\n",
    "                               \"item\"], columns = [\"element\"], values=[\"value\"], aggfunc=sum)\n",
    "\n",
    "# rename columns\n",
    "data.columns = ['domestic_supply_quantity','export_quantity','fat_supply_quantity_gcapitaday','feed',\n",
    "                'food','food_supply_kcalcapitaday','food_supply_quantity_kgcapitayr','import_quantity','losses','other_uses','processing',\n",
    "                'production', 'protein_supply_quantity_gcapitaday', 'residuals', 'seed','stock_variation','tourist_consumption']\n",
    "\n",
    "data = data.reset_index()"
   ]
  },
  {
   "cell_type": "markdown",
   "metadata": {},
   "source": [
    "Data for China are duplicated. \n",
    "<br>data for 'China' = sum of the splitted data for 'China, mainland', 'China, Hong Kong', 'China, Macao', 'China, Province of Taiwan'.\n",
    "- deletion of 'China' data (code 351)\n",
    "- 'China, mainland', 'China, Hong Kong', 'China, Macao', 'China, Province of Taiwan' data are kept in order to preserve a better granularity.\n",
    "\n"
   ]
  },
  {
   "cell_type": "code",
   "execution_count": 4,
   "metadata": {},
   "outputs": [],
   "source": [
    "# remove doublon from China (code_country 351)\n",
    "data = data.loc[data.country_code != 351]\n",
    "\n",
    "# remove Bermuda and Brunei - no information for 2017\n",
    "data = data.loc[data.country != 'Bermuda']\n",
    "data = data.loc[data.country != 'Brunei Darussalam']"
   ]
  },
  {
   "cell_type": "markdown",
   "metadata": {},
   "source": [
    "<h3>Population data</h3>"
   ]
  },
  {
   "cell_type": "markdown",
   "metadata": {},
   "source": [
    "- Population per country\n",
    "- Growth of the population (%) - 2017 vs 2013"
   ]
  },
  {
   "cell_type": "code",
   "execution_count": 5,
   "metadata": {},
   "outputs": [],
   "source": [
    "# population\n",
    "pop.columns = [\"xx\",\"xx2\",\"country_code\",\"country\", 'xx3', 'xx4', 'xx5','xx6', \n",
    "               'xx7', 'year',\"xx8\",\"population_total_thousand\",\"xx9\", 'xx10', 'xx11']\n",
    "\n",
    "pop = pop.drop([\"xx\",\"xx2\",'xx3','xx4','xx5', 'xx6', 'xx7','xx8', 'xx9', 'xx10', 'xx11'], axis = 1)\n",
    "pop.reset_index(drop=True, inplace=True)\n",
    "\n",
    "# merge data and pop\n",
    "data = pd.merge(data, pop, how='left')\n",
    "\n",
    "data_country = pop.pivot_table(index=['country_code', 'country'], columns = ['year'], values=['population_total_thousand'])\n",
    "data_country.columns = ['pop_2013_thousand', 'pop_2017_thousand']\n",
    "data_country.reset_index(inplace=True)\n",
    "\n",
    "#growth population\n",
    "data_country['pop_growth_percent'] = (data_country['pop_2017_thousand'] / data_country['pop_2013_thousand'] - 1) *100"
   ]
  },
  {
   "cell_type": "code",
   "execution_count": 6,
   "metadata": {},
   "outputs": [],
   "source": [
    "#remove column not needed for the analysis\n",
    "data_country.drop(['pop_2013_thousand'], axis = 1, inplace=True)"
   ]
  },
  {
   "cell_type": "markdown",
   "metadata": {},
   "source": [
    "<h3>Diet caracterisitics : proteins and calories </h3>"
   ]
  },
  {
   "cell_type": "markdown",
   "metadata": {},
   "source": [
    "- Food supply kcal per capita per day - per country\n",
    "- Protein supply g per capita per day - per country\n",
    "- Growth of the protein supply per capita per country (%) - 2017 vs 2013"
   ]
  },
  {
   "cell_type": "code",
   "execution_count": 7,
   "metadata": {},
   "outputs": [],
   "source": [
    "temp = data.loc[data['year']==2017].pivot_table(index=['country_code', 'country'], \\\n",
    "                        values=['food_supply_kcalcapitaday',  'protein_supply_quantity_gcapitaday'], aggfunc=sum)\n",
    "temp.columns = ['food_supply_kcalcapitaday_2017', 'protein_supply_gcapitaday_2017']\n",
    "temp = temp.reset_index()\n",
    "\n",
    "data_country = pd.merge(temp, data_country, how='left')"
   ]
  },
  {
   "cell_type": "markdown",
   "metadata": {},
   "source": [
    "- Food supply kcal per country (kcal)\n",
    "- Protein supply per country (kg)\n",
    "- Growth of the protein supply per country (%) - 2017 vs 2013"
   ]
  },
  {
   "cell_type": "markdown",
   "metadata": {},
   "source": [
    "**Animal proteins in the total protein supply**\n",
    "\n",
    "- Protein supply kg from animals - per country\n",
    "- Growth of the protein supply per country (%) from animals - 2017 vs 2013"
   ]
  },
  {
   "cell_type": "code",
   "execution_count": 8,
   "metadata": {},
   "outputs": [],
   "source": [
    "NB_DAYS_YEAR = 365 \n",
    "\n",
    "#total protein supply\n",
    "data_country['protein_supply_kg_2017'] = \\\n",
    "    data_country['protein_supply_gcapitaday_2017']/1000 * NB_DAYS_YEAR *data_country['pop_2017_thousand']*1000"
   ]
  },
  {
   "cell_type": "code",
   "execution_count": 9,
   "metadata": {},
   "outputs": [],
   "source": [
    "# protein supply from animals\n",
    "temp = data.loc[(data['origin']=='animal') & (data['year']==2017)].pivot_table(index=['country_code', 'country'], \\\n",
    "                                                      values=[ 'protein_supply_quantity_gcapitaday'], aggfunc=sum)\n",
    "temp.columns = ['protein_supply_animal_gcapitaday_2017']\n",
    "temp.reset_index(inplace=True)\n",
    "\n",
    "data_country = pd.merge(data_country, temp, how='left')"
   ]
  },
  {
   "cell_type": "code",
   "execution_count": 10,
   "metadata": {},
   "outputs": [],
   "source": [
    "# prevalence animal proteins in the total protein supply\n",
    "data_country['protein_supply_animal_kg_2017'] = \\\n",
    "    data_country['protein_supply_animal_gcapitaday_2017']/1000 * NB_DAYS_YEAR *data_country['pop_2017_thousand']*1000\n",
    "\n",
    "data_country['prevalence_protein_animal_percent_2017'] = \\\n",
    "    data_country['protein_supply_animal_kg_2017'] / data_country['protein_supply_kg_2017'] * 100"
   ]
  },
  {
   "cell_type": "code",
   "execution_count": 11,
   "metadata": {},
   "outputs": [],
   "source": [
    "#remove column not needed for the analysis\n",
    "data_country.drop(['protein_supply_animal_kg_2017', 'protein_supply_kg_2017', 'protein_supply_animal_gcapitaday_2017'], \\\n",
    "                  axis = 1, inplace=True)"
   ]
  },
  {
   "cell_type": "markdown",
   "metadata": {},
   "source": [
    "<h3>Gross Domestic Product (GDP) per capita</h3>"
   ]
  },
  {
   "cell_type": "markdown",
   "metadata": {},
   "source": [
    "- GDP per capita (USD)\n",
    "- GDP Growth - 2017 vs 2013"
   ]
  },
  {
   "cell_type": "code",
   "execution_count": 12,
   "metadata": {},
   "outputs": [],
   "source": [
    "gdp.columns = [\"xx\", \"xx2\", \"country_code\", \"country\", 'xx3', 'xx4', 'xx5', 'item', 'xx6', \"year\", \"xx7\", \"value\", 'xx8', 'xx9', 'xx10']\n",
    "gdp = gdp.loc[(gdp['item'] == 'Gross Domestic Product per capita') & (gdp['year']==2017)].pivot_table(\\\n",
    "                                                                                                      index=['country_code', \"country\"], columns = ['item'], values=['value'])\n",
    "gdp.columns = ['gdp_percapita_usd_2017']\n",
    "gdp.reset_index(inplace=True)\n",
    "\n",
    "data_country = pd.merge(data_country, gdp, how='left')"
   ]
  },
  {
   "cell_type": "markdown",
   "metadata": {},
   "source": [
    "GDP of Taiwan is missing. \n",
    "Imputation with information collected from the International Monetary Fund (IMF).\n",
    "- GDP per capita 2017 : 50 593 USD\n",
    "\n",
    "Source: https://bit.ly/2U2251b"
   ]
  },
  {
   "cell_type": "code",
   "execution_count": 13,
   "metadata": {},
   "outputs": [],
   "source": [
    "data_country.loc[data_country['country'] == 'China, Taiwan Province of', 'gdp_percapita_usd_2017'] = 50593"
   ]
  },
  {
   "cell_type": "markdown",
   "metadata": {},
   "source": [
    "<h3>Political Stability</h3>"
   ]
  },
  {
   "cell_type": "code",
   "execution_count": 14,
   "metadata": {},
   "outputs": [],
   "source": [
    "stability.columns = [\"xx\", \"xx2\", \"country_code\", \"country\", 'xx3', 'xx4', 'xx5', 'item', 'xx6', \"xx8\", \"xx8\", \"value\", 'xx9', 'xx10', 'xx11']\n",
    "stability = stability.pivot_table(index=['country_code', 'country'], columns = ['item'], values=['value'])\n",
    "stability.columns = ['political_stability_index']\n",
    "stability.reset_index(inplace=True)\n",
    "\n",
    "data_country = pd.merge(data_country, stability, how='left')"
   ]
  },
  {
   "cell_type": "markdown",
   "metadata": {
    "variables": {
     "data_country.loc[data_country['political_stability_index'].isna()].country.tolist()": "[&#39;French Polynesia&#39;, &#39;Namibia&#39;, &#39;New Caledonia&#39;]"
    }
   },
   "source": [
    "Countries with no political stability index: {{data_country.loc[data_country['political_stability_index'].isna()].country.tolist()}}\n",
    "\n",
    "- Imputation possible for the 2 French territories (French Polynesia and New Caledonia) with France's index.\n",
    "- Imputation possible for Namibia with United Arab Emirates' index - the political stability index of the UAE is the closest (and almost equivalent) of Namibia in 2017 (source: World Bank - https://www.theglobaleconomy.com/rankings/wb_political_stability/)"
   ]
  },
  {
   "cell_type": "code",
   "execution_count": 15,
   "metadata": {},
   "outputs": [],
   "source": [
    "# imputation French Polynesia and New Caledonia\n",
    "for z in ['French Polynesia', 'New Caledonia']:\n",
    "    data_country.loc[data_country['country'] == z, 'political_stability_index'] = \\\n",
    "                                            data_country.loc[data_country['country'] == 'France']['political_stability_index'].values\n",
    "\n",
    "# imputation Namibia\n",
    "data_country.loc[data_country['country'] == 'Namibia', 'political_stability_index'] = \\\n",
    "                                            data_country.loc[data_country['country'] == 'United Arab Emirates']['political_stability_index'].values"
   ]
  },
  {
   "cell_type": "markdown",
   "metadata": {},
   "source": [
    "<h3>Poultry (with eggs)</h3>\n",
    "\n"
   ]
  },
  {
   "cell_type": "markdown",
   "metadata": {},
   "source": [
    "Poultry are domesticated avian species that can be raised for eggs, meat and/or feathers. The term “poultry” covers a wide range of birds, from indigenous and commercial breeds of chickens to Muscovy ducks, mallard ducks, turkeys, guinea fowl, geese, quail, pigeons, ostriches and pheasants. \n",
    "\n",
    "- In 2017, chickens accounted for some 92 percent of the world’s poultry population, followed by ducks (5 percent), and turkeys (2 percent). \n",
    "- Chickens contribute 89 percent of world poultry meat production, followed by turkeys with 5 percent, ducks with 4 percent and geese and guinea fowl with 2 percent. The rest comes from other poultry species.\n",
    "- Chickens provide 92 percent of world egg production.\n",
    "\n",
    "source: http://www.fao.org/poultry-production-products/production/en/\n",
    "\n",
    "There is no granular data about chicken exclusively in the dataset 'animal' but the data for the category 'Poultry' (in which chicken is accounting around 90% of the total) give us a fair indicator of the chicken market in each country. \n",
    "\n",
    "Poultry composition: \n",
    "- Meat chicken, Fat liver prepared (foie gras), Meat chicken canned, Meat,duck, Meat goose and guinea fowl, Meat turkey.\n",
    "- Eggs are included"
   ]
  },
  {
   "cell_type": "code",
   "execution_count": 16,
   "metadata": {},
   "outputs": [],
   "source": [
    "temp = data.loc[(data['item'] == 'Poultry Meat')|(data['item'] == 'Eggs')].pivot_table(index=['country_code', 'country'], columns=['year'], \\\n",
    "                                                            values=['production', 'import_quantity'], aggfunc=sum)\n",
    "\n",
    "temp.columns = ['production_poultry_tons_2013', 'production_poultry_tons_2017', 'import_poultry_tons_2013', 'import_poultry_tons_2017']\n",
    "\n",
    "temp.reset_index(inplace=True)\n",
    "\n",
    "#convert 1000 tons to tons\n",
    "for z in temp.iloc[:, [2,3,4,5]].columns:\n",
    "    temp[str(z)] = temp[str(z)] * 1000\n",
    "\n",
    "data_country = pd.merge(data_country, temp, how='left')"
   ]
  },
  {
   "cell_type": "code",
   "execution_count": 17,
   "metadata": {},
   "outputs": [],
   "source": [
    "#growth Poultry imports\n",
    "data_country['import_poultry_growth'] = \\\n",
    "    np.where(data_country['import_poultry_tons_2013'] != 0, \\\n",
    "             (data_country['import_poultry_tons_2017'] / data_country['import_poultry_tons_2013'] - 1) * 100, 0)"
   ]
  },
  {
   "cell_type": "code",
   "execution_count": 18,
   "metadata": {},
   "outputs": [],
   "source": [
    "#remove column not needed for the analysis\n",
    "data_country.drop(['production_poultry_tons_2013', 'import_poultry_tons_2013'], axis = 1, inplace=True)"
   ]
  },
  {
   "cell_type": "markdown",
   "metadata": {},
   "source": [
    "<h3>Chicken Importations (with eggs)</h3>"
   ]
  },
  {
   "cell_type": "markdown",
   "metadata": {},
   "source": [
    "Data are from the food and agricultural trade dataset collected, processed and disseminated by FAO. The data is mainly provided by UNSD, Eurostat, and other national authorities as needed.\n",
    "- Import quantity of 'chicken' per country\n",
    "- Import value of 'chicken' per country\n",
    "\n",
    "The category 'chicken' is made of 'chicken', 'meat, chicken', 'meat, chicken, canned', 'offals, liver chicken' + 'Eggs' were also included.\n",
    "<br>Offals liver chicken was not available in the 'Poultry' section on the previous section.  "
   ]
  },
  {
   "cell_type": "code",
   "execution_count": 19,
   "metadata": {},
   "outputs": [],
   "source": [
    "chicken_trade.columns =['xx', 'xx2', 'country_code', 'country', 'partner_country_code', 'partner_country', 'xx6', \\\n",
    "                        'element', 'xx8', 'xx9', 'xx10', 'year', 'unit', 'value', 'xx13', 'xx14', 'xx15']\n",
    "\n",
    "# there is a disruptancy on the name of the UK between the FAO trade dataset and other FAO datasets\n",
    "chicken_trade.loc[chicken_trade['country'] == 'United Kingdom', 'country'] = 'United Kingdom of Great Britain and Northern Ireland'\n",
    "chicken_trade.loc[chicken_trade['partner_country'] == 'United Kingdom', 'partner_country'] = 'United Kingdom of Great Britain and Northern Ireland'"
   ]
  },
  {
   "cell_type": "code",
   "execution_count": 20,
   "metadata": {},
   "outputs": [],
   "source": [
    "#Imports of chicken per country - in quantity and value\n",
    "\n",
    "chicken_import = chicken_trade.loc[((chicken_trade['element'] == 'Import Value') | (chicken_trade['element'] == 'Import Quantity')) \\\n",
    "                                  & (chicken_trade['unit'] != '1000 Head')]\n",
    "\n",
    "chicken_import = chicken_import.pivot_table(index=[\"country_code\", \"country\"], columns=['year', 'element'], values=['value'], aggfunc=sum)\n",
    "\n",
    "chicken_import.columns = ['import_chicken_quantity_tons_2013', 'import_chicken_value_thousand_usd_2013', 'import_chicken_quantity_tons_2017', \\\n",
    "                         'import_chicken_value_thousand_usd_2017']\n",
    "chicken_import.reset_index(inplace=True)\n",
    "\n",
    "data_country = pd.merge(data_country, chicken_import, how='left')"
   ]
  },
  {
   "cell_type": "code",
   "execution_count": 21,
   "metadata": {},
   "outputs": [],
   "source": [
    "country_no_report_import_chicken = \\\n",
    "    data_country.loc[(data_country['import_chicken_quantity_tons_2017'].isna()) | (data_country['import_chicken_quantity_tons_2013'].isna())]"
   ]
  },
  {
   "cell_type": "markdown",
   "metadata": {
    "variables": {
     " len(country_no_report_import_chicken)": "45",
     "country_no_report_import_chicken.country.tolist()": "[&#39;Afghanistan&#39;,\n &#39;Angola&#39;,\n &#39;Bangladesh&#39;,\n &#39;Myanmar&#39;,\n &#39;Cameroon&#39;,\n &#39;Chad&#39;,\n &#39;Cuba&#39;,\n &#39;Dominica&#39;,\n &#39;Dominican Republic&#39;,\n &#39;Djibouti&#39;,\n &#39;Gabon&#39;,\n &#39;Kiribati&#39;,\n &#39;Grenada&#39;,\n &#39;Guinea&#39;,\n &#39;Haiti&#39;,\n &#39;Honduras&#39;,\n &#39;Iran (Islamic Republic of)&#39;,\n &#39;Iraq&#39;,\n &#39;Kyrgyzstan&#39;,\n &quot;Democratic People&#39;s Republic of Korea&quot;,\n &quot;Lao People&#39;s Democratic Republic&quot;,\n &#39;Lesotho&#39;,\n &#39;Liberia&#39;,\n &#39;China, Macao SAR&#39;,\n &#39;Mali&#39;,\n &#39;Mongolia&#39;,\n &#39;Mozambique&#39;,\n &#39;Vanuatu&#39;,\n &#39;Nigeria&#39;,\n &#39;Guinea-Bissau&#39;,\n &#39;Timor-Leste&#39;,\n &#39;Saint Kitts and Nevis&#39;,\n &#39;Saint Lucia&#39;,\n &#39;Saint Vincent and the Grenadines&#39;,\n &#39;Sierra Leone&#39;,\n &#39;Suriname&#39;,\n &#39;Tajikistan&#39;,\n &#39;Eswatini&#39;,\n &#39;Turkmenistan&#39;,\n &#39;Trinidad and Tobago&#39;,\n &#39;United Arab Emirates&#39;,\n &#39;Uzbekistan&#39;,\n &#39;Viet Nam&#39;,\n &#39;Samoa&#39;,\n &#39;Sudan&#39;]"
    }
   },
   "source": [
    "{{ len(country_no_report_import_chicken)}} countries do have missing information about chicken importations due to the absence of reports in 2013 or 2017:\n",
    "\n",
    "{{country_no_report_import_chicken.country.tolist()}}"
   ]
  },
  {
   "cell_type": "markdown",
   "metadata": {},
   "source": [
    "We will get an approximation of these imports through the declaration of exports from partner countries."
   ]
  },
  {
   "cell_type": "code",
   "execution_count": 22,
   "metadata": {},
   "outputs": [],
   "source": [
    "# getting information about the chicken imports on the countries not reporting the imports through the export reports from other countries.\n",
    "\n",
    "chicken_export = chicken_trade.loc[((chicken_trade['element'] == 'Export Quantity') | (chicken_trade['element'] == 'Export Value')) \\\n",
    "                                  & (chicken_trade['unit'] != '1000 Head')]\n",
    "\n",
    "# Export of chicken to countries not reporting any chicken imports\n",
    "chicken_export_to_countries_noreport = chicken_export.loc[chicken_export['partner_country'].isin(country_no_report_import_chicken.country)]\n",
    "\n",
    "chicken_export_to_countries_noreport = chicken_export_to_countries_noreport.pivot_table(\\\n",
    "                                                                                       index=['partner_country_code', 'partner_country'], columns=['year', 'element'], values=['value'], aggfunc=sum)\n",
    "\n",
    "chicken_export_to_countries_noreport.columns = ['import_chicken_quantity_tons_2013', 'import_chicken_value_thousand_usd_2013', \\\n",
    "                                                'import_chicken_quantity_tons_2017', 'import_chicken_value_thousand_usd_2017']\n",
    "chicken_export_to_countries_noreport.reset_index(inplace=True)\n",
    "\n",
    "chicken_export_to_countries_noreport.rename(columns = {'partner_country_code':'country_code', 'partner_country':'country'}, inplace=True)"
   ]
  },
  {
   "cell_type": "code",
   "execution_count": 23,
   "metadata": {},
   "outputs": [],
   "source": [
    "data_country.set_index('country', inplace=True)\n",
    "chicken_export_to_countries_noreport.set_index('country', inplace=True)\n",
    "\n",
    "#overlapping values from chicken export to data_country for the countries not reporting their imports\n",
    "data_country = data_country.combine_first(chicken_export_to_countries_noreport)\n",
    "data_country.reset_index(inplace=True)"
   ]
  },
  {
   "cell_type": "code",
   "execution_count": 24,
   "metadata": {},
   "outputs": [],
   "source": [
    "data_country['import_chicken_quantity_growth_percent'] = \\\n",
    "    (data_country['import_chicken_quantity_tons_2017'] / data_country['import_chicken_quantity_tons_2013'] - 1) *100\n",
    "\n",
    "data_country['import_chicken_ratio_usd_tons_2017'] = \\\n",
    "    data_country['import_chicken_value_thousand_usd_2017'] * 1000 / data_country['import_chicken_quantity_tons_2017']"
   ]
  },
  {
   "cell_type": "code",
   "execution_count": 25,
   "metadata": {},
   "outputs": [],
   "source": [
    "#remove column not needed for the analysis\n",
    "data_country.drop(['import_chicken_value_thousand_usd_2013', 'import_chicken_quantity_tons_2013',\\\n",
    "                  'import_chicken_value_thousand_usd_2017'], axis = 1, inplace=True)"
   ]
  },
  {
   "cell_type": "code",
   "execution_count": 26,
   "metadata": {},
   "outputs": [
    {
     "data": {
      "text/html": [
       "<div>\n",
       "<style scoped>\n",
       "    .dataframe tbody tr th:only-of-type {\n",
       "        vertical-align: middle;\n",
       "    }\n",
       "\n",
       "    .dataframe tbody tr th {\n",
       "        vertical-align: top;\n",
       "    }\n",
       "\n",
       "    .dataframe thead th {\n",
       "        text-align: right;\n",
       "    }\n",
       "</style>\n",
       "<table border=\"1\" class=\"dataframe\">\n",
       "  <thead>\n",
       "    <tr style=\"text-align: right;\">\n",
       "      <th></th>\n",
       "      <th>country</th>\n",
       "      <th>country_code</th>\n",
       "      <th>food_supply_kcalcapitaday_2017</th>\n",
       "      <th>gdp_percapita_usd_2017</th>\n",
       "      <th>import_chicken_quantity_tons_2017</th>\n",
       "      <th>import_poultry_growth</th>\n",
       "      <th>import_poultry_tons_2017</th>\n",
       "      <th>political_stability_index</th>\n",
       "      <th>pop_2017_thousand</th>\n",
       "      <th>pop_growth_percent</th>\n",
       "      <th>prevalence_protein_animal_percent_2017</th>\n",
       "      <th>production_poultry_tons_2017</th>\n",
       "      <th>protein_supply_gcapitaday_2017</th>\n",
       "      <th>import_chicken_quantity_growth_percent</th>\n",
       "      <th>import_chicken_ratio_usd_tons_2017</th>\n",
       "    </tr>\n",
       "  </thead>\n",
       "  <tbody>\n",
       "    <tr>\n",
       "      <th>0</th>\n",
       "      <td>Afghanistan</td>\n",
       "      <td>2</td>\n",
       "      <td>1997.0</td>\n",
       "      <td>468.297893</td>\n",
       "      <td>70001.0</td>\n",
       "      <td>9.090909</td>\n",
       "      <td>48000.0</td>\n",
       "      <td>-2.78</td>\n",
       "      <td>36296.113</td>\n",
       "      <td>12.477767</td>\n",
       "      <td>19.523017</td>\n",
       "      <td>83000.0</td>\n",
       "      <td>54.09</td>\n",
       "      <td>64.086637</td>\n",
       "      <td>1234.310938</td>\n",
       "    </tr>\n",
       "    <tr>\n",
       "      <th>1</th>\n",
       "      <td>Albania</td>\n",
       "      <td>3</td>\n",
       "      <td>3400.0</td>\n",
       "      <td>3347.701760</td>\n",
       "      <td>40034.0</td>\n",
       "      <td>-1.538462</td>\n",
       "      <td>64000.0</td>\n",
       "      <td>0.40</td>\n",
       "      <td>2884.169</td>\n",
       "      <td>-0.675703</td>\n",
       "      <td>55.497908</td>\n",
       "      <td>38000.0</td>\n",
       "      <td>119.50</td>\n",
       "      <td>66.669442</td>\n",
       "      <td>1314.332817</td>\n",
       "    </tr>\n",
       "    <tr>\n",
       "      <th>2</th>\n",
       "      <td>Algeria</td>\n",
       "      <td>4</td>\n",
       "      <td>3345.0</td>\n",
       "      <td>3264.338962</td>\n",
       "      <td>1991.0</td>\n",
       "      <td>4.724409</td>\n",
       "      <td>665000.0</td>\n",
       "      <td>-0.96</td>\n",
       "      <td>41389.189</td>\n",
       "      <td>8.518733</td>\n",
       "      <td>27.679052</td>\n",
       "      <td>2000.0</td>\n",
       "      <td>92.85</td>\n",
       "      <td>-26.774549</td>\n",
       "      <td>12734.304370</td>\n",
       "    </tr>\n",
       "    <tr>\n",
       "      <th>3</th>\n",
       "      <td>Angola</td>\n",
       "      <td>7</td>\n",
       "      <td>2266.0</td>\n",
       "      <td>2805.692595</td>\n",
       "      <td>267388.0</td>\n",
       "      <td>34.285714</td>\n",
       "      <td>47000.0</td>\n",
       "      <td>-0.29</td>\n",
       "      <td>29816.766</td>\n",
       "      <td>14.610305</td>\n",
       "      <td>30.449251</td>\n",
       "      <td>300000.0</td>\n",
       "      <td>54.09</td>\n",
       "      <td>-22.429454</td>\n",
       "      <td>1014.503269</td>\n",
       "    </tr>\n",
       "    <tr>\n",
       "      <th>4</th>\n",
       "      <td>Antigua and Barbuda</td>\n",
       "      <td>8</td>\n",
       "      <td>2429.0</td>\n",
       "      <td>10549.721325</td>\n",
       "      <td>6455.0</td>\n",
       "      <td>0.000000</td>\n",
       "      <td>0.0</td>\n",
       "      <td>0.76</td>\n",
       "      <td>95.426</td>\n",
       "      <td>4.272477</td>\n",
       "      <td>66.605052</td>\n",
       "      <td>7000.0</td>\n",
       "      <td>81.15</td>\n",
       "      <td>9.965928</td>\n",
       "      <td>1979.705655</td>\n",
       "    </tr>\n",
       "    <tr>\n",
       "      <th>...</th>\n",
       "      <td>...</td>\n",
       "      <td>...</td>\n",
       "      <td>...</td>\n",
       "      <td>...</td>\n",
       "      <td>...</td>\n",
       "      <td>...</td>\n",
       "      <td>...</td>\n",
       "      <td>...</td>\n",
       "      <td>...</td>\n",
       "      <td>...</td>\n",
       "      <td>...</td>\n",
       "      <td>...</td>\n",
       "      <td>...</td>\n",
       "      <td>...</td>\n",
       "      <td>...</td>\n",
       "    </tr>\n",
       "    <tr>\n",
       "      <th>167</th>\n",
       "      <td>Venezuela (Bolivarian Republic of)</td>\n",
       "      <td>236</td>\n",
       "      <td>2247.0</td>\n",
       "      <td>6042.349852</td>\n",
       "      <td>25033.0</td>\n",
       "      <td>-32.088889</td>\n",
       "      <td>764000.0</td>\n",
       "      <td>-1.18</td>\n",
       "      <td>29402.484</td>\n",
       "      <td>-1.271131</td>\n",
       "      <td>45.115453</td>\n",
       "      <td>25000.0</td>\n",
       "      <td>56.30</td>\n",
       "      <td>-91.089620</td>\n",
       "      <td>2464.027484</td>\n",
       "    </tr>\n",
       "    <tr>\n",
       "      <th>168</th>\n",
       "      <td>Viet Nam</td>\n",
       "      <td>237</td>\n",
       "      <td>2938.0</td>\n",
       "      <td>1619.296641</td>\n",
       "      <td>363681.0</td>\n",
       "      <td>43.422354</td>\n",
       "      <td>1450000.0</td>\n",
       "      <td>0.31</td>\n",
       "      <td>94600.648</td>\n",
       "      <td>4.240161</td>\n",
       "      <td>40.875264</td>\n",
       "      <td>295000.0</td>\n",
       "      <td>90.03</td>\n",
       "      <td>-30.725185</td>\n",
       "      <td>1082.748343</td>\n",
       "    </tr>\n",
       "    <tr>\n",
       "      <th>169</th>\n",
       "      <td>Yemen</td>\n",
       "      <td>249</td>\n",
       "      <td>2062.0</td>\n",
       "      <td>515.814155</td>\n",
       "      <td>77952.0</td>\n",
       "      <td>6.363636</td>\n",
       "      <td>234000.0</td>\n",
       "      <td>-2.96</td>\n",
       "      <td>27834.819</td>\n",
       "      <td>10.687948</td>\n",
       "      <td>20.060105</td>\n",
       "      <td>78000.0</td>\n",
       "      <td>53.24</td>\n",
       "      <td>-28.257989</td>\n",
       "      <td>1554.674672</td>\n",
       "    </tr>\n",
       "    <tr>\n",
       "      <th>170</th>\n",
       "      <td>Zambia</td>\n",
       "      <td>251</td>\n",
       "      <td>2008.0</td>\n",
       "      <td>1115.460621</td>\n",
       "      <td>12070.0</td>\n",
       "      <td>0.000000</td>\n",
       "      <td>101000.0</td>\n",
       "      <td>0.11</td>\n",
       "      <td>16853.599</td>\n",
       "      <td>12.910256</td>\n",
       "      <td>19.776498</td>\n",
       "      <td>12000.0</td>\n",
       "      <td>59.06</td>\n",
       "      <td>669.279796</td>\n",
       "      <td>921.043911</td>\n",
       "    </tr>\n",
       "    <tr>\n",
       "      <th>171</th>\n",
       "      <td>Zimbabwe</td>\n",
       "      <td>181</td>\n",
       "      <td>2167.0</td>\n",
       "      <td>882.887864</td>\n",
       "      <td>6600.0</td>\n",
       "      <td>4.255319</td>\n",
       "      <td>98000.0</td>\n",
       "      <td>-0.77</td>\n",
       "      <td>14236.595</td>\n",
       "      <td>6.638182</td>\n",
       "      <td>22.695313</td>\n",
       "      <td>7000.0</td>\n",
       "      <td>51.20</td>\n",
       "      <td>11.448835</td>\n",
       "      <td>1482.424242</td>\n",
       "    </tr>\n",
       "  </tbody>\n",
       "</table>\n",
       "<p>172 rows × 15 columns</p>\n",
       "</div>"
      ],
      "text/plain": [
       "                                country  country_code  \\\n",
       "0                           Afghanistan             2   \n",
       "1                               Albania             3   \n",
       "2                               Algeria             4   \n",
       "3                                Angola             7   \n",
       "4                   Antigua and Barbuda             8   \n",
       "..                                  ...           ...   \n",
       "167  Venezuela (Bolivarian Republic of)           236   \n",
       "168                            Viet Nam           237   \n",
       "169                               Yemen           249   \n",
       "170                              Zambia           251   \n",
       "171                            Zimbabwe           181   \n",
       "\n",
       "     food_supply_kcalcapitaday_2017  gdp_percapita_usd_2017  \\\n",
       "0                            1997.0              468.297893   \n",
       "1                            3400.0             3347.701760   \n",
       "2                            3345.0             3264.338962   \n",
       "3                            2266.0             2805.692595   \n",
       "4                            2429.0            10549.721325   \n",
       "..                              ...                     ...   \n",
       "167                          2247.0             6042.349852   \n",
       "168                          2938.0             1619.296641   \n",
       "169                          2062.0              515.814155   \n",
       "170                          2008.0             1115.460621   \n",
       "171                          2167.0              882.887864   \n",
       "\n",
       "     import_chicken_quantity_tons_2017  import_poultry_growth  \\\n",
       "0                              70001.0               9.090909   \n",
       "1                              40034.0              -1.538462   \n",
       "2                               1991.0               4.724409   \n",
       "3                             267388.0              34.285714   \n",
       "4                               6455.0               0.000000   \n",
       "..                                 ...                    ...   \n",
       "167                            25033.0             -32.088889   \n",
       "168                           363681.0              43.422354   \n",
       "169                            77952.0               6.363636   \n",
       "170                            12070.0               0.000000   \n",
       "171                             6600.0               4.255319   \n",
       "\n",
       "     import_poultry_tons_2017  political_stability_index  pop_2017_thousand  \\\n",
       "0                     48000.0                      -2.78          36296.113   \n",
       "1                     64000.0                       0.40           2884.169   \n",
       "2                    665000.0                      -0.96          41389.189   \n",
       "3                     47000.0                      -0.29          29816.766   \n",
       "4                         0.0                       0.76             95.426   \n",
       "..                        ...                        ...                ...   \n",
       "167                  764000.0                      -1.18          29402.484   \n",
       "168                 1450000.0                       0.31          94600.648   \n",
       "169                  234000.0                      -2.96          27834.819   \n",
       "170                  101000.0                       0.11          16853.599   \n",
       "171                   98000.0                      -0.77          14236.595   \n",
       "\n",
       "     pop_growth_percent  prevalence_protein_animal_percent_2017  \\\n",
       "0             12.477767                               19.523017   \n",
       "1             -0.675703                               55.497908   \n",
       "2              8.518733                               27.679052   \n",
       "3             14.610305                               30.449251   \n",
       "4              4.272477                               66.605052   \n",
       "..                  ...                                     ...   \n",
       "167           -1.271131                               45.115453   \n",
       "168            4.240161                               40.875264   \n",
       "169           10.687948                               20.060105   \n",
       "170           12.910256                               19.776498   \n",
       "171            6.638182                               22.695313   \n",
       "\n",
       "     production_poultry_tons_2017  protein_supply_gcapitaday_2017  \\\n",
       "0                         83000.0                           54.09   \n",
       "1                         38000.0                          119.50   \n",
       "2                          2000.0                           92.85   \n",
       "3                        300000.0                           54.09   \n",
       "4                          7000.0                           81.15   \n",
       "..                            ...                             ...   \n",
       "167                       25000.0                           56.30   \n",
       "168                      295000.0                           90.03   \n",
       "169                       78000.0                           53.24   \n",
       "170                       12000.0                           59.06   \n",
       "171                        7000.0                           51.20   \n",
       "\n",
       "     import_chicken_quantity_growth_percent  \\\n",
       "0                                 64.086637   \n",
       "1                                 66.669442   \n",
       "2                                -26.774549   \n",
       "3                                -22.429454   \n",
       "4                                  9.965928   \n",
       "..                                      ...   \n",
       "167                              -91.089620   \n",
       "168                              -30.725185   \n",
       "169                              -28.257989   \n",
       "170                              669.279796   \n",
       "171                               11.448835   \n",
       "\n",
       "     import_chicken_ratio_usd_tons_2017  \n",
       "0                           1234.310938  \n",
       "1                           1314.332817  \n",
       "2                          12734.304370  \n",
       "3                           1014.503269  \n",
       "4                           1979.705655  \n",
       "..                                  ...  \n",
       "167                         2464.027484  \n",
       "168                         1082.748343  \n",
       "169                         1554.674672  \n",
       "170                          921.043911  \n",
       "171                         1482.424242  \n",
       "\n",
       "[172 rows x 15 columns]"
      ]
     },
     "execution_count": 26,
     "metadata": {},
     "output_type": "execute_result"
    }
   ],
   "source": [
    "data_country"
   ]
  },
  {
   "cell_type": "code",
   "execution_count": 27,
   "metadata": {},
   "outputs": [
    {
     "data": {
      "text/plain": [
       "Index(['country', 'country_code', 'food_supply_kcalcapitaday_2017',\n",
       "       'gdp_percapita_usd_2017', 'import_chicken_quantity_tons_2017',\n",
       "       'import_poultry_growth', 'import_poultry_tons_2017',\n",
       "       'political_stability_index', 'pop_2017_thousand', 'pop_growth_percent',\n",
       "       'prevalence_protein_animal_percent_2017',\n",
       "       'production_poultry_tons_2017', 'protein_supply_gcapitaday_2017',\n",
       "       'import_chicken_quantity_growth_percent',\n",
       "       'import_chicken_ratio_usd_tons_2017'],\n",
       "      dtype='object')"
      ]
     },
     "execution_count": 27,
     "metadata": {},
     "output_type": "execute_result"
    }
   ],
   "source": [
    "data_country.columns"
   ]
  },
  {
   "cell_type": "code",
   "execution_count": 28,
   "metadata": {},
   "outputs": [
    {
     "data": {
      "text/plain": [
       "country                                   False\n",
       "country_code                              False\n",
       "food_supply_kcalcapitaday_2017            False\n",
       "gdp_percapita_usd_2017                    False\n",
       "import_chicken_quantity_tons_2017         False\n",
       "import_poultry_growth                     False\n",
       "import_poultry_tons_2017                  False\n",
       "political_stability_index                 False\n",
       "pop_2017_thousand                         False\n",
       "pop_growth_percent                        False\n",
       "prevalence_protein_animal_percent_2017    False\n",
       "production_poultry_tons_2017              False\n",
       "protein_supply_gcapitaday_2017            False\n",
       "import_chicken_quantity_growth_percent    False\n",
       "import_chicken_ratio_usd_tons_2017        False\n",
       "dtype: bool"
      ]
     },
     "execution_count": 28,
     "metadata": {},
     "output_type": "execute_result"
    }
   ],
   "source": [
    "data_country.isna().any()"
   ]
  },
  {
   "cell_type": "markdown",
   "metadata": {},
   "source": [
    "<h2>Export Dataset data_country</h2>"
   ]
  },
  {
   "cell_type": "code",
   "execution_count": 29,
   "metadata": {},
   "outputs": [],
   "source": [
    "data_country.to_csv(r'data/output/data_country.csv', index = False)"
   ]
  }
 ],
 "metadata": {
  "kernelspec": {
   "display_name": "Python 3",
   "language": "python",
   "name": "python3"
  },
  "language_info": {
   "codemirror_mode": {
    "name": "ipython",
    "version": 3
   },
   "file_extension": ".py",
   "mimetype": "text/x-python",
   "name": "python",
   "nbconvert_exporter": "python",
   "pygments_lexer": "ipython3",
   "version": "3.7.6"
  },
  "toc": {
   "base_numbering": 1,
   "nav_menu": {},
   "number_sections": false,
   "sideBar": true,
   "skip_h1_title": false,
   "title_cell": "Table of Contents",
   "title_sidebar": "Contents",
   "toc_cell": false,
   "toc_position": {
    "height": "calc(100% - 180px)",
    "left": "10px",
    "top": "150px",
    "width": "216.533px"
   },
   "toc_section_display": true,
   "toc_window_display": true
  }
 },
 "nbformat": 4,
 "nbformat_minor": 4
}

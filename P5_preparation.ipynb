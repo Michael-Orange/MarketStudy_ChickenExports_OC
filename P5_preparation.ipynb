{
 "cells": [
  {
   "cell_type": "markdown",
   "metadata": {},
   "source": [
    "<h2>Market Study - Chicken Exports</h2>"
   ]
  },
  {
   "cell_type": "markdown",
   "metadata": {},
   "source": [
    "<a href=\"https://openclassrooms.com/en/\" >Openclassrooms</a>, Data Analyst Course\n",
    "<br>Project 5 - Michael Orange\n"
   ]
  },
  {
   "cell_type": "markdown",
   "metadata": {},
   "source": [
    "<hr>"
   ]
  },
  {
   "cell_type": "markdown",
   "metadata": {},
   "source": [
    "A company in the food industry specialized in chicken is looking at expanding worldwide. All countries are considered. \n",
    "<br>The main objective is to provide the company with data ensuring it will collaborate with the most promising export market countries. \n",
    "\n",
    "Grouping countries in 'clusters' based on their similarity is required. \n",
    "<br>Default variables are: \n",
    "- population growth, \n",
    "- calory supply per capita and protein supply per capita, \n",
    "- prevalence of animal proteins in the mix. \n",
    "\n",
    "Additional relevant variable might be included (ex. GDP per capita)"
   ]
  },
  {
   "cell_type": "markdown",
   "metadata": {},
   "source": [
    "<hr>\n",
    "\n",
    "**Section 1** [Importing FAOSTAT Datasets](#import)\n",
    "\n",
    "\n",
    "**Section 2** [Adding General information](#general)\n",
    "- [Population](#pop)\n",
    "- [Gross Domestic Product](#gdp)\n",
    "- [Political Stability](#stab)\n",
    "- [European Union countries](#eu)\n",
    "    \n",
    "    \n",
    "**Section 3** [Adding Food-related data](#food)\n",
    "- [Food-Balance](#fb)\n",
    "- [Diet - Calories and Proteins](#diet)\n",
    "- [Poulty key data](#poultry)\n",
    "- [Chicken importations](#chicken)\n",
    "\n",
    "**Section 4** [Imputating missing data](#imputation)\n",
    "    \n",
    "**Section 5** [Exporting Data Country](#export) "
   ]
  },
  {
   "cell_type": "markdown",
   "metadata": {},
   "source": [
    "<hr>"
   ]
  },
  {
   "cell_type": "code",
   "execution_count": 1,
   "metadata": {},
   "outputs": [],
   "source": [
    "import numpy as np\n",
    "import pandas as pd\n",
    "import seaborn as sns"
   ]
  },
  {
   "cell_type": "markdown",
   "metadata": {},
   "source": [
    "<h2>Importing FAOSTAT Datasets</h2><a id='import'></a>"
   ]
  },
  {
   "cell_type": "markdown",
   "metadata": {},
   "source": [
    "Data are collected from The Food and Agriculture Organization Corporate Statistical Database (FAOSTAT). The FAOSTAT website disseminates statistical data collected and maintained by the Food and Agriculture Organization (FAO).\n",
    "\n",
    "FAOSTAT - Data collected (2013 and 2017 are selected for the below analysis): analysis is based on 2017 figures, with a comparaison from 2013 data. \n",
    "2017 is the most recent comprehensive data from FAOSTAT.\n",
    "\n",
    "- Datasets Food Balance Animal and Vegetal\n",
    "- Dataset Population\n",
    "- Dataset Gross Domestic Product (GDP)\n",
    "- Dataset Political Stability Index\n",
    "- Dataset Trade Mix - Chicken "
   ]
  },
  {
   "cell_type": "code",
   "execution_count": 2,
   "metadata": {},
   "outputs": [],
   "source": [
    "#import food datasets\n",
    "veg2013 = pd.read_csv(\"data/raw/vegetal2013.csv\")\n",
    "ani2013 = pd.read_csv(\"data/raw/animal2013.csv\")\n",
    "veg2017 = pd.read_csv('data/raw/vegetal2017.csv', dtype={'Note': str })\n",
    "ani2017 = pd.read_csv(\"data/raw/animal2017.csv\")\n",
    "ani2013[\"origin\"] = \"animal\"\n",
    "veg2013[\"origin\"] = \"vegetal\"\n",
    "ani2017[\"origin\"] = \"animal\"\n",
    "veg2017[\"origin\"] = \"vegetal\"\n",
    "\n",
    "#import population\n",
    "pop = pd.read_csv(\"data/raw/FAOSTAT_data_Population_2013-2017.csv\")\n",
    "\n",
    "# import GDP and Stability\n",
    "gdp = pd.read_csv(\"data/raw/FAOSTAT_data_MacroIndicators_20132017.csv\")\n",
    "stability = pd.read_csv(\"data/raw/FAOSTAT_data_PoliticalStability_2017.csv\")\n",
    "\n",
    "# import chicken trade\n",
    "chicken_trade = pd.read_csv(\"data/raw/FAOSTAT_data_Trade_Chicken_20132017.csv\")\n",
    "\n",
    "# import EU countries\n",
    "eu_country = pd.read_csv(\"data/raw/listofeucountries_csv\")"
   ]
  },
  {
   "cell_type": "markdown",
   "metadata": {},
   "source": [
    "<hr>"
   ]
  },
  {
   "cell_type": "markdown",
   "metadata": {},
   "source": [
    "<h2>Adding general information</h2><a id='general'></a>"
   ]
  },
  {
   "cell_type": "markdown",
   "metadata": {},
   "source": [
    "<h3>Population</h3><a id='pop'></a>"
   ]
  },
  {
   "cell_type": "markdown",
   "metadata": {},
   "source": [
    "Variables added to the dataset:\n",
    "- Population per country\n",
    "- Growth of the population (%) - 2017 vs 2013"
   ]
  },
  {
   "cell_type": "code",
   "execution_count": 3,
   "metadata": {},
   "outputs": [],
   "source": [
    "# population\n",
    "pop.columns = [\"xx\",\"xx2\",\"country_code\",\"country\", 'xx3', 'xx4', 'xx5','xx6', \n",
    "               'xx7', 'year',\"xx8\",\"population_total_thousand\",\"xx9\", 'xx10', 'xx11']\n",
    "\n",
    "pop = pop.drop([\"xx\",\"xx2\",'xx3','xx4','xx5', 'xx6', 'xx7','xx8', 'xx9', 'xx10', 'xx11'], axis = 1)\n",
    "pop.reset_index(drop=True, inplace=True)\n",
    "\n",
    "data_country = pop.pivot_table(index=['country_code', 'country'], columns = ['year'], values=['population_total_thousand'])\n",
    "data_country.columns = ['pop_2013_thousand', 'pop_2017_thousand']\n",
    "data_country.reset_index(inplace=True)\n",
    "\n",
    "#growth population\n",
    "data_country['pop_growth_percent'] = (data_country['pop_2017_thousand'] / data_country['pop_2013_thousand'] - 1) *100"
   ]
  },
  {
   "cell_type": "code",
   "execution_count": 4,
   "metadata": {},
   "outputs": [],
   "source": [
    "#remove column not needed for the analysis\n",
    "data_country.drop(['pop_2013_thousand'], axis = 1, inplace=True)"
   ]
  },
  {
   "cell_type": "markdown",
   "metadata": {},
   "source": [
    "<h3>Gross Domestic Product (GDP) per capita</h3><a id='gdp'></a>"
   ]
  },
  {
   "cell_type": "markdown",
   "metadata": {},
   "source": [
    "- GDP per capita (USD)\n",
    "- GDP Growth - 2017 vs 2013"
   ]
  },
  {
   "cell_type": "code",
   "execution_count": 5,
   "metadata": {},
   "outputs": [],
   "source": [
    "gdp.columns = [\"xx\", \"xx2\", \"country_code\", \"country\", 'xx3', 'xx4', 'xx5', 'item', 'xx6', \"year\", \"xx7\", \"value\", 'xx8', 'xx9', 'xx10']\n",
    "gdp = gdp.loc[gdp['item'] == 'Gross Domestic Product per capita'].pivot_table(\\\n",
    "                                                                                                      index=['country_code', \"country\"], columns = ['year', 'item'], values=['value'])\n",
    "gdp.columns = ['gdp_percapita_usd_2013', 'gdp_percapita_usd_2017']\n",
    "gdp.reset_index(inplace=True)\n",
    "\n",
    "data_country = pd.merge(data_country, gdp, how='left')"
   ]
  },
  {
   "cell_type": "markdown",
   "metadata": {},
   "source": [
    "GDP of Taiwan is missing. \n",
    "Imputation with information collected from the International Monetary Fund (IMF).\n",
    "- Taiwan GDP per capita 2013 : 43 831 USD \n",
    "- Taiwan GDP per capita 2017 : 50 593 USD \n",
    "Source: https://bit.ly/2U2251b"
   ]
  },
  {
   "cell_type": "code",
   "execution_count": 6,
   "metadata": {},
   "outputs": [],
   "source": [
    "# Imputation GDP Taiwan\n",
    "data_country.loc[data_country['country'] == 'China, Taiwan Province of', 'gdp_percapita_usd_2013'] = 43831\n",
    "data_country.loc[data_country['country'] == 'China, Taiwan Province of', 'gdp_percapita_usd_2017'] = 50593"
   ]
  },
  {
   "cell_type": "code",
   "execution_count": 7,
   "metadata": {},
   "outputs": [],
   "source": [
    "# Growth GDP\n",
    "data_country['gdp_growth'] = np.where(data_country['gdp_percapita_usd_2013'] != 0,\n",
    "                                                             (data_country['gdp_percapita_usd_2017'] / data_country['gdp_percapita_usd_2013'] - 1) * 100, 0)"
   ]
  },
  {
   "cell_type": "code",
   "execution_count": 41,
   "metadata": {},
   "outputs": [],
   "source": [
    "#remove column not needed for the analysis\n",
    "data_country.drop(['gdp_percapita_usd_2013'], axis = 1, inplace=True)"
   ]
  },
  {
   "cell_type": "markdown",
   "metadata": {},
   "source": [
    "<h3>Political Stability</h3><a id='stab'></a>"
   ]
  },
  {
   "cell_type": "code",
   "execution_count": 8,
   "metadata": {},
   "outputs": [],
   "source": [
    "stability.columns = [\"xx\", \"xx2\", \"country_code\", \"country\", 'xx3', 'xx4', 'xx5', 'item', 'xx6', \"xx8\", \"xx8\", \"value\", 'xx9', 'xx10', 'xx11']\n",
    "stability = stability.pivot_table(index=['country_code', 'country'], columns = ['item'], values=['value'])\n",
    "stability.columns = ['political_stability_index']\n",
    "stability.reset_index(inplace=True)\n",
    "\n",
    "data_country = pd.merge(data_country, stability, how='left')"
   ]
  },
  {
   "cell_type": "markdown",
   "metadata": {},
   "source": [
    "<h3>European Union countries</h3><a id='eu'></a>"
   ]
  },
  {
   "cell_type": "code",
   "execution_count": 9,
   "metadata": {},
   "outputs": [
    {
     "data": {
      "text/html": [
       "<div>\n",
       "<style scoped>\n",
       "    .dataframe tbody tr th:only-of-type {\n",
       "        vertical-align: middle;\n",
       "    }\n",
       "\n",
       "    .dataframe tbody tr th {\n",
       "        vertical-align: top;\n",
       "    }\n",
       "\n",
       "    .dataframe thead th {\n",
       "        text-align: right;\n",
       "    }\n",
       "</style>\n",
       "<table border=\"1\" class=\"dataframe\">\n",
       "  <thead>\n",
       "    <tr style=\"text-align: right;\">\n",
       "      <th></th>\n",
       "      <th>x</th>\n",
       "    </tr>\n",
       "  </thead>\n",
       "  <tbody>\n",
       "    <tr>\n",
       "      <th>5</th>\n",
       "      <td>Czech Republic</td>\n",
       "    </tr>\n",
       "    <tr>\n",
       "      <th>23</th>\n",
       "      <td>Slovak Republic</td>\n",
       "    </tr>\n",
       "    <tr>\n",
       "      <th>27</th>\n",
       "      <td>United Kingdom</td>\n",
       "    </tr>\n",
       "  </tbody>\n",
       "</table>\n",
       "</div>"
      ],
      "text/plain": [
       "                  x\n",
       "5    Czech Republic\n",
       "23  Slovak Republic\n",
       "27   United Kingdom"
      ]
     },
     "execution_count": 9,
     "metadata": {},
     "output_type": "execute_result"
    }
   ],
   "source": [
    "#countries with different spellings between eu_country and data_country\n",
    "eu_country.loc[~eu_country['x'].isin(data_country['country'])]"
   ]
  },
  {
   "cell_type": "code",
   "execution_count": 10,
   "metadata": {},
   "outputs": [],
   "source": [
    "# correct names\n",
    "eu_country.loc[eu_country['x'] == 'Czech Republic', 'x'] = 'Czechia'\n",
    "eu_country.loc[eu_country['x'] == 'Slovak Republic', 'x'] = 'Slovakia'\n",
    "eu_country.loc[eu_country['x'] == 'United Kingdom', 'x'] = 'United Kingdom of Great Britain and Northern Ireland'"
   ]
  },
  {
   "cell_type": "code",
   "execution_count": 11,
   "metadata": {},
   "outputs": [],
   "source": [
    "# flag EU countries\n",
    "data_country.loc[data_country['country'].isin(eu_country['x']), 'euro_union'] = 'EU'\n",
    "data_country.loc[~data_country['country'].isin(eu_country['x']), 'euro_union'] = 'Outside EU'"
   ]
  },
  {
   "cell_type": "markdown",
   "metadata": {},
   "source": [
    "<hr>"
   ]
  },
  {
   "cell_type": "markdown",
   "metadata": {},
   "source": [
    "<h2>Adding Food-related data</h2><a id='food'></a>"
   ]
  },
  {
   "cell_type": "markdown",
   "metadata": {},
   "source": [
    "<h3>Food Balance</h3><a id='fb'></a>"
   ]
  },
  {
   "cell_type": "code",
   "execution_count": 12,
   "metadata": {},
   "outputs": [],
   "source": [
    "# group food datatsets\n",
    "temp = [veg2013, ani2013, ani2017, veg2017]\n",
    "temp = pd.concat(temp, ignore_index=True)\n",
    "\n",
    "# delete ani2013, veg2013, ani2017, veg2017\n",
    "del ani2013, veg2013, ani2017, veg2017\n",
    "\n",
    "temp.columns = [\"xx\", \"xx2\", \"country_code\", \"country\", 'xx3', 'element', 'item_code', 'item',\n",
    "                'xx4', \"year\", \"unit\", \"value\", 'xx5', 'flag_description', 'origin', 'xx6']\n",
    "\n",
    "data = temp.pivot_table(index=[\"year\", \"country_code\", \"country\", \"origin\", \"item_code\", \\\n",
    "                               \"item\"], columns = [\"element\"], values=[\"value\"], aggfunc=sum)\n",
    "\n",
    "# rename columns\n",
    "data.columns = ['domestic_supply_quantity','export_quantity','fat_supply_quantity_gcapitaday','feed',\n",
    "                'food','food_supply_kcalcapitaday','food_supply_quantity_kgcapitayr','import_quantity','losses','other_uses','processing',\n",
    "                'production', 'protein_supply_quantity_gcapitaday', 'residuals', 'seed','stock_variation','tourist_consumption']\n",
    "\n",
    "data = data.reset_index()\n",
    "\n",
    "# merge data and pop\n",
    "data = pd.merge(data, pop, how='left')"
   ]
  },
  {
   "cell_type": "markdown",
   "metadata": {},
   "source": [
    "Data for China are duplicated. \n",
    "<br>data for 'China' = sum of the splitted data for 'China, mainland', 'China, Hong Kong', 'China, Macao', 'China, Province of Taiwan'.\n",
    "- deletion of 'China' data (code 351)\n",
    "- 'China, mainland', 'China, Hong Kong', 'China, Macao', 'China, Province of Taiwan' data are kept in order to preserve a better granularity.\n",
    "\n",
    "\n",
    "Data for Bermuda and Brunei are no longer available in 2017."
   ]
  },
  {
   "cell_type": "code",
   "execution_count": 13,
   "metadata": {},
   "outputs": [],
   "source": [
    "# remove doublon from China (code_country 351)\n",
    "data = data.loc[data.country_code != 351]\n",
    "\n",
    "# remove Bermuda and Brunei - no information for 2017\n",
    "data = data.loc[data.country != 'Bermuda']\n",
    "data = data.loc[data.country != 'Brunei Darussalam']"
   ]
  },
  {
   "cell_type": "markdown",
   "metadata": {},
   "source": [
    "<h3>Diet - Calories and Proteins</h3><a id='diet'></a>"
   ]
  },
  {
   "cell_type": "markdown",
   "metadata": {},
   "source": [
    "- Food supply kcal per capita per day - per country\n",
    "- Protein supply g per capita per day - per country"
   ]
  },
  {
   "cell_type": "code",
   "execution_count": 14,
   "metadata": {},
   "outputs": [],
   "source": [
    "temp = data.loc[data['year']==2017].pivot_table(index=['country_code', 'country'], \\\n",
    "                        values=['food_supply_kcalcapitaday',  'protein_supply_quantity_gcapitaday'], aggfunc=sum)\n",
    "temp.columns = ['food_supply_kcalcapitaday_2017', 'protein_supply_gcapitaday_2017']\n",
    "temp = temp.reset_index()\n",
    "\n",
    "data_country = pd.merge(temp, data_country, how='left')"
   ]
  },
  {
   "cell_type": "markdown",
   "metadata": {},
   "source": [
    "**Animal proteins in the total protein supply**\n",
    "\n",
    "- Prevalence of the animal proteins in the total proteins - per country\n",
    "- Growth of the protein supply per country (%) from animals - 2017 vs 2013"
   ]
  },
  {
   "cell_type": "code",
   "execution_count": 15,
   "metadata": {},
   "outputs": [],
   "source": [
    "NB_DAYS_YEAR = 365 \n",
    "\n",
    "#total protein supply\n",
    "data_country['protein_supply_kg_2017'] = \\\n",
    "    data_country['protein_supply_gcapitaday_2017']/1000 * NB_DAYS_YEAR *data_country['pop_2017_thousand']*1000"
   ]
  },
  {
   "cell_type": "code",
   "execution_count": 16,
   "metadata": {},
   "outputs": [],
   "source": [
    "# protein supply from animals\n",
    "temp = data.loc[(data['origin']=='animal') & (data['year']==2017)].pivot_table(index=['country_code', 'country'], \\\n",
    "                                                      values=[ 'protein_supply_quantity_gcapitaday'], aggfunc=sum)\n",
    "temp.columns = ['protein_supply_animal_gcapitaday_2017']\n",
    "temp.reset_index(inplace=True)\n",
    "\n",
    "data_country = pd.merge(data_country, temp, how='left')\n",
    "\n",
    "data_country['protein_supply_animal_kg_2017'] = \\\n",
    "    data_country['protein_supply_animal_gcapitaday_2017']/1000 * NB_DAYS_YEAR *data_country['pop_2017_thousand']*1000"
   ]
  },
  {
   "cell_type": "code",
   "execution_count": 17,
   "metadata": {},
   "outputs": [],
   "source": [
    "# prevalence animal proteins in the total protein supply\n",
    "data_country['prevalence_protein_animal_percent_2017'] = \\\n",
    "    data_country['protein_supply_animal_kg_2017'] / data_country['protein_supply_kg_2017'] * 100"
   ]
  },
  {
   "cell_type": "code",
   "execution_count": 18,
   "metadata": {},
   "outputs": [],
   "source": [
    "#remove column not needed for the analysis\n",
    "data_country.drop(['protein_supply_animal_kg_2017', 'protein_supply_kg_2017', 'protein_supply_animal_gcapitaday_2017'], \\\n",
    "                  axis = 1, inplace=True)"
   ]
  },
  {
   "cell_type": "markdown",
   "metadata": {},
   "source": [
    "<h3>Poultry (with eggs) key data</h3><a id='poultry'></a>\n",
    "\n"
   ]
  },
  {
   "cell_type": "markdown",
   "metadata": {},
   "source": [
    "Poultry are domesticated avian species that can be raised for eggs, meat and/or feathers. The term “poultry” covers a wide range of birds, from indigenous and commercial breeds of chickens to Muscovy ducks, mallard ducks, turkeys, guinea fowl, geese, quail, pigeons, ostriches and pheasants. \n",
    "\n",
    "- In 2017, chickens accounted for some 92 percent of the world’s poultry population, followed by ducks (5 percent), and turkeys (2 percent). \n",
    "- Chickens contribute 89 percent of world poultry meat production, followed by turkeys with 5 percent, ducks with 4 percent and geese and guinea fowl with 2 percent. The rest comes from other poultry species.\n",
    "- Chickens provide 92 percent of world egg production.\n",
    "\n",
    "source: http://www.fao.org/poultry-production-products/production/en/\n",
    "\n",
    "There is no granular data about chicken exclusively in the dataset 'animal' but the data for the category 'Poultry' (in which chicken is accounting around 90% of the total) give us a fair indicator of the chicken market in each country. \n",
    "\n",
    "Poultry composition: \n",
    "- Meat chicken, Fat liver prepared (foie gras), Meat chicken canned, Meat,duck, Meat goose and guinea fowl, Meat turkey.\n",
    "- Eggs are included"
   ]
  },
  {
   "cell_type": "code",
   "execution_count": 19,
   "metadata": {},
   "outputs": [],
   "source": [
    "temp = data.loc[(data['item'] == 'Poultry Meat')|(data['item'] == 'Eggs')].pivot_table(index=['country_code', 'country'], columns=['year'], \\\n",
    "                                                            values=['domestic_supply_quantity','production', 'import_quantity'], aggfunc=sum)\n",
    "\n",
    "temp.columns = ['domestic_supply_tons_2013', 'domestic_supply_tons_2017', \\\n",
    "                'production_poultry_tons_2013', 'production_poultry_tons_2017', 'import_poultry_tons_2013', 'import_poultry_tons_2017']\n",
    "\n",
    "temp.reset_index(inplace=True)\n",
    "\n",
    "#convert 1000 tons to tons\n",
    "for z in temp.iloc[:, [2,3,4,5,6,7]].columns:\n",
    "    temp[str(z)] = temp[str(z)] * 1000\n",
    "\n",
    "data_country = pd.merge(data_country, temp, how='left')"
   ]
  },
  {
   "cell_type": "markdown",
   "metadata": {},
   "source": [
    "- % growth Poulty Imports (2017 vs 2013)\n"
   ]
  },
  {
   "cell_type": "code",
   "execution_count": 20,
   "metadata": {},
   "outputs": [],
   "source": [
    "#growth Poultry imports\n",
    "data_country['import_poultry_growth'] = \\\n",
    "    np.where(data_country['import_poultry_tons_2013'] != 0, \\\n",
    "             (data_country['import_poultry_tons_2017'] / data_country['import_poultry_tons_2013'] - 1) * 100, 0)"
   ]
  },
  {
   "cell_type": "code",
   "execution_count": 21,
   "metadata": {},
   "outputs": [],
   "source": [
    "#Prevalence of imports in the domestic supply\n",
    "data_country['prevalence_imports_poultry_supply_percent'] = np.where(data_country['domestic_supply_tons_2017'] != 0, \\\n",
    "                                                             data_country['import_poultry_tons_2017'] / data_country['domestic_supply_tons_2017'] * 100, 0)"
   ]
  },
  {
   "cell_type": "code",
   "execution_count": 22,
   "metadata": {},
   "outputs": [],
   "source": [
    "#Prevalence of Production in the domestic supply\n",
    "data_country['prevalence_production_poultry_supply_percent'] = np.where(data_country['domestic_supply_tons_2017'] != 0, \\\n",
    "                                                             data_country['production_poultry_tons_2017'] / data_country['domestic_supply_tons_2017'] * 100, 0)"
   ]
  },
  {
   "cell_type": "code",
   "execution_count": 23,
   "metadata": {},
   "outputs": [],
   "source": [
    "#remove column not needed for the analysis\n",
    "data_country.drop(['production_poultry_tons_2013', 'import_poultry_tons_2013'], axis = 1, inplace=True)"
   ]
  },
  {
   "cell_type": "markdown",
   "metadata": {},
   "source": [
    "<h3>Chicken Importations (with eggs)</h3><a id='chicken'></a>"
   ]
  },
  {
   "cell_type": "markdown",
   "metadata": {},
   "source": [
    "Data are from the food and agricultural trade dataset collected, processed and disseminated by FAO. The data is mainly provided by UNSD, Eurostat, and other national authorities as needed.\n",
    "- Import quantity of 'chicken' per country\n",
    "- Import value of 'chicken' per country\n",
    "\n",
    "The category 'chicken' is made of 'chicken', 'meat, chicken', 'meat, chicken, canned', 'offals, liver chicken' + 'Eggs' were also included.\n",
    "<br>Offals liver chicken was not available in the 'Poultry' section on the previous section.  "
   ]
  },
  {
   "cell_type": "code",
   "execution_count": 24,
   "metadata": {},
   "outputs": [],
   "source": [
    "chicken_trade.columns =['xx', 'xx2', 'country_code', 'country', 'partner_country_code', 'partner_country', 'xx6', \\\n",
    "                        'element', 'xx8', 'xx9', 'xx10', 'year', 'unit', 'value', 'xx13', 'xx14', 'xx15']\n",
    "\n",
    "# there is a disruptancy on the name of the UK between the FAO trade dataset and other FAO datasets\n",
    "chicken_trade.loc[chicken_trade['country'] == 'United Kingdom', 'country'] = 'United Kingdom of Great Britain and Northern Ireland'\n",
    "chicken_trade.loc[chicken_trade['partner_country'] == 'United Kingdom', 'partner_country'] = 'United Kingdom of Great Britain and Northern Ireland'"
   ]
  },
  {
   "cell_type": "code",
   "execution_count": 25,
   "metadata": {},
   "outputs": [],
   "source": [
    "#Imports of chicken per country - in quantity and value\n",
    "\n",
    "chicken_import = chicken_trade.loc[((chicken_trade['element'] == 'Import Value') | (chicken_trade['element'] == 'Import Quantity')) \\\n",
    "                                  & (chicken_trade['unit'] != '1000 Head')]\n",
    "\n",
    "chicken_import = chicken_import.pivot_table(index=[\"country_code\", \"country\"], columns=['year', 'element'], values=['value'], aggfunc=sum)\n",
    "\n",
    "chicken_import.columns = ['import_chicken_quantity_tons_2013', 'import_chicken_value_thousand_usd_2013', 'import_chicken_quantity_tons_2017', \\\n",
    "                         'import_chicken_value_thousand_usd_2017']\n",
    "chicken_import.reset_index(inplace=True)\n",
    "\n",
    "data_country = pd.merge(data_country, chicken_import, how='left')"
   ]
  },
  {
   "cell_type": "code",
   "execution_count": 26,
   "metadata": {},
   "outputs": [],
   "source": [
    "country_no_report_import_chicken = \\\n",
    "    data_country.loc[(data_country['import_chicken_quantity_tons_2017'].isna()) | (data_country['import_chicken_quantity_tons_2013'].isna())]"
   ]
  },
  {
   "cell_type": "markdown",
   "metadata": {
    "variables": {
     " len(country_no_report_import_chicken)": "45",
     "country_no_report_import_chicken.country.tolist()": "[&#39;Afghanistan&#39;,\n &#39;Angola&#39;,\n &#39;Bangladesh&#39;,\n &#39;Myanmar&#39;,\n &#39;Cameroon&#39;,\n &#39;Chad&#39;,\n &#39;Cuba&#39;,\n &#39;Dominica&#39;,\n &#39;Dominican Republic&#39;,\n &#39;Djibouti&#39;,\n &#39;Gabon&#39;,\n &#39;Kiribati&#39;,\n &#39;Grenada&#39;,\n &#39;Guinea&#39;,\n &#39;Haiti&#39;,\n &#39;Honduras&#39;,\n &#39;Iran (Islamic Republic of)&#39;,\n &#39;Iraq&#39;,\n &#39;Kyrgyzstan&#39;,\n &quot;Democratic People&#39;s Republic of Korea&quot;,\n &quot;Lao People&#39;s Democratic Republic&quot;,\n &#39;Lesotho&#39;,\n &#39;Liberia&#39;,\n &#39;China, Macao SAR&#39;,\n &#39;Mali&#39;,\n &#39;Mongolia&#39;,\n &#39;Mozambique&#39;,\n &#39;Vanuatu&#39;,\n &#39;Nigeria&#39;,\n &#39;Guinea-Bissau&#39;,\n &#39;Timor-Leste&#39;,\n &#39;Saint Kitts and Nevis&#39;,\n &#39;Saint Lucia&#39;,\n &#39;Saint Vincent and the Grenadines&#39;,\n &#39;Sierra Leone&#39;,\n &#39;Suriname&#39;,\n &#39;Tajikistan&#39;,\n &#39;Eswatini&#39;,\n &#39;Turkmenistan&#39;,\n &#39;Trinidad and Tobago&#39;,\n &#39;United Arab Emirates&#39;,\n &#39;Uzbekistan&#39;,\n &#39;Viet Nam&#39;,\n &#39;Samoa&#39;,\n &#39;Sudan&#39;]"
    }
   },
   "source": [
    "{{ len(country_no_report_import_chicken)}} countries do have missing information about chicken importations due to the absence of reports in 2013 or 2017:\n",
    "\n",
    "{{country_no_report_import_chicken.country.tolist()}}"
   ]
  },
  {
   "cell_type": "markdown",
   "metadata": {},
   "source": [
    "We will get an approximation of these imports through the declaration of exports from partner countries."
   ]
  },
  {
   "cell_type": "code",
   "execution_count": 27,
   "metadata": {},
   "outputs": [],
   "source": [
    "# getting information about the chicken imports on the countries not reporting the imports through the export reports from other countries.\n",
    "\n",
    "chicken_export = chicken_trade.loc[((chicken_trade['element'] == 'Export Quantity') | (chicken_trade['element'] == 'Export Value')) \\\n",
    "                                  & (chicken_trade['unit'] != '1000 Head')]\n",
    "\n",
    "# Export of chicken to countries not reporting any chicken imports\n",
    "chicken_export_to_countries_noreport = chicken_export.loc[chicken_export['partner_country'].isin(country_no_report_import_chicken.country)]\n",
    "\n",
    "chicken_export_to_countries_noreport = chicken_export_to_countries_noreport.pivot_table(\\\n",
    "                                                                                       index=['partner_country_code', 'partner_country'], columns=['year', 'element'], values=['value'], aggfunc=sum)\n",
    "\n",
    "chicken_export_to_countries_noreport.columns = ['import_chicken_quantity_tons_2013', 'import_chicken_value_thousand_usd_2013', \\\n",
    "                                                'import_chicken_quantity_tons_2017', 'import_chicken_value_thousand_usd_2017']\n",
    "chicken_export_to_countries_noreport.reset_index(inplace=True)\n",
    "\n",
    "chicken_export_to_countries_noreport.rename(columns = {'partner_country_code':'country_code', 'partner_country':'country'}, inplace=True)"
   ]
  },
  {
   "cell_type": "code",
   "execution_count": 28,
   "metadata": {},
   "outputs": [],
   "source": [
    "data_country.set_index('country', inplace=True)\n",
    "chicken_export_to_countries_noreport.set_index('country', inplace=True)\n",
    "\n",
    "#overlapping values from chicken export to data_country for the countries not reporting their imports\n",
    "data_country = data_country.combine_first(chicken_export_to_countries_noreport)\n",
    "data_country.reset_index(inplace=True)"
   ]
  },
  {
   "cell_type": "code",
   "execution_count": 29,
   "metadata": {},
   "outputs": [],
   "source": [
    "data_country['import_chicken_quantity_growth_percent'] = \\\n",
    "    (data_country['import_chicken_quantity_tons_2017'] / data_country['import_chicken_quantity_tons_2013'] - 1) *100\n",
    "\n",
    "data_country['import_chicken_ratio_usd_tons_2017'] = \\\n",
    "    data_country['import_chicken_value_thousand_usd_2017'] * 1000 / data_country['import_chicken_quantity_tons_2017']"
   ]
  },
  {
   "cell_type": "code",
   "execution_count": 30,
   "metadata": {},
   "outputs": [],
   "source": [
    "#remove column not needed for the analysis\n",
    "data_country.drop(['import_chicken_value_thousand_usd_2013', 'import_chicken_quantity_tons_2013',\\\n",
    "                  'import_chicken_value_thousand_usd_2017'], axis = 1, inplace=True)"
   ]
  },
  {
   "cell_type": "markdown",
   "metadata": {},
   "source": [
    "<hr>"
   ]
  },
  {
   "cell_type": "markdown",
   "metadata": {},
   "source": [
    "<h2>Imputing missing data</h2><a id='imputation'></a>"
   ]
  },
  {
   "cell_type": "markdown",
   "metadata": {
    "variables": {
     "data_country.loc[data_country['political_stability_index'].isna()].country.tolist()": "[&#39;French Polynesia&#39;, &#39;Namibia&#39;, &#39;New Caledonia&#39;]"
    }
   },
   "source": [
    "Countries with no political stability index: {{data_country.loc[data_country['political_stability_index'].isna()].country.tolist()}}\n",
    "\n",
    "- Imputation possible for the 2 French territories (French Polynesia and New Caledonia) with France's index.\n",
    "- Imputation possible for Namibia with United Arab Emirates' index - the political stability index of the UAE is the closest (and almost equivalent) of Namibia in 2017 (source: World Bank - https://www.theglobaleconomy.com/rankings/wb_political_stability/)"
   ]
  },
  {
   "cell_type": "code",
   "execution_count": 31,
   "metadata": {},
   "outputs": [],
   "source": [
    "# imputation French Polynesia and New Caledonia\n",
    "for z in ['French Polynesia', 'New Caledonia']:\n",
    "    data_country.loc[data_country['country'] == z, 'political_stability_index'] = \\\n",
    "                                            data_country.loc[data_country['country'] == 'France']['political_stability_index'].values\n",
    "\n",
    "# imputation Namibia\n",
    "data_country.loc[data_country['country'] == 'Namibia', 'political_stability_index'] = \\\n",
    "                                            data_country.loc[data_country['country'] == 'United Arab Emirates']['political_stability_index'].values"
   ]
  },
  {
   "cell_type": "code",
   "execution_count": 32,
   "metadata": {},
   "outputs": [
    {
     "data": {
      "text/plain": [
       "country                                         False\n",
       "country_code                                    False\n",
       "domestic_supply_tons_2013                       False\n",
       "domestic_supply_tons_2017                       False\n",
       "euro_union                                      False\n",
       "food_supply_kcalcapitaday_2017                  False\n",
       "gdp_growth                                      False\n",
       "gdp_percapita_usd_2013                          False\n",
       "gdp_percapita_usd_2017                          False\n",
       "import_chicken_quantity_tons_2017               False\n",
       "import_poultry_growth                           False\n",
       "import_poultry_tons_2017                        False\n",
       "political_stability_index                       False\n",
       "pop_2017_thousand                               False\n",
       "pop_growth_percent                              False\n",
       "prevalence_imports_poultry_supply_percent       False\n",
       "prevalence_production_poultry_supply_percent    False\n",
       "prevalence_protein_animal_percent_2017          False\n",
       "production_poultry_tons_2017                    False\n",
       "protein_supply_gcapitaday_2017                  False\n",
       "import_chicken_quantity_growth_percent          False\n",
       "import_chicken_ratio_usd_tons_2017              False\n",
       "dtype: bool"
      ]
     },
     "execution_count": 32,
     "metadata": {},
     "output_type": "execute_result"
    }
   ],
   "source": [
    "data_country.isna().any()"
   ]
  },
  {
   "cell_type": "markdown",
   "metadata": {},
   "source": [
    "<hr>"
   ]
  },
  {
   "cell_type": "markdown",
   "metadata": {},
   "source": [
    "<h2>Exporting Dataset data_country</h2><a id='export'></a>"
   ]
  },
  {
   "cell_type": "markdown",
   "metadata": {},
   "source": [
    "<h3>Export simplified dataset</h3>"
   ]
  },
  {
   "cell_type": "code",
   "execution_count": 42,
   "metadata": {},
   "outputs": [],
   "source": [
    "data_country_simplified = data_country[['country', 'food_supply_kcalcapitaday_2017', 'pop_growth_percent', 'protein_supply_gcapitaday_2017', \\\n",
    "                                        'prevalence_protein_animal_percent_2017', 'pop_2017_thousand', 'euro_union']]"
   ]
  },
  {
   "cell_type": "code",
   "execution_count": 43,
   "metadata": {},
   "outputs": [],
   "source": [
    "data_country_simplified.to_csv(r'data/output/data_country_simplified.csv', index = False)"
   ]
  },
  {
   "cell_type": "code",
   "execution_count": 44,
   "metadata": {},
   "outputs": [
    {
     "data": {
      "text/html": [
       "<div>\n",
       "<style scoped>\n",
       "    .dataframe tbody tr th:only-of-type {\n",
       "        vertical-align: middle;\n",
       "    }\n",
       "\n",
       "    .dataframe tbody tr th {\n",
       "        vertical-align: top;\n",
       "    }\n",
       "\n",
       "    .dataframe thead th {\n",
       "        text-align: right;\n",
       "    }\n",
       "</style>\n",
       "<table border=\"1\" class=\"dataframe\">\n",
       "  <thead>\n",
       "    <tr style=\"text-align: right;\">\n",
       "      <th></th>\n",
       "      <th>country</th>\n",
       "      <th>food_supply_kcalcapitaday_2017</th>\n",
       "      <th>pop_growth_percent</th>\n",
       "      <th>protein_supply_gcapitaday_2017</th>\n",
       "      <th>prevalence_protein_animal_percent_2017</th>\n",
       "      <th>pop_2017_thousand</th>\n",
       "      <th>euro_union</th>\n",
       "    </tr>\n",
       "  </thead>\n",
       "  <tbody>\n",
       "    <tr>\n",
       "      <th>0</th>\n",
       "      <td>Afghanistan</td>\n",
       "      <td>1997.0</td>\n",
       "      <td>12.477767</td>\n",
       "      <td>54.09</td>\n",
       "      <td>19.523017</td>\n",
       "      <td>36296.113</td>\n",
       "      <td>Outside EU</td>\n",
       "    </tr>\n",
       "    <tr>\n",
       "      <th>1</th>\n",
       "      <td>Albania</td>\n",
       "      <td>3400.0</td>\n",
       "      <td>-0.675703</td>\n",
       "      <td>119.50</td>\n",
       "      <td>55.497908</td>\n",
       "      <td>2884.169</td>\n",
       "      <td>Outside EU</td>\n",
       "    </tr>\n",
       "    <tr>\n",
       "      <th>2</th>\n",
       "      <td>Algeria</td>\n",
       "      <td>3345.0</td>\n",
       "      <td>8.518733</td>\n",
       "      <td>92.85</td>\n",
       "      <td>27.679052</td>\n",
       "      <td>41389.189</td>\n",
       "      <td>Outside EU</td>\n",
       "    </tr>\n",
       "    <tr>\n",
       "      <th>3</th>\n",
       "      <td>Angola</td>\n",
       "      <td>2266.0</td>\n",
       "      <td>14.610305</td>\n",
       "      <td>54.09</td>\n",
       "      <td>30.449251</td>\n",
       "      <td>29816.766</td>\n",
       "      <td>Outside EU</td>\n",
       "    </tr>\n",
       "    <tr>\n",
       "      <th>4</th>\n",
       "      <td>Antigua and Barbuda</td>\n",
       "      <td>2429.0</td>\n",
       "      <td>4.272477</td>\n",
       "      <td>81.15</td>\n",
       "      <td>66.605052</td>\n",
       "      <td>95.426</td>\n",
       "      <td>Outside EU</td>\n",
       "    </tr>\n",
       "    <tr>\n",
       "      <th>...</th>\n",
       "      <td>...</td>\n",
       "      <td>...</td>\n",
       "      <td>...</td>\n",
       "      <td>...</td>\n",
       "      <td>...</td>\n",
       "      <td>...</td>\n",
       "      <td>...</td>\n",
       "    </tr>\n",
       "    <tr>\n",
       "      <th>167</th>\n",
       "      <td>Venezuela (Bolivarian Republic of)</td>\n",
       "      <td>2247.0</td>\n",
       "      <td>-1.271131</td>\n",
       "      <td>56.30</td>\n",
       "      <td>45.115453</td>\n",
       "      <td>29402.484</td>\n",
       "      <td>Outside EU</td>\n",
       "    </tr>\n",
       "    <tr>\n",
       "      <th>168</th>\n",
       "      <td>Viet Nam</td>\n",
       "      <td>2938.0</td>\n",
       "      <td>4.240161</td>\n",
       "      <td>90.03</td>\n",
       "      <td>40.875264</td>\n",
       "      <td>94600.648</td>\n",
       "      <td>Outside EU</td>\n",
       "    </tr>\n",
       "    <tr>\n",
       "      <th>169</th>\n",
       "      <td>Yemen</td>\n",
       "      <td>2062.0</td>\n",
       "      <td>10.687948</td>\n",
       "      <td>53.24</td>\n",
       "      <td>20.060105</td>\n",
       "      <td>27834.819</td>\n",
       "      <td>Outside EU</td>\n",
       "    </tr>\n",
       "    <tr>\n",
       "      <th>170</th>\n",
       "      <td>Zambia</td>\n",
       "      <td>2008.0</td>\n",
       "      <td>12.910256</td>\n",
       "      <td>59.06</td>\n",
       "      <td>19.776498</td>\n",
       "      <td>16853.599</td>\n",
       "      <td>Outside EU</td>\n",
       "    </tr>\n",
       "    <tr>\n",
       "      <th>171</th>\n",
       "      <td>Zimbabwe</td>\n",
       "      <td>2167.0</td>\n",
       "      <td>6.638182</td>\n",
       "      <td>51.20</td>\n",
       "      <td>22.695313</td>\n",
       "      <td>14236.595</td>\n",
       "      <td>Outside EU</td>\n",
       "    </tr>\n",
       "  </tbody>\n",
       "</table>\n",
       "<p>172 rows × 7 columns</p>\n",
       "</div>"
      ],
      "text/plain": [
       "                                country  food_supply_kcalcapitaday_2017  \\\n",
       "0                           Afghanistan                          1997.0   \n",
       "1                               Albania                          3400.0   \n",
       "2                               Algeria                          3345.0   \n",
       "3                                Angola                          2266.0   \n",
       "4                   Antigua and Barbuda                          2429.0   \n",
       "..                                  ...                             ...   \n",
       "167  Venezuela (Bolivarian Republic of)                          2247.0   \n",
       "168                            Viet Nam                          2938.0   \n",
       "169                               Yemen                          2062.0   \n",
       "170                              Zambia                          2008.0   \n",
       "171                            Zimbabwe                          2167.0   \n",
       "\n",
       "     pop_growth_percent  protein_supply_gcapitaday_2017  \\\n",
       "0             12.477767                           54.09   \n",
       "1             -0.675703                          119.50   \n",
       "2              8.518733                           92.85   \n",
       "3             14.610305                           54.09   \n",
       "4              4.272477                           81.15   \n",
       "..                  ...                             ...   \n",
       "167           -1.271131                           56.30   \n",
       "168            4.240161                           90.03   \n",
       "169           10.687948                           53.24   \n",
       "170           12.910256                           59.06   \n",
       "171            6.638182                           51.20   \n",
       "\n",
       "     prevalence_protein_animal_percent_2017  pop_2017_thousand  euro_union  \n",
       "0                                 19.523017          36296.113  Outside EU  \n",
       "1                                 55.497908           2884.169  Outside EU  \n",
       "2                                 27.679052          41389.189  Outside EU  \n",
       "3                                 30.449251          29816.766  Outside EU  \n",
       "4                                 66.605052             95.426  Outside EU  \n",
       "..                                      ...                ...         ...  \n",
       "167                               45.115453          29402.484  Outside EU  \n",
       "168                               40.875264          94600.648  Outside EU  \n",
       "169                               20.060105          27834.819  Outside EU  \n",
       "170                               19.776498          16853.599  Outside EU  \n",
       "171                               22.695313          14236.595  Outside EU  \n",
       "\n",
       "[172 rows x 7 columns]"
      ]
     },
     "execution_count": 44,
     "metadata": {},
     "output_type": "execute_result"
    }
   ],
   "source": [
    "data_country_simplified"
   ]
  },
  {
   "cell_type": "markdown",
   "metadata": {},
   "source": [
    "<h3>Export complete dataset</h3>"
   ]
  },
  {
   "cell_type": "code",
   "execution_count": 37,
   "metadata": {},
   "outputs": [],
   "source": [
    "data_country.drop(['country_code'], axis = 1, inplace=True)"
   ]
  },
  {
   "cell_type": "code",
   "execution_count": 38,
   "metadata": {},
   "outputs": [
    {
     "data": {
      "text/html": [
       "<div>\n",
       "<style scoped>\n",
       "    .dataframe tbody tr th:only-of-type {\n",
       "        vertical-align: middle;\n",
       "    }\n",
       "\n",
       "    .dataframe tbody tr th {\n",
       "        vertical-align: top;\n",
       "    }\n",
       "\n",
       "    .dataframe thead th {\n",
       "        text-align: right;\n",
       "    }\n",
       "</style>\n",
       "<table border=\"1\" class=\"dataframe\">\n",
       "  <thead>\n",
       "    <tr style=\"text-align: right;\">\n",
       "      <th></th>\n",
       "      <th>country</th>\n",
       "      <th>domestic_supply_tons_2013</th>\n",
       "      <th>domestic_supply_tons_2017</th>\n",
       "      <th>euro_union</th>\n",
       "      <th>food_supply_kcalcapitaday_2017</th>\n",
       "      <th>gdp_growth</th>\n",
       "      <th>gdp_percapita_usd_2013</th>\n",
       "      <th>gdp_percapita_usd_2017</th>\n",
       "      <th>import_chicken_quantity_tons_2017</th>\n",
       "      <th>import_poultry_growth</th>\n",
       "      <th>...</th>\n",
       "      <th>political_stability_index</th>\n",
       "      <th>pop_2017_thousand</th>\n",
       "      <th>pop_growth_percent</th>\n",
       "      <th>prevalence_imports_poultry_supply_percent</th>\n",
       "      <th>prevalence_production_poultry_supply_percent</th>\n",
       "      <th>prevalence_protein_animal_percent_2017</th>\n",
       "      <th>production_poultry_tons_2017</th>\n",
       "      <th>protein_supply_gcapitaday_2017</th>\n",
       "      <th>import_chicken_quantity_growth_percent</th>\n",
       "      <th>import_chicken_ratio_usd_tons_2017</th>\n",
       "    </tr>\n",
       "  </thead>\n",
       "  <tbody>\n",
       "    <tr>\n",
       "      <th>0</th>\n",
       "      <td>Afghanistan</td>\n",
       "      <td>122000.0</td>\n",
       "      <td>131000.0</td>\n",
       "      <td>Outside EU</td>\n",
       "      <td>1997.0</td>\n",
       "      <td>-5.206857</td>\n",
       "      <td>494.020850</td>\n",
       "      <td>468.297893</td>\n",
       "      <td>70001.0</td>\n",
       "      <td>9.090909</td>\n",
       "      <td>...</td>\n",
       "      <td>-2.78</td>\n",
       "      <td>36296.113</td>\n",
       "      <td>12.477767</td>\n",
       "      <td>36.641221</td>\n",
       "      <td>63.358779</td>\n",
       "      <td>19.523017</td>\n",
       "      <td>83000.0</td>\n",
       "      <td>54.09</td>\n",
       "      <td>64.086637</td>\n",
       "      <td>1234.310938</td>\n",
       "    </tr>\n",
       "    <tr>\n",
       "      <th>1</th>\n",
       "      <td>Albania</td>\n",
       "      <td>89000.0</td>\n",
       "      <td>97000.0</td>\n",
       "      <td>Outside EU</td>\n",
       "      <td>3400.0</td>\n",
       "      <td>7.818559</td>\n",
       "      <td>3104.940173</td>\n",
       "      <td>3347.701760</td>\n",
       "      <td>40034.0</td>\n",
       "      <td>-1.538462</td>\n",
       "      <td>...</td>\n",
       "      <td>0.40</td>\n",
       "      <td>2884.169</td>\n",
       "      <td>-0.675703</td>\n",
       "      <td>65.979381</td>\n",
       "      <td>39.175258</td>\n",
       "      <td>55.497908</td>\n",
       "      <td>38000.0</td>\n",
       "      <td>119.50</td>\n",
       "      <td>66.669442</td>\n",
       "      <td>1314.332817</td>\n",
       "    </tr>\n",
       "    <tr>\n",
       "      <th>2</th>\n",
       "      <td>Algeria</td>\n",
       "      <td>639000.0</td>\n",
       "      <td>667000.0</td>\n",
       "      <td>Outside EU</td>\n",
       "      <td>3345.0</td>\n",
       "      <td>-7.348644</td>\n",
       "      <td>3523.250052</td>\n",
       "      <td>3264.338962</td>\n",
       "      <td>1991.0</td>\n",
       "      <td>4.724409</td>\n",
       "      <td>...</td>\n",
       "      <td>-0.96</td>\n",
       "      <td>41389.189</td>\n",
       "      <td>8.518733</td>\n",
       "      <td>99.700150</td>\n",
       "      <td>0.299850</td>\n",
       "      <td>27.679052</td>\n",
       "      <td>2000.0</td>\n",
       "      <td>92.85</td>\n",
       "      <td>-26.774549</td>\n",
       "      <td>12734.304370</td>\n",
       "    </tr>\n",
       "    <tr>\n",
       "      <th>3</th>\n",
       "      <td>Angola</td>\n",
       "      <td>401000.0</td>\n",
       "      <td>347000.0</td>\n",
       "      <td>Outside EU</td>\n",
       "      <td>2266.0</td>\n",
       "      <td>-15.509934</td>\n",
       "      <td>3320.736667</td>\n",
       "      <td>2805.692595</td>\n",
       "      <td>267388.0</td>\n",
       "      <td>34.285714</td>\n",
       "      <td>...</td>\n",
       "      <td>-0.29</td>\n",
       "      <td>29816.766</td>\n",
       "      <td>14.610305</td>\n",
       "      <td>13.544669</td>\n",
       "      <td>86.455331</td>\n",
       "      <td>30.449251</td>\n",
       "      <td>300000.0</td>\n",
       "      <td>54.09</td>\n",
       "      <td>-22.429454</td>\n",
       "      <td>1014.503269</td>\n",
       "    </tr>\n",
       "    <tr>\n",
       "      <th>4</th>\n",
       "      <td>Antigua and Barbuda</td>\n",
       "      <td>7000.0</td>\n",
       "      <td>7000.0</td>\n",
       "      <td>Outside EU</td>\n",
       "      <td>2429.0</td>\n",
       "      <td>15.033876</td>\n",
       "      <td>9170.969226</td>\n",
       "      <td>10549.721325</td>\n",
       "      <td>6455.0</td>\n",
       "      <td>0.000000</td>\n",
       "      <td>...</td>\n",
       "      <td>0.76</td>\n",
       "      <td>95.426</td>\n",
       "      <td>4.272477</td>\n",
       "      <td>0.000000</td>\n",
       "      <td>100.000000</td>\n",
       "      <td>66.605052</td>\n",
       "      <td>7000.0</td>\n",
       "      <td>81.15</td>\n",
       "      <td>9.965928</td>\n",
       "      <td>1979.705655</td>\n",
       "    </tr>\n",
       "    <tr>\n",
       "      <th>...</th>\n",
       "      <td>...</td>\n",
       "      <td>...</td>\n",
       "      <td>...</td>\n",
       "      <td>...</td>\n",
       "      <td>...</td>\n",
       "      <td>...</td>\n",
       "      <td>...</td>\n",
       "      <td>...</td>\n",
       "      <td>...</td>\n",
       "      <td>...</td>\n",
       "      <td>...</td>\n",
       "      <td>...</td>\n",
       "      <td>...</td>\n",
       "      <td>...</td>\n",
       "      <td>...</td>\n",
       "      <td>...</td>\n",
       "      <td>...</td>\n",
       "      <td>...</td>\n",
       "      <td>...</td>\n",
       "      <td>...</td>\n",
       "      <td>...</td>\n",
       "    </tr>\n",
       "    <tr>\n",
       "      <th>167</th>\n",
       "      <td>Venezuela (Bolivarian Republic of)</td>\n",
       "      <td>1407000.0</td>\n",
       "      <td>790000.0</td>\n",
       "      <td>Outside EU</td>\n",
       "      <td>2247.0</td>\n",
       "      <td>-38.559352</td>\n",
       "      <td>9834.450016</td>\n",
       "      <td>6042.349852</td>\n",
       "      <td>25033.0</td>\n",
       "      <td>-32.088889</td>\n",
       "      <td>...</td>\n",
       "      <td>-1.18</td>\n",
       "      <td>29402.484</td>\n",
       "      <td>-1.271131</td>\n",
       "      <td>96.708861</td>\n",
       "      <td>3.164557</td>\n",
       "      <td>45.115453</td>\n",
       "      <td>25000.0</td>\n",
       "      <td>56.30</td>\n",
       "      <td>-91.089620</td>\n",
       "      <td>2464.027484</td>\n",
       "    </tr>\n",
       "    <tr>\n",
       "      <th>168</th>\n",
       "      <td>Viet Nam</td>\n",
       "      <td>1509000.0</td>\n",
       "      <td>1740000.0</td>\n",
       "      <td>Outside EU</td>\n",
       "      <td>2938.0</td>\n",
       "      <td>23.679433</td>\n",
       "      <td>1309.269138</td>\n",
       "      <td>1619.296641</td>\n",
       "      <td>363681.0</td>\n",
       "      <td>43.422354</td>\n",
       "      <td>...</td>\n",
       "      <td>0.31</td>\n",
       "      <td>94600.648</td>\n",
       "      <td>4.240161</td>\n",
       "      <td>83.333333</td>\n",
       "      <td>16.954023</td>\n",
       "      <td>40.875264</td>\n",
       "      <td>295000.0</td>\n",
       "      <td>90.03</td>\n",
       "      <td>-30.725185</td>\n",
       "      <td>1082.748343</td>\n",
       "    </tr>\n",
       "    <tr>\n",
       "      <th>169</th>\n",
       "      <td>Yemen</td>\n",
       "      <td>329000.0</td>\n",
       "      <td>312000.0</td>\n",
       "      <td>Outside EU</td>\n",
       "      <td>2062.0</td>\n",
       "      <td>-49.953849</td>\n",
       "      <td>1030.676979</td>\n",
       "      <td>515.814155</td>\n",
       "      <td>77952.0</td>\n",
       "      <td>6.363636</td>\n",
       "      <td>...</td>\n",
       "      <td>-2.96</td>\n",
       "      <td>27834.819</td>\n",
       "      <td>10.687948</td>\n",
       "      <td>75.000000</td>\n",
       "      <td>25.000000</td>\n",
       "      <td>20.060105</td>\n",
       "      <td>78000.0</td>\n",
       "      <td>53.24</td>\n",
       "      <td>-28.257989</td>\n",
       "      <td>1554.674672</td>\n",
       "    </tr>\n",
       "    <tr>\n",
       "      <th>170</th>\n",
       "      <td>Zambia</td>\n",
       "      <td>102000.0</td>\n",
       "      <td>111000.0</td>\n",
       "      <td>Outside EU</td>\n",
       "      <td>2008.0</td>\n",
       "      <td>-3.626393</td>\n",
       "      <td>1157.433714</td>\n",
       "      <td>1115.460621</td>\n",
       "      <td>12070.0</td>\n",
       "      <td>0.000000</td>\n",
       "      <td>...</td>\n",
       "      <td>0.11</td>\n",
       "      <td>16853.599</td>\n",
       "      <td>12.910256</td>\n",
       "      <td>90.990991</td>\n",
       "      <td>10.810811</td>\n",
       "      <td>19.776498</td>\n",
       "      <td>12000.0</td>\n",
       "      <td>59.06</td>\n",
       "      <td>669.279796</td>\n",
       "      <td>921.043911</td>\n",
       "    </tr>\n",
       "    <tr>\n",
       "      <th>171</th>\n",
       "      <td>Zimbabwe</td>\n",
       "      <td>100000.0</td>\n",
       "      <td>106000.0</td>\n",
       "      <td>Outside EU</td>\n",
       "      <td>2167.0</td>\n",
       "      <td>1.309501</td>\n",
       "      <td>871.475878</td>\n",
       "      <td>882.887864</td>\n",
       "      <td>6600.0</td>\n",
       "      <td>4.255319</td>\n",
       "      <td>...</td>\n",
       "      <td>-0.77</td>\n",
       "      <td>14236.595</td>\n",
       "      <td>6.638182</td>\n",
       "      <td>92.452830</td>\n",
       "      <td>6.603774</td>\n",
       "      <td>22.695313</td>\n",
       "      <td>7000.0</td>\n",
       "      <td>51.20</td>\n",
       "      <td>11.448835</td>\n",
       "      <td>1482.424242</td>\n",
       "    </tr>\n",
       "  </tbody>\n",
       "</table>\n",
       "<p>172 rows × 21 columns</p>\n",
       "</div>"
      ],
      "text/plain": [
       "                                country  domestic_supply_tons_2013  \\\n",
       "0                           Afghanistan                   122000.0   \n",
       "1                               Albania                    89000.0   \n",
       "2                               Algeria                   639000.0   \n",
       "3                                Angola                   401000.0   \n",
       "4                   Antigua and Barbuda                     7000.0   \n",
       "..                                  ...                        ...   \n",
       "167  Venezuela (Bolivarian Republic of)                  1407000.0   \n",
       "168                            Viet Nam                  1509000.0   \n",
       "169                               Yemen                   329000.0   \n",
       "170                              Zambia                   102000.0   \n",
       "171                            Zimbabwe                   100000.0   \n",
       "\n",
       "     domestic_supply_tons_2017  euro_union  food_supply_kcalcapitaday_2017  \\\n",
       "0                     131000.0  Outside EU                          1997.0   \n",
       "1                      97000.0  Outside EU                          3400.0   \n",
       "2                     667000.0  Outside EU                          3345.0   \n",
       "3                     347000.0  Outside EU                          2266.0   \n",
       "4                       7000.0  Outside EU                          2429.0   \n",
       "..                         ...         ...                             ...   \n",
       "167                   790000.0  Outside EU                          2247.0   \n",
       "168                  1740000.0  Outside EU                          2938.0   \n",
       "169                   312000.0  Outside EU                          2062.0   \n",
       "170                   111000.0  Outside EU                          2008.0   \n",
       "171                   106000.0  Outside EU                          2167.0   \n",
       "\n",
       "     gdp_growth  gdp_percapita_usd_2013  gdp_percapita_usd_2017  \\\n",
       "0     -5.206857              494.020850              468.297893   \n",
       "1      7.818559             3104.940173             3347.701760   \n",
       "2     -7.348644             3523.250052             3264.338962   \n",
       "3    -15.509934             3320.736667             2805.692595   \n",
       "4     15.033876             9170.969226            10549.721325   \n",
       "..          ...                     ...                     ...   \n",
       "167  -38.559352             9834.450016             6042.349852   \n",
       "168   23.679433             1309.269138             1619.296641   \n",
       "169  -49.953849             1030.676979              515.814155   \n",
       "170   -3.626393             1157.433714             1115.460621   \n",
       "171    1.309501              871.475878              882.887864   \n",
       "\n",
       "     import_chicken_quantity_tons_2017  import_poultry_growth  ...  \\\n",
       "0                              70001.0               9.090909  ...   \n",
       "1                              40034.0              -1.538462  ...   \n",
       "2                               1991.0               4.724409  ...   \n",
       "3                             267388.0              34.285714  ...   \n",
       "4                               6455.0               0.000000  ...   \n",
       "..                                 ...                    ...  ...   \n",
       "167                            25033.0             -32.088889  ...   \n",
       "168                           363681.0              43.422354  ...   \n",
       "169                            77952.0               6.363636  ...   \n",
       "170                            12070.0               0.000000  ...   \n",
       "171                             6600.0               4.255319  ...   \n",
       "\n",
       "     political_stability_index  pop_2017_thousand  pop_growth_percent  \\\n",
       "0                        -2.78          36296.113           12.477767   \n",
       "1                         0.40           2884.169           -0.675703   \n",
       "2                        -0.96          41389.189            8.518733   \n",
       "3                        -0.29          29816.766           14.610305   \n",
       "4                         0.76             95.426            4.272477   \n",
       "..                         ...                ...                 ...   \n",
       "167                      -1.18          29402.484           -1.271131   \n",
       "168                       0.31          94600.648            4.240161   \n",
       "169                      -2.96          27834.819           10.687948   \n",
       "170                       0.11          16853.599           12.910256   \n",
       "171                      -0.77          14236.595            6.638182   \n",
       "\n",
       "     prevalence_imports_poultry_supply_percent  \\\n",
       "0                                    36.641221   \n",
       "1                                    65.979381   \n",
       "2                                    99.700150   \n",
       "3                                    13.544669   \n",
       "4                                     0.000000   \n",
       "..                                         ...   \n",
       "167                                  96.708861   \n",
       "168                                  83.333333   \n",
       "169                                  75.000000   \n",
       "170                                  90.990991   \n",
       "171                                  92.452830   \n",
       "\n",
       "     prevalence_production_poultry_supply_percent  \\\n",
       "0                                       63.358779   \n",
       "1                                       39.175258   \n",
       "2                                        0.299850   \n",
       "3                                       86.455331   \n",
       "4                                      100.000000   \n",
       "..                                            ...   \n",
       "167                                      3.164557   \n",
       "168                                     16.954023   \n",
       "169                                     25.000000   \n",
       "170                                     10.810811   \n",
       "171                                      6.603774   \n",
       "\n",
       "     prevalence_protein_animal_percent_2017  production_poultry_tons_2017  \\\n",
       "0                                 19.523017                       83000.0   \n",
       "1                                 55.497908                       38000.0   \n",
       "2                                 27.679052                        2000.0   \n",
       "3                                 30.449251                      300000.0   \n",
       "4                                 66.605052                        7000.0   \n",
       "..                                      ...                           ...   \n",
       "167                               45.115453                       25000.0   \n",
       "168                               40.875264                      295000.0   \n",
       "169                               20.060105                       78000.0   \n",
       "170                               19.776498                       12000.0   \n",
       "171                               22.695313                        7000.0   \n",
       "\n",
       "     protein_supply_gcapitaday_2017  import_chicken_quantity_growth_percent  \\\n",
       "0                             54.09                               64.086637   \n",
       "1                            119.50                               66.669442   \n",
       "2                             92.85                              -26.774549   \n",
       "3                             54.09                              -22.429454   \n",
       "4                             81.15                                9.965928   \n",
       "..                              ...                                     ...   \n",
       "167                           56.30                              -91.089620   \n",
       "168                           90.03                              -30.725185   \n",
       "169                           53.24                              -28.257989   \n",
       "170                           59.06                              669.279796   \n",
       "171                           51.20                               11.448835   \n",
       "\n",
       "     import_chicken_ratio_usd_tons_2017  \n",
       "0                           1234.310938  \n",
       "1                           1314.332817  \n",
       "2                          12734.304370  \n",
       "3                           1014.503269  \n",
       "4                           1979.705655  \n",
       "..                                  ...  \n",
       "167                         2464.027484  \n",
       "168                         1082.748343  \n",
       "169                         1554.674672  \n",
       "170                          921.043911  \n",
       "171                         1482.424242  \n",
       "\n",
       "[172 rows x 21 columns]"
      ]
     },
     "execution_count": 38,
     "metadata": {},
     "output_type": "execute_result"
    }
   ],
   "source": [
    "data_country"
   ]
  },
  {
   "cell_type": "code",
   "execution_count": 39,
   "metadata": {},
   "outputs": [
    {
     "data": {
      "text/plain": [
       "Index(['country', 'domestic_supply_tons_2013', 'domestic_supply_tons_2017',\n",
       "       'euro_union', 'food_supply_kcalcapitaday_2017', 'gdp_growth',\n",
       "       'gdp_percapita_usd_2013', 'gdp_percapita_usd_2017',\n",
       "       'import_chicken_quantity_tons_2017', 'import_poultry_growth',\n",
       "       'import_poultry_tons_2017', 'political_stability_index',\n",
       "       'pop_2017_thousand', 'pop_growth_percent',\n",
       "       'prevalence_imports_poultry_supply_percent',\n",
       "       'prevalence_production_poultry_supply_percent',\n",
       "       'prevalence_protein_animal_percent_2017',\n",
       "       'production_poultry_tons_2017', 'protein_supply_gcapitaday_2017',\n",
       "       'import_chicken_quantity_growth_percent',\n",
       "       'import_chicken_ratio_usd_tons_2017'],\n",
       "      dtype='object')"
      ]
     },
     "execution_count": 39,
     "metadata": {},
     "output_type": "execute_result"
    }
   ],
   "source": [
    "data_country.columns"
   ]
  },
  {
   "cell_type": "code",
   "execution_count": 40,
   "metadata": {},
   "outputs": [],
   "source": [
    "data_country.to_csv(r'data/output/data_country.csv', index = False)"
   ]
  }
 ],
 "metadata": {
  "kernelspec": {
   "display_name": "Python 3",
   "language": "python",
   "name": "python3"
  },
  "language_info": {
   "codemirror_mode": {
    "name": "ipython",
    "version": 3
   },
   "file_extension": ".py",
   "mimetype": "text/x-python",
   "name": "python",
   "nbconvert_exporter": "python",
   "pygments_lexer": "ipython3",
   "version": "3.7.6"
  },
  "toc": {
   "base_numbering": 1,
   "nav_menu": {},
   "number_sections": false,
   "sideBar": true,
   "skip_h1_title": false,
   "title_cell": "Table of Contents",
   "title_sidebar": "Contents",
   "toc_cell": false,
   "toc_position": {
    "height": "calc(100% - 180px)",
    "left": "10px",
    "top": "150px",
    "width": "394.533px"
   },
   "toc_section_display": true,
   "toc_window_display": true
  },
  "varInspector": {
   "cols": {
    "lenName": 16,
    "lenType": 16,
    "lenVar": 40
   },
   "kernels_config": {
    "python": {
     "delete_cmd_postfix": "",
     "delete_cmd_prefix": "del ",
     "library": "var_list.py",
     "varRefreshCmd": "print(var_dic_list())"
    },
    "r": {
     "delete_cmd_postfix": ") ",
     "delete_cmd_prefix": "rm(",
     "library": "var_list.r",
     "varRefreshCmd": "cat(var_dic_list()) "
    }
   },
   "types_to_exclude": [
    "module",
    "function",
    "builtin_function_or_method",
    "instance",
    "_Feature"
   ],
   "window_display": false
  }
 },
 "nbformat": 4,
 "nbformat_minor": 4
}

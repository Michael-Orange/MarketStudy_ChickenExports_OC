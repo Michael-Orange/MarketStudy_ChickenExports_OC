{
 "cells": [
  {
   "cell_type": "markdown",
   "metadata": {},
   "source": [
    "<h2>Market Study - Chicken Exports</h2>"
   ]
  },
  {
   "cell_type": "markdown",
   "metadata": {},
   "source": [
    "<a href=\"https://openclassrooms.com/en/\" >Openclassrooms</a>, Data Analyst Course\n",
    "<br>Project 5 - Michael Orange\n"
   ]
  },
  {
   "cell_type": "markdown",
   "metadata": {},
   "source": [
    "<hr>"
   ]
  },
  {
   "cell_type": "markdown",
   "metadata": {},
   "source": [
    "A company in the food industry specialized in chicken is looking at expanding worldwide. All countries are considered. \n",
    "<br>The main objective is to provide the company with data ensuring it will collaborate with the most promising export market countries. \n",
    "\n",
    "Grouping countries in 'clusters' based on their similarity is required. \n",
    "<br>Default variables are: \n",
    "- population growth, \n",
    "- calory supply per capita and protein supply per capita, \n",
    "- prevalence of animal proteins in the mix. \n",
    "\n",
    "Additional relevant variable might be included (ex. GDP per capita)"
   ]
  },
  {
   "cell_type": "markdown",
   "metadata": {},
   "source": [
    "<hr>\n",
    "\n",
    "**Section 1** [Importing FAOSTAT Datasets](#import)\n",
    "\n",
    "\n",
    "**Section 2** [Adding General information](#general)\n",
    "- [Population](#pop)\n",
    "- [Gross Domestic Product](#gdp)\n",
    "- [Political Stability](#stab)\n",
    "- [European Union countries](#eu)\n",
    "    \n",
    "    \n",
    "**Section 3** [Adding Food-related data](#food)\n",
    "- [Food-Balance](#fb)\n",
    "- [Diet - Calories and Proteins](#diet)\n",
    "- [Poulty data](#poultry)\n",
    "\n",
    "**Section 4** [Imputating missing data](#imputation)\n",
    "    \n",
    "**Section 5** [Exporting Data Country](#export) "
   ]
  },
  {
   "cell_type": "markdown",
   "metadata": {},
   "source": [
    "<hr>"
   ]
  },
  {
   "cell_type": "code",
   "execution_count": 1,
   "metadata": {},
   "outputs": [],
   "source": [
    "import numpy as np\n",
    "import pandas as pd\n",
    "import seaborn as sns\n",
    "import matplotlib.pyplot as plt\n",
    "%matplotlib inline\n",
    "\n",
    "from display_pca import *"
   ]
  },
  {
   "cell_type": "markdown",
   "metadata": {},
   "source": [
    "<h2>Importing FAOSTAT Datasets</h2><a id='import'></a>"
   ]
  },
  {
   "cell_type": "markdown",
   "metadata": {},
   "source": [
    "Data are collected from The Food and Agriculture Organization Corporate Statistical Database (FAOSTAT). The FAOSTAT website disseminates statistical data collected and maintained by the Food and Agriculture Organization (FAO).\n",
    "\n",
    "FAOSTAT - Data collected (2013 and 2017 are selected for the below analysis): analysis is based on 2017 figures, with a comparaison from 2013 data. \n",
    "2017 is the most recent comprehensive data from FAOSTAT.\n",
    "\n",
    "- Datasets Food Balance Animal and Vegetal\n",
    "- Dataset Population\n",
    "- Dataset Gross Domestic Product (GDP)\n",
    "- Dataset Political Stability Index\n",
    "- Dataset Trade Mix - Chicken "
   ]
  },
  {
   "cell_type": "code",
   "execution_count": 2,
   "metadata": {},
   "outputs": [],
   "source": [
    "#import food datasets\n",
    "veg2013 = pd.read_csv(\"data/raw/vegetal2013.csv\")\n",
    "ani2013 = pd.read_csv(\"data/raw/animal2013.csv\")\n",
    "veg2017 = pd.read_csv('data/raw/vegetal2017.csv', dtype={'Note': str })\n",
    "ani2017 = pd.read_csv(\"data/raw/animal2017.csv\")\n",
    "ani2013[\"origin\"] = \"animal\"\n",
    "veg2013[\"origin\"] = \"vegetal\"\n",
    "ani2017[\"origin\"] = \"animal\"\n",
    "veg2017[\"origin\"] = \"vegetal\"\n",
    "\n",
    "#import population\n",
    "pop = pd.read_csv(\"data/raw/FAOSTAT_data_Population_2013-2017.csv\")\n",
    "\n",
    "# import GDP and Stability\n",
    "gdp = pd.read_csv(\"data/raw/FAOSTAT_data_MacroIndicators_20132017.csv\")\n",
    "stability = pd.read_csv(\"data/raw/FAOSTAT_data_PoliticalStability_2017.csv\")\n",
    "\n",
    "#import food index\n",
    "foodindex = pd.read_csv(\"data/raw/FAOSTAT_data_FoodIndex_20132017.csv\")\n",
    "\n",
    "# import EU countries\n",
    "eu_country = pd.read_csv(\"data/raw/listofeucountries.csv\")"
   ]
  },
  {
   "cell_type": "markdown",
   "metadata": {},
   "source": [
    "**Important note** \n",
    "Naming convention: analysis is based on 2017 data, the default year is 2017 for the variables. \n",
    "- For the variables related to 2017, indication of the 'year' is not included. ex. 'pop_thousand' =population 2017.\n",
    "- For the variables related to 2013, '2013' is always included - ex. 'pop_thousand_2013' =population 2013."
   ]
  },
  {
   "cell_type": "markdown",
   "metadata": {},
   "source": [
    "<hr>"
   ]
  },
  {
   "cell_type": "markdown",
   "metadata": {},
   "source": [
    "<h2>Adding general information</h2><a id='general'></a>"
   ]
  },
  {
   "cell_type": "markdown",
   "metadata": {},
   "source": [
    "<h3>Population</h3><a id='pop'></a>"
   ]
  },
  {
   "cell_type": "markdown",
   "metadata": {},
   "source": [
    "Variables added to the dataset:\n",
    "- Population per country\n",
    "- Growth of the population (%) - 2017 vs 2013"
   ]
  },
  {
   "cell_type": "code",
   "execution_count": 3,
   "metadata": {},
   "outputs": [],
   "source": [
    "# population\n",
    "pop.columns = [\"xx\",\"xx2\",\"country_code\",\"country\", 'xx3', 'xx4', 'xx5','xx6', \n",
    "               'xx7', 'year',\"xx8\",\"population_total_thousand\",\"xx9\", 'xx10', 'xx11']\n",
    "\n",
    "pop = pop.drop([\"xx\",\"xx2\",'xx3','xx4','xx5', 'xx6', 'xx7','xx8', 'xx9', 'xx10', 'xx11'], axis = 1)\n",
    "pop.reset_index(drop=True, inplace=True)\n",
    "\n",
    "data_country = pop.pivot_table(index=['country_code', 'country'], columns = ['year'], values=['population_total_thousand'])\n",
    "data_country.columns = ['pop_thousand_2013', 'pop_thousand']\n",
    "data_country.reset_index(inplace=True)\n",
    "\n",
    "#growth population\n",
    "data_country['pop_growth'] = (data_country['pop_thousand'] / data_country['pop_thousand_2013'] - 1) *100"
   ]
  },
  {
   "cell_type": "markdown",
   "metadata": {},
   "source": [
    "<h3>Gross Domestic Product (GDP) per capita</h3><a id='gdp'></a>"
   ]
  },
  {
   "cell_type": "markdown",
   "metadata": {},
   "source": [
    "- GDP per capita (USD)\n",
    "- GDP Growth - 2017 vs 2013"
   ]
  },
  {
   "cell_type": "code",
   "execution_count": 4,
   "metadata": {},
   "outputs": [],
   "source": [
    "gdp.columns = [\"xx\", \"xx2\", \"country_code\", \"country\", 'xx3', 'xx4', 'xx5', 'item', 'xx6', \"year\", \"xx7\", \"value\", 'xx8', 'xx9', 'xx10']\n",
    "gdp = gdp.loc[gdp['item'] == 'Gross Domestic Product per capita'].pivot_table(\\\n",
    "                                                                                                      index=['country_code', \"country\"], columns = ['year', 'item'], values=['value'])\n",
    "gdp.columns = ['gdp_percapita_usd_2013', 'gdp_percapita_usd']\n",
    "gdp.reset_index(inplace=True)\n",
    "\n",
    "data_country = pd.merge(data_country, gdp, how='left')"
   ]
  },
  {
   "cell_type": "markdown",
   "metadata": {},
   "source": [
    "GDP of Taiwan is missing. \n",
    "Imputation with information collected from the International Monetary Fund (IMF).\n",
    "- Taiwan GDP per capita 2013 : 43 831 USD \n",
    "- Taiwan GDP per capita 2017 : 50 593 USD \n",
    "Source: https://bit.ly/2U2251b"
   ]
  },
  {
   "cell_type": "code",
   "execution_count": 5,
   "metadata": {},
   "outputs": [],
   "source": [
    "# Imputation GDP Taiwan\n",
    "data_country.loc[data_country['country'] == 'China, Taiwan Province of', 'gdp_percapita_usd_2013'] = 43831\n",
    "data_country.loc[data_country['country'] == 'China, Taiwan Province of', 'gdp_percapita_usd'] = 50593"
   ]
  },
  {
   "cell_type": "code",
   "execution_count": 6,
   "metadata": {},
   "outputs": [],
   "source": [
    "# Growth GDP\n",
    "data_country['gdp_growth'] = np.where(data_country['gdp_percapita_usd_2013'] != 0,\n",
    "                                                             (data_country['gdp_percapita_usd'] / data_country['gdp_percapita_usd_2013'] - 1) * 100, 0)"
   ]
  },
  {
   "cell_type": "code",
   "execution_count": 7,
   "metadata": {},
   "outputs": [],
   "source": [
    "#remove column not needed for the analysis\n",
    "data_country.drop(['gdp_percapita_usd_2013'], axis = 1, inplace=True)"
   ]
  },
  {
   "cell_type": "markdown",
   "metadata": {},
   "source": [
    "<h3>Political Stability</h3><a id='stab'></a>"
   ]
  },
  {
   "cell_type": "code",
   "execution_count": 8,
   "metadata": {},
   "outputs": [],
   "source": [
    "stability.columns = [\"xx\", \"xx2\", \"country_code\", \"country\", 'xx3', 'xx4', 'xx5', 'item', 'xx6', \"xx8\", \"xx8\", \"value\", 'xx9', 'xx10', 'xx11']\n",
    "stability = stability.pivot_table(index=['country_code', 'country'], columns = ['item'], values=['value'])\n",
    "stability.columns = ['political_stability_index']\n",
    "stability.reset_index(inplace=True)\n",
    "\n",
    "data_country = pd.merge(data_country, stability, how='left')"
   ]
  },
  {
   "cell_type": "markdown",
   "metadata": {},
   "source": [
    "<h3>European Union countries</h3><a id='eu'></a>"
   ]
  },
  {
   "cell_type": "code",
   "execution_count": 9,
   "metadata": {},
   "outputs": [
    {
     "data": {
      "text/html": [
       "<div>\n",
       "<style scoped>\n",
       "    .dataframe tbody tr th:only-of-type {\n",
       "        vertical-align: middle;\n",
       "    }\n",
       "\n",
       "    .dataframe tbody tr th {\n",
       "        vertical-align: top;\n",
       "    }\n",
       "\n",
       "    .dataframe thead th {\n",
       "        text-align: right;\n",
       "    }\n",
       "</style>\n",
       "<table border=\"1\" class=\"dataframe\">\n",
       "  <thead>\n",
       "    <tr style=\"text-align: right;\">\n",
       "      <th></th>\n",
       "      <th>x</th>\n",
       "    </tr>\n",
       "  </thead>\n",
       "  <tbody>\n",
       "    <tr>\n",
       "      <th>5</th>\n",
       "      <td>Czech Republic</td>\n",
       "    </tr>\n",
       "    <tr>\n",
       "      <th>23</th>\n",
       "      <td>Slovak Republic</td>\n",
       "    </tr>\n",
       "    <tr>\n",
       "      <th>27</th>\n",
       "      <td>United Kingdom</td>\n",
       "    </tr>\n",
       "  </tbody>\n",
       "</table>\n",
       "</div>"
      ],
      "text/plain": [
       "                  x\n",
       "5    Czech Republic\n",
       "23  Slovak Republic\n",
       "27   United Kingdom"
      ]
     },
     "execution_count": 9,
     "metadata": {},
     "output_type": "execute_result"
    }
   ],
   "source": [
    "#countries with different spellings between eu_country and data_country\n",
    "eu_country.loc[~eu_country['x'].isin(data_country['country'])]"
   ]
  },
  {
   "cell_type": "code",
   "execution_count": 10,
   "metadata": {},
   "outputs": [],
   "source": [
    "# correct names\n",
    "eu_country.loc[eu_country['x'] == 'Czech Republic', 'x'] = 'Czechia'\n",
    "eu_country.loc[eu_country['x'] == 'Slovak Republic', 'x'] = 'Slovakia'\n",
    "eu_country.loc[eu_country['x'] == 'United Kingdom', 'x'] = 'United Kingdom of Great Britain and Northern Ireland'"
   ]
  },
  {
   "cell_type": "code",
   "execution_count": 11,
   "metadata": {},
   "outputs": [],
   "source": [
    "# flag EU countries\n",
    "data_country.loc[data_country['country'].isin(eu_country['x']), 'euro_union'] = 'EU'\n",
    "data_country.loc[~data_country['country'].isin(eu_country['x']), 'euro_union'] = 'Outside EU'"
   ]
  },
  {
   "cell_type": "markdown",
   "metadata": {},
   "source": [
    "<hr>"
   ]
  },
  {
   "cell_type": "markdown",
   "metadata": {},
   "source": [
    "<h2>Adding Food-related data</h2><a id='food'></a>"
   ]
  },
  {
   "cell_type": "markdown",
   "metadata": {},
   "source": [
    "<h3>Food Balance</h3><a id='fb'></a>"
   ]
  },
  {
   "cell_type": "code",
   "execution_count": 12,
   "metadata": {},
   "outputs": [],
   "source": [
    "# group food datatsets\n",
    "temp = [veg2013, ani2013, ani2017, veg2017]\n",
    "temp = pd.concat(temp, ignore_index=True)\n",
    "\n",
    "# delete ani2013, veg2013, ani2017, veg2017\n",
    "del ani2013, veg2013, ani2017, veg2017\n",
    "\n",
    "temp.columns = [\"xx\", \"xx2\", \"country_code\", \"country\", 'xx3', 'element', 'item_code', 'item',\n",
    "                'xx4', \"year\", \"unit\", \"value\", 'xx5', 'flag_description', 'origin', 'xx6']\n",
    "\n",
    "data = temp.pivot_table(index=[\"year\", \"country_code\", \"country\", \"origin\", \"item_code\", \\\n",
    "                               \"item\"], columns = [\"element\"], values=[\"value\"], aggfunc=sum)\n",
    "\n",
    "# rename columns\n",
    "data.columns = ['domestic_supply_quantity','export_quantity','fat_supply_quantity_gcapitaday','feed',\n",
    "                'food','food_supply_kcalcapitaday','food_supply_quantity_kgcapitayr','import_quantity','losses','other_uses','processing',\n",
    "                'production', 'protein_supply_quantity_gcapitaday', 'residuals', 'seed','stock_variation','tourist_consumption']\n",
    "\n",
    "data = data.reset_index()\n",
    "\n",
    "# merge data and pop\n",
    "data = pd.merge(data, pop, how='left')"
   ]
  },
  {
   "cell_type": "markdown",
   "metadata": {},
   "source": [
    "Data for China are duplicated. \n",
    "<br>data for 'China' = sum of the splitted data for 'China, mainland', 'China, Hong Kong', 'China, Macao', 'China, Province of Taiwan'.\n",
    "- deletion of 'China' data (code 351)\n",
    "- 'China, mainland', 'China, Hong Kong', 'China, Macao', 'China, Province of Taiwan' data are kept in order to preserve a better granularity.\n",
    "\n",
    "\n",
    "Data for Bermuda and Brunei are no longer available in 2017."
   ]
  },
  {
   "cell_type": "code",
   "execution_count": 13,
   "metadata": {},
   "outputs": [],
   "source": [
    "# remove doublon from China (code_country 351)\n",
    "data = data.loc[data.country_code != 351]\n",
    "\n",
    "# remove Bermuda and Brunei - no information for 2017\n",
    "data = data.loc[data.country != 'Bermuda']\n",
    "data = data.loc[data.country != 'Brunei Darussalam']"
   ]
  },
  {
   "cell_type": "markdown",
   "metadata": {},
   "source": [
    "<h3>Diet - Calories and Proteins</h3><a id='diet'></a>"
   ]
  },
  {
   "cell_type": "markdown",
   "metadata": {},
   "source": [
    "- Food supply kcal per capita per day - per country\n",
    "- Protein supply g per capita per day - per country"
   ]
  },
  {
   "cell_type": "code",
   "execution_count": 14,
   "metadata": {},
   "outputs": [
    {
     "data": {
      "text/plain": [
       "Index(['year', 'country_code', 'country', 'origin', 'item_code', 'item',\n",
       "       'domestic_supply_quantity', 'export_quantity',\n",
       "       'fat_supply_quantity_gcapitaday', 'feed', 'food',\n",
       "       'food_supply_kcalcapitaday', 'food_supply_quantity_kgcapitayr',\n",
       "       'import_quantity', 'losses', 'other_uses', 'processing', 'production',\n",
       "       'protein_supply_quantity_gcapitaday', 'residuals', 'seed',\n",
       "       'stock_variation', 'tourist_consumption', 'population_total_thousand'],\n",
       "      dtype='object')"
      ]
     },
     "execution_count": 14,
     "metadata": {},
     "output_type": "execute_result"
    }
   ],
   "source": [
    "data.columns"
   ]
  },
  {
   "cell_type": "code",
   "execution_count": 15,
   "metadata": {},
   "outputs": [],
   "source": [
    "temp = data.pivot_table(index=['country_code', 'country'], columns=['year'],\n",
    "                        values=['food_supply_kcalcapitaday',  'protein_supply_quantity_gcapitaday', 'domestic_supply_quantity'], aggfunc=sum)\n",
    "temp.columns = ['food_supply_kcalcapitaday_2013', 'protein_supply_gcapitaday_2013', 'food_supply_kcalcapitaday', 'protein_supply_gcapitaday',  \n",
    "                'dom_supply_tons_2013', 'dom_supply_tons']\n",
    "temp = temp.reset_index()\n",
    "\n",
    "data_country = pd.merge(temp, data_country, how='left')"
   ]
  },
  {
   "cell_type": "markdown",
   "metadata": {},
   "source": [
    "**Animal proteins in the total protein supply**\n",
    "\n",
    "- Prevalence of the animal proteins in the total proteins - per country\n",
    "- Growth of the protein supply per country (%) from animals - 2017 vs 2013"
   ]
  },
  {
   "cell_type": "code",
   "execution_count": 16,
   "metadata": {},
   "outputs": [],
   "source": [
    "NB_DAYS_YEAR = 365 "
   ]
  },
  {
   "cell_type": "code",
   "execution_count": 17,
   "metadata": {},
   "outputs": [],
   "source": [
    "# Protein Supply in kg\n",
    "for (x,y, z) in [('protein_supply_gcapitaday','pop_thousand', 'protein_supply_kg'),\n",
    "              ('protein_supply_gcapitaday_2013','pop_thousand_2013', 'protein_supply_kg_2013') ]:\n",
    "    \n",
    "    data_country[z] = data_country[x] / 1000 * NB_DAYS_YEAR *  data_country[y] * 1000"
   ]
  },
  {
   "cell_type": "code",
   "execution_count": 18,
   "metadata": {},
   "outputs": [],
   "source": [
    "temp = data.loc[data['origin']=='animal'].pivot_table(index=['country_code', 'country'], columns=['year'],\n",
    "                                                      values=[ 'protein_supply_quantity_gcapitaday'], aggfunc=sum)\n",
    "temp.columns = ['protein_supply_animal_gcapitaday_2013', 'protein_supply_animal_gcapitaday']\n",
    "temp.reset_index(inplace=True)\n",
    "\n",
    "data_country = pd.merge(data_country, temp, how='left')"
   ]
  },
  {
   "cell_type": "code",
   "execution_count": 19,
   "metadata": {},
   "outputs": [],
   "source": [
    "# Protein Supply from animals in kg \n",
    "for (x,y, z) in [('protein_supply_animal_gcapitaday','pop_thousand', 'protein_supply_animal_kg'),\n",
    "              ('protein_supply_animal_gcapitaday_2013','pop_thousand_2013', 'protein_supply_animal_kg_2013') ]:\n",
    "    \n",
    "    data_country[z] = data_country[x] / 1000 * NB_DAYS_YEAR *  data_country[y] * 1000"
   ]
  },
  {
   "cell_type": "code",
   "execution_count": 20,
   "metadata": {},
   "outputs": [],
   "source": [
    "# Proportion animal proteins in the total protein supply\n",
    "for (x,y, z) in [('protein_supply_animal_kg','protein_supply_kg', 'protein_animal_over_protein'),\n",
    "              ('protein_supply_animal_kg_2013','protein_supply_kg_2013', 'protein_animal_over_protein_2013'), \n",
    "                ]:\n",
    "    \n",
    "    data_country[z] = data_country[x] / data_country[y] * 100"
   ]
  },
  {
   "cell_type": "code",
   "execution_count": 21,
   "metadata": {},
   "outputs": [],
   "source": [
    "#remove column not needed for the analysis\n",
    "data_country.drop(['food_supply_kcalcapitaday_2013' , 'protein_supply_gcapitaday_2013', \n",
    "       'pop_thousand_2013', \n",
    "       'protein_supply_kg', 'protein_supply_kg_2013',\n",
    "       'protein_supply_animal_gcapitaday_2013',\n",
    "       'protein_supply_animal_gcapitaday', 'protein_supply_animal_kg',\n",
    "       'protein_supply_animal_kg_2013', \n",
    "       'protein_animal_over_protein_2013',  'dom_supply_tons_2013'], axis = 1, inplace=True)"
   ]
  },
  {
   "cell_type": "markdown",
   "metadata": {},
   "source": [
    "<h3>Poultry key data</h3><a id='poultry'></a>"
   ]
  },
  {
   "cell_type": "markdown",
   "metadata": {},
   "source": [
    "Poultry are domesticated avian species that can be raised for eggs, meat and/or feathers. The term “poultry” covers a wide range of birds, from indigenous and commercial breeds of chickens to Muscovy ducks, mallard ducks, turkeys, guinea fowl, geese, quail, pigeons, ostriches and pheasants. \n",
    "\n",
    "- In 2017, chickens accounted for some 92 percent of the world’s poultry population, followed by ducks (5 percent), and turkeys (2 percent). \n",
    "- Chickens contribute 89 percent of world poultry meat production, followed by turkeys with 5 percent, ducks with 4 percent and geese and guinea fowl with 2 percent. The rest comes from other poultry species.\n",
    "- Chickens provide 92 percent of world egg production.\n",
    "\n",
    "source: http://www.fao.org/poultry-production-products/production/en/\n",
    "\n",
    "There is no granular data about chicken exclusively in the dataset 'animal' but the data for the category 'Poultry' (in which chicken is accounting around 90% of the total) give us a fair indicator of the chicken market in each country. \n",
    "\n",
    "Poultry composition: \n",
    "- Meat chicken, Fat liver prepared (foie gras), Meat chicken canned, Meat,duck, Meat goose and guinea fowl, Meat turkey."
   ]
  },
  {
   "cell_type": "code",
   "execution_count": 22,
   "metadata": {},
   "outputs": [
    {
     "data": {
      "text/plain": [
       "Index(['year', 'country_code', 'country', 'origin', 'item_code', 'item',\n",
       "       'domestic_supply_quantity', 'export_quantity',\n",
       "       'fat_supply_quantity_gcapitaday', 'feed', 'food',\n",
       "       'food_supply_kcalcapitaday', 'food_supply_quantity_kgcapitayr',\n",
       "       'import_quantity', 'losses', 'other_uses', 'processing', 'production',\n",
       "       'protein_supply_quantity_gcapitaday', 'residuals', 'seed',\n",
       "       'stock_variation', 'tourist_consumption', 'population_total_thousand'],\n",
       "      dtype='object')"
      ]
     },
     "execution_count": 22,
     "metadata": {},
     "output_type": "execute_result"
    }
   ],
   "source": [
    "data.columns"
   ]
  },
  {
   "cell_type": "code",
   "execution_count": 23,
   "metadata": {},
   "outputs": [],
   "source": [
    "temp = data.loc[data['item'] == 'Poultry Meat'].pivot_table(index=['country_code', 'country'], columns=['year'], \\\n",
    "                                                            values=[ 'domestic_supply_quantity', 'production', 'import_quantity', 'export_quantity', 'protein_supply_quantity_gcapitaday'], aggfunc=sum)\n",
    "\n",
    "temp.columns = ['dom_supply_poultry_tons_2013', 'dom_supply_poultry_tons', \n",
    "                'prod_poultry_tons_2013', 'prod_poultry_tons', \n",
    "                'import_poultry_tons_2013', 'import_poultry_tons', \n",
    "                'export_poultry_tons_2013', 'export_poultry_tons',\n",
    "                'protein_poultry_gcapitaday_2013', 'protein_poultry_gcapitaday']\n",
    "\n",
    "temp.reset_index(inplace=True)\n",
    "\n",
    "#convert 1000 tons to tons\n",
    "for z in temp.iloc[:, list(range(2, len(temp.columns)-2))].columns:\n",
    "    temp[str(z)] = temp[str(z)] * 1000\n",
    "\n",
    "data_country = pd.merge(data_country, temp, how='left')"
   ]
  },
  {
   "cell_type": "markdown",
   "metadata": {},
   "source": [
    "- % growth Poulty Imports (2017 vs 2013)\n",
    "- % growth Poultry Production (2017 vs 2013)\n",
    "\n"
   ]
  },
  {
   "cell_type": "code",
   "execution_count": 24,
   "metadata": {},
   "outputs": [],
   "source": [
    " data_country['net_import_poultry_tons'] = data_country['import_poultry_tons'] - data_country['export_poultry_tons']\n",
    "data_country['net_import_poultry_tons_2013'] = data_country['import_poultry_tons_2013'] - data_country['export_poultry_tons_2013']"
   ]
  },
  {
   "cell_type": "code",
   "execution_count": 25,
   "metadata": {},
   "outputs": [],
   "source": [
    "#Poultry: Proportion of imports of in the domestic supply, Proportion of production in the domestic supply\n",
    "\n",
    "for (x,y, z) in [('dom_supply_poultry_tons','net_import_poultry_tons', 'net_import_poultry_over_domsupply'),\n",
    "              ('dom_supply_poultry_tons','import_poultry_tons', 'import_poultry_over_domsupply'),\n",
    "                 ('dom_supply_poultry_tons','prod_poultry_tons', 'prod_poultry_over_domsupply')]:\n",
    "    data_country.loc[(data_country[x] ==0) & (data_country[y] ==0), z] = 0\n",
    "    data_country.loc[(data_country[x] ==0) & (data_country[y] !=0), z] = 100\n",
    "    data_country.loc[data_country[x] !=0, z] = (data_country[y] / data_country[x]) * 100\n"
   ]
  },
  {
   "cell_type": "code",
   "execution_count": 26,
   "metadata": {},
   "outputs": [],
   "source": [
    "# Poultry:  growth production and growth import\n",
    "\n",
    "for (x,y, z) in [('net_import_poultry_tons_2013','net_import_poultry_tons', 'growth_net_import_poultry')]:\n",
    "    \n",
    "    data_country.loc[(data_country[x] ==0) & (data_country[y] ==0), z] = 0\n",
    "    data_country.loc[(data_country[x] ==0) & (data_country[y] !=0), z] = 100\n",
    "    data_country.loc[data_country[x] !=0, z] = (data_country[y] / data_country[x] - 1) * 100"
   ]
  },
  {
   "cell_type": "code",
   "execution_count": 27,
   "metadata": {},
   "outputs": [],
   "source": [
    "#remove column not needed for the analysis\n",
    "data_country.drop(['dom_supply_poultry_tons_2013', 'prod_poultry_tons_2013', 'import_poultry_tons_2013', 'export_poultry_tons_2013', \n",
    "                   'export_poultry_tons', 'net_import_poultry_tons_2013', 'protein_poultry_gcapitaday_2013']\n",
    "                  , axis = 1, inplace=True)"
   ]
  },
  {
   "cell_type": "markdown",
   "metadata": {},
   "source": [
    "<hr>"
   ]
  },
  {
   "cell_type": "markdown",
   "metadata": {},
   "source": [
    "<h2>Imputing missing data and verifying dataset</h2><a id='imputation'></a>"
   ]
  },
  {
   "cell_type": "markdown",
   "metadata": {
    "variables": {
     "data_country.loc[data_country['political_stability_index'].isna()].country.tolist()": "[&#39;French Polynesia&#39;, &#39;Namibia&#39;, &#39;New Caledonia&#39;]"
    }
   },
   "source": [
    "Countries with no political stability index: {{data_country.loc[data_country['political_stability_index'].isna()].country.tolist()}}\n",
    "\n",
    "- Imputation possible for the 2 French territories (French Polynesia and New Caledonia) with France's index.\n",
    "- Imputation possible for Namibia with United Arab Emirates' index - the political stability index of the UAE is the closest (and almost equivalent) of Namibia in 2017 (source: World Bank - https://www.theglobaleconomy.com/rankings/wb_political_stability/)"
   ]
  },
  {
   "cell_type": "code",
   "execution_count": 28,
   "metadata": {},
   "outputs": [],
   "source": [
    "# imputation French Polynesia and New Caledonia\n",
    "for z in ['French Polynesia', 'New Caledonia']:\n",
    "    data_country.loc[data_country['country'] == z, 'political_stability_index'] = \\\n",
    "                                            data_country.loc[data_country['country'] == 'France']['political_stability_index'].values\n",
    "\n",
    "# imputation Namibia\n",
    "data_country.loc[data_country['country'] == 'Namibia', 'political_stability_index'] = \\\n",
    "                                            data_country.loc[data_country['country'] == 'United Arab Emirates']['political_stability_index'].values"
   ]
  },
  {
   "cell_type": "code",
   "execution_count": 29,
   "metadata": {},
   "outputs": [
    {
     "data": {
      "text/plain": [
       "country_code                         False\n",
       "country                              False\n",
       "food_supply_kcalcapitaday            False\n",
       "protein_supply_gcapitaday            False\n",
       "dom_supply_tons                      False\n",
       "pop_thousand                         False\n",
       "pop_growth                           False\n",
       "gdp_percapita_usd                    False\n",
       "gdp_growth                           False\n",
       "political_stability_index            False\n",
       "euro_union                           False\n",
       "protein_animal_over_protein          False\n",
       "dom_supply_poultry_tons              False\n",
       "prod_poultry_tons                    False\n",
       "import_poultry_tons                  False\n",
       "protein_poultry_gcapitaday           False\n",
       "net_import_poultry_tons              False\n",
       "net_import_poultry_over_domsupply    False\n",
       "import_poultry_over_domsupply        False\n",
       "prod_poultry_over_domsupply          False\n",
       "growth_net_import_poultry            False\n",
       "growth_domsupply_poultry             False\n",
       "dtype: bool"
      ]
     },
     "execution_count": 29,
     "metadata": {},
     "output_type": "execute_result"
    }
   ],
   "source": [
    "data_country.isna().any()"
   ]
  },
  {
   "cell_type": "markdown",
   "metadata": {},
   "source": [
    "<h2>Preparation datasets</h2><a id='prep'></a>"
   ]
  },
  {
   "cell_type": "code",
   "execution_count": 30,
   "metadata": {},
   "outputs": [],
   "source": [
    "#remove column not needed for the analysis\n",
    "data_country.drop(['country_code'], axis = 1, inplace=True)"
   ]
  },
  {
   "cell_type": "markdown",
   "metadata": {},
   "source": [
    "<h3>Simplified dataset</h3><a id='simplified'></a>"
   ]
  },
  {
   "cell_type": "code",
   "execution_count": 31,
   "metadata": {},
   "outputs": [
    {
     "data": {
      "text/plain": [
       "Index(['country', 'food_supply_kcalcapitaday', 'protein_supply_gcapitaday',\n",
       "       'dom_supply_tons', 'pop_thousand', 'pop_growth', 'gdp_percapita_usd',\n",
       "       'gdp_growth', 'political_stability_index', 'euro_union',\n",
       "       'protein_animal_over_protein', 'dom_supply_poultry_tons',\n",
       "       'prod_poultry_tons', 'import_poultry_tons',\n",
       "       'protein_poultry_gcapitaday', 'net_import_poultry_tons',\n",
       "       'net_import_poultry_over_domsupply', 'import_poultry_over_domsupply',\n",
       "       'prod_poultry_over_domsupply', 'growth_net_import_poultry',\n",
       "       'growth_domsupply_poultry'],\n",
       "      dtype='object')"
      ]
     },
     "execution_count": 31,
     "metadata": {},
     "output_type": "execute_result"
    }
   ],
   "source": [
    "data_country.columns"
   ]
  },
  {
   "cell_type": "code",
   "execution_count": 32,
   "metadata": {},
   "outputs": [],
   "source": [
    "data_country_simplified = data_country[['country', 'food_supply_kcalcapitaday', 'pop_growth', 'protein_supply_gcapitaday',\n",
    "                                        'protein_animal_over_protein', 'pop_thousand', 'euro_union']]"
   ]
  },
  {
   "cell_type": "code",
   "execution_count": 33,
   "metadata": {},
   "outputs": [
    {
     "data": {
      "text/html": [
       "<div>\n",
       "<style scoped>\n",
       "    .dataframe tbody tr th:only-of-type {\n",
       "        vertical-align: middle;\n",
       "    }\n",
       "\n",
       "    .dataframe tbody tr th {\n",
       "        vertical-align: top;\n",
       "    }\n",
       "\n",
       "    .dataframe thead th {\n",
       "        text-align: right;\n",
       "    }\n",
       "</style>\n",
       "<table border=\"1\" class=\"dataframe\">\n",
       "  <thead>\n",
       "    <tr style=\"text-align: right;\">\n",
       "      <th></th>\n",
       "      <th>country</th>\n",
       "      <th>food_supply_kcalcapitaday</th>\n",
       "      <th>pop_growth</th>\n",
       "      <th>protein_supply_gcapitaday</th>\n",
       "      <th>protein_animal_over_protein</th>\n",
       "      <th>pop_thousand</th>\n",
       "      <th>euro_union</th>\n",
       "    </tr>\n",
       "  </thead>\n",
       "  <tbody>\n",
       "    <tr>\n",
       "      <th>0</th>\n",
       "      <td>Armenia</td>\n",
       "      <td>2924.0</td>\n",
       "      <td>1.629045</td>\n",
       "      <td>3072.0</td>\n",
       "      <td>1.450521</td>\n",
       "      <td>2944.791</td>\n",
       "      <td>Outside EU</td>\n",
       "    </tr>\n",
       "    <tr>\n",
       "      <th>1</th>\n",
       "      <td>Afghanistan</td>\n",
       "      <td>2087.0</td>\n",
       "      <td>12.477767</td>\n",
       "      <td>1997.0</td>\n",
       "      <td>0.528793</td>\n",
       "      <td>36296.113</td>\n",
       "      <td>Outside EU</td>\n",
       "    </tr>\n",
       "    <tr>\n",
       "      <th>2</th>\n",
       "      <td>Albania</td>\n",
       "      <td>3188.0</td>\n",
       "      <td>-0.675703</td>\n",
       "      <td>3400.0</td>\n",
       "      <td>1.950588</td>\n",
       "      <td>2884.169</td>\n",
       "      <td>Outside EU</td>\n",
       "    </tr>\n",
       "    <tr>\n",
       "      <th>3</th>\n",
       "      <td>Algeria</td>\n",
       "      <td>3293.0</td>\n",
       "      <td>8.518733</td>\n",
       "      <td>3345.0</td>\n",
       "      <td>0.768311</td>\n",
       "      <td>41389.189</td>\n",
       "      <td>Outside EU</td>\n",
       "    </tr>\n",
       "    <tr>\n",
       "      <th>4</th>\n",
       "      <td>Angola</td>\n",
       "      <td>2474.0</td>\n",
       "      <td>14.610305</td>\n",
       "      <td>2266.0</td>\n",
       "      <td>0.726831</td>\n",
       "      <td>29816.766</td>\n",
       "      <td>Outside EU</td>\n",
       "    </tr>\n",
       "    <tr>\n",
       "      <th>...</th>\n",
       "      <td>...</td>\n",
       "      <td>...</td>\n",
       "      <td>...</td>\n",
       "      <td>...</td>\n",
       "      <td>...</td>\n",
       "      <td>...</td>\n",
       "      <td>...</td>\n",
       "    </tr>\n",
       "    <tr>\n",
       "      <th>167</th>\n",
       "      <td>Belgium</td>\n",
       "      <td>3737.0</td>\n",
       "      <td>2.382453</td>\n",
       "      <td>3770.0</td>\n",
       "      <td>1.535279</td>\n",
       "      <td>11419.748</td>\n",
       "      <td>EU</td>\n",
       "    </tr>\n",
       "    <tr>\n",
       "      <th>168</th>\n",
       "      <td>Luxembourg</td>\n",
       "      <td>3540.0</td>\n",
       "      <td>9.095768</td>\n",
       "      <td>3334.0</td>\n",
       "      <td>2.020996</td>\n",
       "      <td>591.910</td>\n",
       "      <td>EU</td>\n",
       "    </tr>\n",
       "    <tr>\n",
       "      <th>169</th>\n",
       "      <td>Serbia</td>\n",
       "      <td>2725.0</td>\n",
       "      <td>-1.000975</td>\n",
       "      <td>2799.0</td>\n",
       "      <td>1.429439</td>\n",
       "      <td>8829.628</td>\n",
       "      <td>Outside EU</td>\n",
       "    </tr>\n",
       "    <tr>\n",
       "      <th>170</th>\n",
       "      <td>Montenegro</td>\n",
       "      <td>3490.0</td>\n",
       "      <td>0.194462</td>\n",
       "      <td>3478.0</td>\n",
       "      <td>1.974411</td>\n",
       "      <td>627.563</td>\n",
       "      <td>Outside EU</td>\n",
       "    </tr>\n",
       "    <tr>\n",
       "      <th>171</th>\n",
       "      <td>Sudan</td>\n",
       "      <td>2335.0</td>\n",
       "      <td>10.090612</td>\n",
       "      <td>2431.0</td>\n",
       "      <td>0.869601</td>\n",
       "      <td>40813.397</td>\n",
       "      <td>Outside EU</td>\n",
       "    </tr>\n",
       "  </tbody>\n",
       "</table>\n",
       "<p>172 rows × 7 columns</p>\n",
       "</div>"
      ],
      "text/plain": [
       "         country  food_supply_kcalcapitaday  pop_growth  \\\n",
       "0        Armenia                     2924.0    1.629045   \n",
       "1    Afghanistan                     2087.0   12.477767   \n",
       "2        Albania                     3188.0   -0.675703   \n",
       "3        Algeria                     3293.0    8.518733   \n",
       "4         Angola                     2474.0   14.610305   \n",
       "..           ...                        ...         ...   \n",
       "167      Belgium                     3737.0    2.382453   \n",
       "168   Luxembourg                     3540.0    9.095768   \n",
       "169       Serbia                     2725.0   -1.000975   \n",
       "170   Montenegro                     3490.0    0.194462   \n",
       "171        Sudan                     2335.0   10.090612   \n",
       "\n",
       "     protein_supply_gcapitaday  protein_animal_over_protein  pop_thousand  \\\n",
       "0                       3072.0                     1.450521      2944.791   \n",
       "1                       1997.0                     0.528793     36296.113   \n",
       "2                       3400.0                     1.950588      2884.169   \n",
       "3                       3345.0                     0.768311     41389.189   \n",
       "4                       2266.0                     0.726831     29816.766   \n",
       "..                         ...                          ...           ...   \n",
       "167                     3770.0                     1.535279     11419.748   \n",
       "168                     3334.0                     2.020996       591.910   \n",
       "169                     2799.0                     1.429439      8829.628   \n",
       "170                     3478.0                     1.974411       627.563   \n",
       "171                     2431.0                     0.869601     40813.397   \n",
       "\n",
       "     euro_union  \n",
       "0    Outside EU  \n",
       "1    Outside EU  \n",
       "2    Outside EU  \n",
       "3    Outside EU  \n",
       "4    Outside EU  \n",
       "..          ...  \n",
       "167          EU  \n",
       "168          EU  \n",
       "169  Outside EU  \n",
       "170  Outside EU  \n",
       "171  Outside EU  \n",
       "\n",
       "[172 rows x 7 columns]"
      ]
     },
     "execution_count": 33,
     "metadata": {},
     "output_type": "execute_result"
    }
   ],
   "source": [
    "data_country_simplified"
   ]
  },
  {
   "cell_type": "markdown",
   "metadata": {},
   "source": [
    "<h3>Complete dataset</h3><a id='simplified'></a>"
   ]
  },
  {
   "cell_type": "markdown",
   "metadata": {},
   "source": [
    "data_country : complete dataset\n",
    "- data_pca : data_country with only the variable required fo the PCA\n",
    "    - data_pca_poultry : sub dataset of data_pca with only variables related to Poultry \n",
    "    - data_pca_not_poultry : sub dataset of data_pca with variables not related to Poultry"
   ]
  },
  {
   "cell_type": "code",
   "execution_count": 34,
   "metadata": {},
   "outputs": [
    {
     "data": {
      "text/html": [
       "<div>\n",
       "<style scoped>\n",
       "    .dataframe tbody tr th:only-of-type {\n",
       "        vertical-align: middle;\n",
       "    }\n",
       "\n",
       "    .dataframe tbody tr th {\n",
       "        vertical-align: top;\n",
       "    }\n",
       "\n",
       "    .dataframe thead th {\n",
       "        text-align: right;\n",
       "    }\n",
       "</style>\n",
       "<table border=\"1\" class=\"dataframe\">\n",
       "  <thead>\n",
       "    <tr style=\"text-align: right;\">\n",
       "      <th></th>\n",
       "      <th>country</th>\n",
       "      <th>food_supply_kcalcapitaday</th>\n",
       "      <th>protein_supply_gcapitaday</th>\n",
       "      <th>dom_supply_tons</th>\n",
       "      <th>pop_thousand</th>\n",
       "      <th>pop_growth</th>\n",
       "      <th>gdp_percapita_usd</th>\n",
       "      <th>gdp_growth</th>\n",
       "      <th>political_stability_index</th>\n",
       "      <th>euro_union</th>\n",
       "      <th>...</th>\n",
       "      <th>dom_supply_poultry_tons</th>\n",
       "      <th>prod_poultry_tons</th>\n",
       "      <th>import_poultry_tons</th>\n",
       "      <th>protein_poultry_gcapitaday</th>\n",
       "      <th>net_import_poultry_tons</th>\n",
       "      <th>net_import_poultry_over_domsupply</th>\n",
       "      <th>import_poultry_over_domsupply</th>\n",
       "      <th>prod_poultry_over_domsupply</th>\n",
       "      <th>growth_net_import_poultry</th>\n",
       "      <th>growth_domsupply_poultry</th>\n",
       "    </tr>\n",
       "  </thead>\n",
       "  <tbody>\n",
       "    <tr>\n",
       "      <th>0</th>\n",
       "      <td>Armenia</td>\n",
       "      <td>2924.0</td>\n",
       "      <td>3072.0</td>\n",
       "      <td>97.33</td>\n",
       "      <td>2944.791</td>\n",
       "      <td>1.629045</td>\n",
       "      <td>3078.978564</td>\n",
       "      <td>9.889928</td>\n",
       "      <td>-0.71</td>\n",
       "      <td>Outside EU</td>\n",
       "      <td>...</td>\n",
       "      <td>47000.0</td>\n",
       "      <td>0.0</td>\n",
       "      <td>35000.0</td>\n",
       "      <td>5.44</td>\n",
       "      <td>24000.0</td>\n",
       "      <td>51.063830</td>\n",
       "      <td>74.468085</td>\n",
       "      <td>0.000000</td>\n",
       "      <td>0.000000</td>\n",
       "      <td>17.500000</td>\n",
       "    </tr>\n",
       "    <tr>\n",
       "      <th>1</th>\n",
       "      <td>Afghanistan</td>\n",
       "      <td>2087.0</td>\n",
       "      <td>1997.0</td>\n",
       "      <td>54.09</td>\n",
       "      <td>36296.113</td>\n",
       "      <td>12.477767</td>\n",
       "      <td>468.297893</td>\n",
       "      <td>-5.206857</td>\n",
       "      <td>-2.78</td>\n",
       "      <td>Outside EU</td>\n",
       "      <td>...</td>\n",
       "      <td>57000.0</td>\n",
       "      <td>0.0</td>\n",
       "      <td>29000.0</td>\n",
       "      <td>0.54</td>\n",
       "      <td>1000.0</td>\n",
       "      <td>1.754386</td>\n",
       "      <td>50.877193</td>\n",
       "      <td>0.000000</td>\n",
       "      <td>-95.454545</td>\n",
       "      <td>-24.000000</td>\n",
       "    </tr>\n",
       "    <tr>\n",
       "      <th>2</th>\n",
       "      <td>Albania</td>\n",
       "      <td>3188.0</td>\n",
       "      <td>3400.0</td>\n",
       "      <td>119.50</td>\n",
       "      <td>2884.169</td>\n",
       "      <td>-0.675703</td>\n",
       "      <td>3347.701760</td>\n",
       "      <td>7.818559</td>\n",
       "      <td>0.40</td>\n",
       "      <td>Outside EU</td>\n",
       "      <td>...</td>\n",
       "      <td>47000.0</td>\n",
       "      <td>0.0</td>\n",
       "      <td>38000.0</td>\n",
       "      <td>6.26</td>\n",
       "      <td>25000.0</td>\n",
       "      <td>53.191489</td>\n",
       "      <td>80.851064</td>\n",
       "      <td>0.000000</td>\n",
       "      <td>212.500000</td>\n",
       "      <td>11.904762</td>\n",
       "    </tr>\n",
       "    <tr>\n",
       "      <th>3</th>\n",
       "      <td>Algeria</td>\n",
       "      <td>3293.0</td>\n",
       "      <td>3345.0</td>\n",
       "      <td>92.85</td>\n",
       "      <td>41389.189</td>\n",
       "      <td>8.518733</td>\n",
       "      <td>3264.338962</td>\n",
       "      <td>-7.348644</td>\n",
       "      <td>-0.96</td>\n",
       "      <td>Outside EU</td>\n",
       "      <td>...</td>\n",
       "      <td>277000.0</td>\n",
       "      <td>0.0</td>\n",
       "      <td>2000.0</td>\n",
       "      <td>1.97</td>\n",
       "      <td>-273000.0</td>\n",
       "      <td>-98.555957</td>\n",
       "      <td>0.722022</td>\n",
       "      <td>0.000000</td>\n",
       "      <td>-4.210526</td>\n",
       "      <td>-4.810997</td>\n",
       "    </tr>\n",
       "    <tr>\n",
       "      <th>4</th>\n",
       "      <td>Angola</td>\n",
       "      <td>2474.0</td>\n",
       "      <td>2266.0</td>\n",
       "      <td>54.09</td>\n",
       "      <td>29816.766</td>\n",
       "      <td>14.610305</td>\n",
       "      <td>2805.692595</td>\n",
       "      <td>-15.509934</td>\n",
       "      <td>-0.29</td>\n",
       "      <td>Outside EU</td>\n",
       "      <td>...</td>\n",
       "      <td>319000.0</td>\n",
       "      <td>0.0</td>\n",
       "      <td>277000.0</td>\n",
       "      <td>3.60</td>\n",
       "      <td>235000.0</td>\n",
       "      <td>73.667712</td>\n",
       "      <td>86.833856</td>\n",
       "      <td>0.000000</td>\n",
       "      <td>-24.679487</td>\n",
       "      <td>-14.247312</td>\n",
       "    </tr>\n",
       "    <tr>\n",
       "      <th>...</th>\n",
       "      <td>...</td>\n",
       "      <td>...</td>\n",
       "      <td>...</td>\n",
       "      <td>...</td>\n",
       "      <td>...</td>\n",
       "      <td>...</td>\n",
       "      <td>...</td>\n",
       "      <td>...</td>\n",
       "      <td>...</td>\n",
       "      <td>...</td>\n",
       "      <td>...</td>\n",
       "      <td>...</td>\n",
       "      <td>...</td>\n",
       "      <td>...</td>\n",
       "      <td>...</td>\n",
       "      <td>...</td>\n",
       "      <td>...</td>\n",
       "      <td>...</td>\n",
       "      <td>...</td>\n",
       "      <td>...</td>\n",
       "      <td>...</td>\n",
       "    </tr>\n",
       "    <tr>\n",
       "      <th>167</th>\n",
       "      <td>Belgium</td>\n",
       "      <td>3737.0</td>\n",
       "      <td>3770.0</td>\n",
       "      <td>101.35</td>\n",
       "      <td>11419.748</td>\n",
       "      <td>2.382453</td>\n",
       "      <td>32988.016625</td>\n",
       "      <td>0.652140</td>\n",
       "      <td>0.42</td>\n",
       "      <td>EU</td>\n",
       "      <td>...</td>\n",
       "      <td>152000.0</td>\n",
       "      <td>656000.0</td>\n",
       "      <td>338000.0</td>\n",
       "      <td>4.57</td>\n",
       "      <td>-125000.0</td>\n",
       "      <td>-82.236842</td>\n",
       "      <td>222.368421</td>\n",
       "      <td>431.578947</td>\n",
       "      <td>-8.759124</td>\n",
       "      <td>6.293706</td>\n",
       "    </tr>\n",
       "    <tr>\n",
       "      <th>168</th>\n",
       "      <td>Luxembourg</td>\n",
       "      <td>3540.0</td>\n",
       "      <td>3334.0</td>\n",
       "      <td>105.79</td>\n",
       "      <td>591.910</td>\n",
       "      <td>9.095768</td>\n",
       "      <td>81059.319125</td>\n",
       "      <td>3.178482</td>\n",
       "      <td>1.34</td>\n",
       "      <td>EU</td>\n",
       "      <td>...</td>\n",
       "      <td>11000.0</td>\n",
       "      <td>1000.0</td>\n",
       "      <td>11000.0</td>\n",
       "      <td>7.19</td>\n",
       "      <td>11000.0</td>\n",
       "      <td>100.000000</td>\n",
       "      <td>100.000000</td>\n",
       "      <td>9.090909</td>\n",
       "      <td>37.500000</td>\n",
       "      <td>0.000000</td>\n",
       "    </tr>\n",
       "    <tr>\n",
       "      <th>169</th>\n",
       "      <td>Serbia</td>\n",
       "      <td>2725.0</td>\n",
       "      <td>2799.0</td>\n",
       "      <td>82.43</td>\n",
       "      <td>8829.628</td>\n",
       "      <td>-1.000975</td>\n",
       "      <td>4580.333116</td>\n",
       "      <td>6.113513</td>\n",
       "      <td>0.10</td>\n",
       "      <td>Outside EU</td>\n",
       "      <td>...</td>\n",
       "      <td>90000.0</td>\n",
       "      <td>7000.0</td>\n",
       "      <td>12000.0</td>\n",
       "      <td>3.50</td>\n",
       "      <td>-73000.0</td>\n",
       "      <td>-81.111111</td>\n",
       "      <td>13.333333</td>\n",
       "      <td>7.777778</td>\n",
       "      <td>-9.876543</td>\n",
       "      <td>-10.891089</td>\n",
       "    </tr>\n",
       "    <tr>\n",
       "      <th>170</th>\n",
       "      <td>Montenegro</td>\n",
       "      <td>3490.0</td>\n",
       "      <td>3478.0</td>\n",
       "      <td>113.12</td>\n",
       "      <td>627.563</td>\n",
       "      <td>0.194462</td>\n",
       "      <td>5609.035115</td>\n",
       "      <td>11.469796</td>\n",
       "      <td>0.01</td>\n",
       "      <td>Outside EU</td>\n",
       "      <td>...</td>\n",
       "      <td>10000.0</td>\n",
       "      <td>0.0</td>\n",
       "      <td>8000.0</td>\n",
       "      <td>5.79</td>\n",
       "      <td>4000.0</td>\n",
       "      <td>40.000000</td>\n",
       "      <td>80.000000</td>\n",
       "      <td>0.000000</td>\n",
       "      <td>0.000000</td>\n",
       "      <td>0.000000</td>\n",
       "    </tr>\n",
       "    <tr>\n",
       "      <th>171</th>\n",
       "      <td>Sudan</td>\n",
       "      <td>2335.0</td>\n",
       "      <td>2431.0</td>\n",
       "      <td>67.88</td>\n",
       "      <td>40813.397</td>\n",
       "      <td>10.090612</td>\n",
       "      <td>1722.832006</td>\n",
       "      <td>30.959893</td>\n",
       "      <td>-2.01</td>\n",
       "      <td>Outside EU</td>\n",
       "      <td>...</td>\n",
       "      <td>69000.0</td>\n",
       "      <td>0.0</td>\n",
       "      <td>2000.0</td>\n",
       "      <td>0.54</td>\n",
       "      <td>-65000.0</td>\n",
       "      <td>-94.202899</td>\n",
       "      <td>2.898551</td>\n",
       "      <td>0.000000</td>\n",
       "      <td>47.727273</td>\n",
       "      <td>43.750000</td>\n",
       "    </tr>\n",
       "  </tbody>\n",
       "</table>\n",
       "<p>172 rows × 21 columns</p>\n",
       "</div>"
      ],
      "text/plain": [
       "         country  food_supply_kcalcapitaday  protein_supply_gcapitaday  \\\n",
       "0        Armenia                     2924.0                     3072.0   \n",
       "1    Afghanistan                     2087.0                     1997.0   \n",
       "2        Albania                     3188.0                     3400.0   \n",
       "3        Algeria                     3293.0                     3345.0   \n",
       "4         Angola                     2474.0                     2266.0   \n",
       "..           ...                        ...                        ...   \n",
       "167      Belgium                     3737.0                     3770.0   \n",
       "168   Luxembourg                     3540.0                     3334.0   \n",
       "169       Serbia                     2725.0                     2799.0   \n",
       "170   Montenegro                     3490.0                     3478.0   \n",
       "171        Sudan                     2335.0                     2431.0   \n",
       "\n",
       "     dom_supply_tons  pop_thousand  pop_growth  gdp_percapita_usd  gdp_growth  \\\n",
       "0              97.33      2944.791    1.629045        3078.978564    9.889928   \n",
       "1              54.09     36296.113   12.477767         468.297893   -5.206857   \n",
       "2             119.50      2884.169   -0.675703        3347.701760    7.818559   \n",
       "3              92.85     41389.189    8.518733        3264.338962   -7.348644   \n",
       "4              54.09     29816.766   14.610305        2805.692595  -15.509934   \n",
       "..               ...           ...         ...                ...         ...   \n",
       "167           101.35     11419.748    2.382453       32988.016625    0.652140   \n",
       "168           105.79       591.910    9.095768       81059.319125    3.178482   \n",
       "169            82.43      8829.628   -1.000975        4580.333116    6.113513   \n",
       "170           113.12       627.563    0.194462        5609.035115   11.469796   \n",
       "171            67.88     40813.397   10.090612        1722.832006   30.959893   \n",
       "\n",
       "     political_stability_index  euro_union  ...  dom_supply_poultry_tons  \\\n",
       "0                        -0.71  Outside EU  ...                  47000.0   \n",
       "1                        -2.78  Outside EU  ...                  57000.0   \n",
       "2                         0.40  Outside EU  ...                  47000.0   \n",
       "3                        -0.96  Outside EU  ...                 277000.0   \n",
       "4                        -0.29  Outside EU  ...                 319000.0   \n",
       "..                         ...         ...  ...                      ...   \n",
       "167                       0.42          EU  ...                 152000.0   \n",
       "168                       1.34          EU  ...                  11000.0   \n",
       "169                       0.10  Outside EU  ...                  90000.0   \n",
       "170                       0.01  Outside EU  ...                  10000.0   \n",
       "171                      -2.01  Outside EU  ...                  69000.0   \n",
       "\n",
       "     prod_poultry_tons  import_poultry_tons  protein_poultry_gcapitaday  \\\n",
       "0                  0.0              35000.0                        5.44   \n",
       "1                  0.0              29000.0                        0.54   \n",
       "2                  0.0              38000.0                        6.26   \n",
       "3                  0.0               2000.0                        1.97   \n",
       "4                  0.0             277000.0                        3.60   \n",
       "..                 ...                  ...                         ...   \n",
       "167           656000.0             338000.0                        4.57   \n",
       "168             1000.0              11000.0                        7.19   \n",
       "169             7000.0              12000.0                        3.50   \n",
       "170                0.0               8000.0                        5.79   \n",
       "171                0.0               2000.0                        0.54   \n",
       "\n",
       "     net_import_poultry_tons  net_import_poultry_over_domsupply  \\\n",
       "0                    24000.0                          51.063830   \n",
       "1                     1000.0                           1.754386   \n",
       "2                    25000.0                          53.191489   \n",
       "3                  -273000.0                         -98.555957   \n",
       "4                   235000.0                          73.667712   \n",
       "..                       ...                                ...   \n",
       "167                -125000.0                         -82.236842   \n",
       "168                  11000.0                         100.000000   \n",
       "169                 -73000.0                         -81.111111   \n",
       "170                   4000.0                          40.000000   \n",
       "171                 -65000.0                         -94.202899   \n",
       "\n",
       "     import_poultry_over_domsupply  prod_poultry_over_domsupply  \\\n",
       "0                        74.468085                     0.000000   \n",
       "1                        50.877193                     0.000000   \n",
       "2                        80.851064                     0.000000   \n",
       "3                         0.722022                     0.000000   \n",
       "4                        86.833856                     0.000000   \n",
       "..                             ...                          ...   \n",
       "167                     222.368421                   431.578947   \n",
       "168                     100.000000                     9.090909   \n",
       "169                      13.333333                     7.777778   \n",
       "170                      80.000000                     0.000000   \n",
       "171                       2.898551                     0.000000   \n",
       "\n",
       "     growth_net_import_poultry  growth_domsupply_poultry  \n",
       "0                     0.000000                 17.500000  \n",
       "1                   -95.454545                -24.000000  \n",
       "2                   212.500000                 11.904762  \n",
       "3                    -4.210526                 -4.810997  \n",
       "4                   -24.679487                -14.247312  \n",
       "..                         ...                       ...  \n",
       "167                  -8.759124                  6.293706  \n",
       "168                  37.500000                  0.000000  \n",
       "169                  -9.876543                -10.891089  \n",
       "170                   0.000000                  0.000000  \n",
       "171                  47.727273                 43.750000  \n",
       "\n",
       "[172 rows x 21 columns]"
      ]
     },
     "execution_count": 34,
     "metadata": {},
     "output_type": "execute_result"
    }
   ],
   "source": [
    "data_country"
   ]
  },
  {
   "cell_type": "code",
   "execution_count": 35,
   "metadata": {},
   "outputs": [
    {
     "data": {
      "text/plain": [
       "Index(['country', 'food_supply_kcalcapitaday', 'protein_supply_gcapitaday',\n",
       "       'dom_supply_tons', 'pop_thousand', 'pop_growth', 'gdp_percapita_usd',\n",
       "       'gdp_growth', 'political_stability_index', 'euro_union',\n",
       "       'protein_animal_over_protein', 'dom_supply_poultry_tons',\n",
       "       'prod_poultry_tons', 'import_poultry_tons',\n",
       "       'protein_poultry_gcapitaday', 'net_import_poultry_tons',\n",
       "       'net_import_poultry_over_domsupply', 'import_poultry_over_domsupply',\n",
       "       'prod_poultry_over_domsupply', 'growth_net_import_poultry',\n",
       "       'growth_domsupply_poultry'],\n",
       "      dtype='object')"
      ]
     },
     "execution_count": 35,
     "metadata": {},
     "output_type": "execute_result"
    }
   ],
   "source": [
    "data_country.columns"
   ]
  },
  {
   "cell_type": "code",
   "execution_count": 36,
   "metadata": {},
   "outputs": [],
   "source": [
    "# variables to be used on the PCA \n",
    "data_pca = data_country[['country', 'pop_growth', 'gdp_percapita_usd',  'political_stability_index',\n",
    "        'food_supply_kcalcapitaday', 'protein_supply_gcapitaday',\n",
    "        'protein_animal_over_protein',\n",
    "       'protein_poultry_gcapitaday',\n",
    "        'prod_poultry_over_domsupply', 'net_import_poultry_over_domsupply',\n",
    "        'growth_net_import_poultry']]"
   ]
  },
  {
   "cell_type": "code",
   "execution_count": 37,
   "metadata": {},
   "outputs": [
    {
     "data": {
      "text/html": [
       "<div>\n",
       "<style scoped>\n",
       "    .dataframe tbody tr th:only-of-type {\n",
       "        vertical-align: middle;\n",
       "    }\n",
       "\n",
       "    .dataframe tbody tr th {\n",
       "        vertical-align: top;\n",
       "    }\n",
       "\n",
       "    .dataframe thead th {\n",
       "        text-align: right;\n",
       "    }\n",
       "</style>\n",
       "<table border=\"1\" class=\"dataframe\">\n",
       "  <thead>\n",
       "    <tr style=\"text-align: right;\">\n",
       "      <th></th>\n",
       "      <th>pop_growth</th>\n",
       "      <th>gdp_percapita_usd</th>\n",
       "      <th>political_stability_index</th>\n",
       "      <th>food_supply_kcalcapitaday</th>\n",
       "      <th>protein_supply_gcapitaday</th>\n",
       "      <th>protein_animal_over_protein</th>\n",
       "      <th>protein_poultry_gcapitaday</th>\n",
       "      <th>prod_poultry_over_domsupply</th>\n",
       "      <th>net_import_poultry_over_domsupply</th>\n",
       "      <th>growth_net_import_poultry</th>\n",
       "    </tr>\n",
       "  </thead>\n",
       "  <tbody>\n",
       "    <tr>\n",
       "      <th>count</th>\n",
       "      <td>172.000000</td>\n",
       "      <td>172.000000</td>\n",
       "      <td>172.000000</td>\n",
       "      <td>172.000000</td>\n",
       "      <td>172.000000</td>\n",
       "      <td>172.000000</td>\n",
       "      <td>172.000000</td>\n",
       "      <td>172.000000</td>\n",
       "      <td>172.000000</td>\n",
       "      <td>172.000000</td>\n",
       "    </tr>\n",
       "    <tr>\n",
       "      <th>mean</th>\n",
       "      <td>5.475461</td>\n",
       "      <td>10567.131253</td>\n",
       "      <td>-0.060000</td>\n",
       "      <td>2847.610465</td>\n",
       "      <td>2858.395349</td>\n",
       "      <td>1.239316</td>\n",
       "      <td>7.121279</td>\n",
       "      <td>14.441610</td>\n",
       "      <td>-30.935892</td>\n",
       "      <td>29.417984</td>\n",
       "    </tr>\n",
       "    <tr>\n",
       "      <th>std</th>\n",
       "      <td>5.016197</td>\n",
       "      <td>14523.104601</td>\n",
       "      <td>0.895993</td>\n",
       "      <td>440.765024</td>\n",
       "      <td>454.544301</td>\n",
       "      <td>0.576089</td>\n",
       "      <td>5.603464</td>\n",
       "      <td>49.683412</td>\n",
       "      <td>86.337931</td>\n",
       "      <td>94.618434</td>\n",
       "    </tr>\n",
       "    <tr>\n",
       "      <th>min</th>\n",
       "      <td>-5.434483</td>\n",
       "      <td>287.166959</td>\n",
       "      <td>-2.960000</td>\n",
       "      <td>1879.000000</td>\n",
       "      <td>1754.000000</td>\n",
       "      <td>0.253906</td>\n",
       "      <td>0.040000</td>\n",
       "      <td>0.000000</td>\n",
       "      <td>-198.615917</td>\n",
       "      <td>-300.000000</td>\n",
       "    </tr>\n",
       "    <tr>\n",
       "      <th>25%</th>\n",
       "      <td>1.910891</td>\n",
       "      <td>1588.501797</td>\n",
       "      <td>-0.612500</td>\n",
       "      <td>2523.250000</td>\n",
       "      <td>2514.250000</td>\n",
       "      <td>0.746637</td>\n",
       "      <td>2.165000</td>\n",
       "      <td>0.000000</td>\n",
       "      <td>-97.208532</td>\n",
       "      <td>-1.046760</td>\n",
       "    </tr>\n",
       "    <tr>\n",
       "      <th>50%</th>\n",
       "      <td>4.755661</td>\n",
       "      <td>4467.101922</td>\n",
       "      <td>0.030000</td>\n",
       "      <td>2830.500000</td>\n",
       "      <td>2871.500000</td>\n",
       "      <td>1.229501</td>\n",
       "      <td>6.505000</td>\n",
       "      <td>0.000000</td>\n",
       "      <td>-62.107219</td>\n",
       "      <td>14.185111</td>\n",
       "    </tr>\n",
       "    <tr>\n",
       "      <th>75%</th>\n",
       "      <td>9.093107</td>\n",
       "      <td>12088.189295</td>\n",
       "      <td>0.667500</td>\n",
       "      <td>3196.500000</td>\n",
       "      <td>3250.250000</td>\n",
       "      <td>1.667150</td>\n",
       "      <td>10.365000</td>\n",
       "      <td>9.090909</td>\n",
       "      <td>42.924848</td>\n",
       "      <td>37.500000</td>\n",
       "    </tr>\n",
       "    <tr>\n",
       "      <th>max</th>\n",
       "      <td>23.935417</td>\n",
       "      <td>81059.319125</td>\n",
       "      <td>1.590000</td>\n",
       "      <td>3770.000000</td>\n",
       "      <td>3770.000000</td>\n",
       "      <td>3.015508</td>\n",
       "      <td>27.870000</td>\n",
       "      <td>431.578947</td>\n",
       "      <td>315.357143</td>\n",
       "      <td>500.000000</td>\n",
       "    </tr>\n",
       "  </tbody>\n",
       "</table>\n",
       "</div>"
      ],
      "text/plain": [
       "       pop_growth  gdp_percapita_usd  political_stability_index  \\\n",
       "count  172.000000         172.000000                 172.000000   \n",
       "mean     5.475461       10567.131253                  -0.060000   \n",
       "std      5.016197       14523.104601                   0.895993   \n",
       "min     -5.434483         287.166959                  -2.960000   \n",
       "25%      1.910891        1588.501797                  -0.612500   \n",
       "50%      4.755661        4467.101922                   0.030000   \n",
       "75%      9.093107       12088.189295                   0.667500   \n",
       "max     23.935417       81059.319125                   1.590000   \n",
       "\n",
       "       food_supply_kcalcapitaday  protein_supply_gcapitaday  \\\n",
       "count                 172.000000                 172.000000   \n",
       "mean                 2847.610465                2858.395349   \n",
       "std                   440.765024                 454.544301   \n",
       "min                  1879.000000                1754.000000   \n",
       "25%                  2523.250000                2514.250000   \n",
       "50%                  2830.500000                2871.500000   \n",
       "75%                  3196.500000                3250.250000   \n",
       "max                  3770.000000                3770.000000   \n",
       "\n",
       "       protein_animal_over_protein  protein_poultry_gcapitaday  \\\n",
       "count                   172.000000                  172.000000   \n",
       "mean                      1.239316                    7.121279   \n",
       "std                       0.576089                    5.603464   \n",
       "min                       0.253906                    0.040000   \n",
       "25%                       0.746637                    2.165000   \n",
       "50%                       1.229501                    6.505000   \n",
       "75%                       1.667150                   10.365000   \n",
       "max                       3.015508                   27.870000   \n",
       "\n",
       "       prod_poultry_over_domsupply  net_import_poultry_over_domsupply  \\\n",
       "count                   172.000000                         172.000000   \n",
       "mean                     14.441610                         -30.935892   \n",
       "std                      49.683412                          86.337931   \n",
       "min                       0.000000                        -198.615917   \n",
       "25%                       0.000000                         -97.208532   \n",
       "50%                       0.000000                         -62.107219   \n",
       "75%                       9.090909                          42.924848   \n",
       "max                     431.578947                         315.357143   \n",
       "\n",
       "       growth_net_import_poultry  \n",
       "count                 172.000000  \n",
       "mean                   29.417984  \n",
       "std                    94.618434  \n",
       "min                  -300.000000  \n",
       "25%                    -1.046760  \n",
       "50%                    14.185111  \n",
       "75%                    37.500000  \n",
       "max                   500.000000  "
      ]
     },
     "execution_count": 37,
     "metadata": {},
     "output_type": "execute_result"
    }
   ],
   "source": [
    "data_pca.describe()"
   ]
  },
  {
   "cell_type": "code",
   "execution_count": 38,
   "metadata": {},
   "outputs": [],
   "source": [
    "# subset of data_pca with only data related to Poultry and Chicken \n",
    "data_pca_poultry = data_country[['country', 'protein_poultry_gcapitaday',\n",
    "         'prod_poultry_over_domsupply', 'net_import_poultry_over_domsupply',\n",
    "        'growth_net_import_poultry']]"
   ]
  },
  {
   "cell_type": "code",
   "execution_count": 39,
   "metadata": {},
   "outputs": [],
   "source": [
    "# subset of data_pca with data NOT related to Poultry and Chicken \n",
    "data_pca_not_poultry = data_pca.copy()\n",
    "for i in data_pca.columns: \n",
    "    if i in data_pca_poultry.columns and i != 'country' and i!= 'import_poultry_over_domsupply':\n",
    "        data_pca_not_poultry.drop([i], axis = 1, inplace=True)"
   ]
  },
  {
   "cell_type": "markdown",
   "metadata": {},
   "source": [
    "<hr>"
   ]
  },
  {
   "cell_type": "markdown",
   "metadata": {},
   "source": [
    "<h2>Exporting Dataset data_country</h2><a id='export'></a>"
   ]
  },
  {
   "cell_type": "markdown",
   "metadata": {},
   "source": [
    "<h3>Export simplified dataset</h3>"
   ]
  },
  {
   "cell_type": "code",
   "execution_count": 40,
   "metadata": {},
   "outputs": [],
   "source": [
    "data_country_simplified.to_csv(r'data/output/data_country_simplified.csv', index = False)"
   ]
  },
  {
   "cell_type": "markdown",
   "metadata": {},
   "source": [
    "<h3>Export complete dataset</h3>"
   ]
  },
  {
   "cell_type": "code",
   "execution_count": 41,
   "metadata": {},
   "outputs": [],
   "source": [
    "data_country.to_csv(r'data/output/data_country.csv', index = False)"
   ]
  },
  {
   "cell_type": "code",
   "execution_count": 42,
   "metadata": {},
   "outputs": [],
   "source": [
    "data_pca.to_csv(r'data/output/data_pca.csv', index = False)"
   ]
  },
  {
   "cell_type": "code",
   "execution_count": 43,
   "metadata": {},
   "outputs": [],
   "source": [
    "data_pca_poultry.to_csv(r'data/output/data_pca_poultry.csv', index = False)"
   ]
  },
  {
   "cell_type": "code",
   "execution_count": 44,
   "metadata": {},
   "outputs": [],
   "source": [
    "data_pca_not_poultry.to_csv(r'data/output/data_pca_not_poultry.csv', index = False)"
   ]
  },
  {
   "cell_type": "code",
   "execution_count": null,
   "metadata": {},
   "outputs": [],
   "source": []
  }
 ],
 "metadata": {
  "kernelspec": {
   "display_name": "Python 3",
   "language": "python",
   "name": "python3"
  },
  "language_info": {
   "codemirror_mode": {
    "name": "ipython",
    "version": 3
   },
   "file_extension": ".py",
   "mimetype": "text/x-python",
   "name": "python",
   "nbconvert_exporter": "python",
   "pygments_lexer": "ipython3",
   "version": "3.7.6"
  },
  "toc": {
   "base_numbering": 1,
   "nav_menu": {},
   "number_sections": false,
   "sideBar": true,
   "skip_h1_title": false,
   "title_cell": "Table of Contents",
   "title_sidebar": "Contents",
   "toc_cell": false,
   "toc_position": {
    "height": "calc(100% - 180px)",
    "left": "10px",
    "top": "150px",
    "width": "394.533px"
   },
   "toc_section_display": true,
   "toc_window_display": true
  },
  "varInspector": {
   "cols": {
    "lenName": 16,
    "lenType": 16,
    "lenVar": 40
   },
   "kernels_config": {
    "python": {
     "delete_cmd_postfix": "",
     "delete_cmd_prefix": "del ",
     "library": "var_list.py",
     "varRefreshCmd": "print(var_dic_list())"
    },
    "r": {
     "delete_cmd_postfix": ") ",
     "delete_cmd_prefix": "rm(",
     "library": "var_list.r",
     "varRefreshCmd": "cat(var_dic_list()) "
    }
   },
   "types_to_exclude": [
    "module",
    "function",
    "builtin_function_or_method",
    "instance",
    "_Feature"
   ],
   "window_display": false
  }
 },
 "nbformat": 4,
 "nbformat_minor": 4
}

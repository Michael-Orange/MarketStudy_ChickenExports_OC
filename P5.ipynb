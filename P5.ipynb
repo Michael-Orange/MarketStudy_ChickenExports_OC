{
 "cells": [
  {
   "cell_type": "markdown",
   "metadata": {},
   "source": [
    "<h2>Market Research - chicken exports</h2>"
   ]
  },
  {
   "cell_type": "markdown",
   "metadata": {},
   "source": [
    "<a href=\"https://openclassrooms.com/en/\" >Openclassrooms</a>, Data Analyst Course\n",
    "<br>Project 5 - Michael Orange\n"
   ]
  },
  {
   "cell_type": "markdown",
   "metadata": {},
   "source": [
    "<hr>"
   ]
  },
  {
   "cell_type": "markdown",
   "metadata": {},
   "source": [
    "A chicken producer is looking for new export markets. All countries are considered. \n",
    "The core objective is to assist the company in targeting the markets with the highest potential. \n",
    "\n",
    "'Grouping' the countries in 'clusters' with similar caracteristics is expected. Variables are: \n",
    "- country population, \n",
    "- population growth, \n",
    "- food diet: calory supply per capita, protein supply per capita, \n",
    "- proportion of animal protein in the mix. \n",
    "\n",
    "Additional relevant variable might be included (ex. GDP per capita)"
   ]
  },
  {
   "cell_type": "markdown",
   "metadata": {},
   "source": [
    "<hr>"
   ]
  },
  {
   "cell_type": "markdown",
   "metadata": {},
   "source": [
    "<h2>Preparation Dataset data_country</h2>"
   ]
  },
  {
   "cell_type": "markdown",
   "metadata": {},
   "source": [
    "<h3>Import Datasets</h3>"
   ]
  },
  {
   "cell_type": "code",
   "execution_count": null,
   "metadata": {},
   "outputs": [],
   "source": [
    "import numpy as np\n",
    "import pandas as pd\n",
    "import seaborn as sns"
   ]
  },
  {
   "cell_type": "markdown",
   "metadata": {},
   "source": [
    "Data are collected from The Food and Agriculture Organization Corporate Statistical Database (FAOSTAT). The FAOSTAT website disseminates statistical data collected and maintained by the Food and Agriculture Organization (FAO).\n",
    "\n",
    "FAOSTAT - Data collected (2013 and 2017 are selected for the below analysis): analysis is based on 2017 figures, with a comparaison from 2013 data. \n",
    "2017 is the most recent comprehensive data from FAOSTAT.\n",
    "\n",
    "- Datasets Food Balance Animal and Vegetal\n",
    "- Dataset Population\n",
    "- Dataset Gross Domestic Product (GDP)\n",
    "- Dataset Trade Mix - Chicken "
   ]
  },
  {
   "cell_type": "code",
   "execution_count": null,
   "metadata": {},
   "outputs": [],
   "source": [
    "#import food datasets\n",
    "veg2013 = pd.read_csv(\"data/raw/vegetal2013.csv\")\n",
    "ani2013 = pd.read_csv(\"data/raw/animal2013.csv\")\n",
    "veg2017 = pd.read_csv(\"data/raw/vegetal2017.csv\")\n",
    "ani2017 = pd.read_csv(\"data/raw/animal2017.csv\")\n",
    "ani2013[\"origin\"] = \"animal\"\n",
    "veg2013[\"origin\"] = \"vegetal\"\n",
    "ani2017[\"origin\"] = \"animal\"\n",
    "veg2017[\"origin\"] = \"vegetal\"\n",
    "\n",
    "#import population\n",
    "pop = pd.read_csv(\"data/raw/FAOSTAT_data_Population_2013-2017.csv\")\n",
    "\n",
    "# import GDP\n",
    "gdp = pd.read_csv(\"data/raw/FAOSTAT_data_MacroIndicators_20132017.csv\")\n",
    "\n",
    "# import chicken trade\n",
    "chicken_trade = pd.read_csv(\"data/raw/FAOSTAT_data_Trade_Chicken_20132017.csv\")"
   ]
  },
  {
   "cell_type": "markdown",
   "metadata": {},
   "source": [
    "<h3>Preparation food dataset</h3>\n"
   ]
  },
  {
   "cell_type": "code",
   "execution_count": null,
   "metadata": {},
   "outputs": [],
   "source": [
    "# group food datatsets\n",
    "temp = [veg2013, ani2013, ani2017, veg2017]\n",
    "temp = pd.concat(temp, ignore_index=True)\n",
    "\n",
    "# delete ani2013, veg2013, ani2017, veg2017\n",
    "del ani2013, veg2013, ani2017, veg2017\n",
    "\n",
    "temp.columns = [\"xx\", \"xx2\", \"country_code\", \"country\", 'xx3', 'element', 'item_code', 'item',\n",
    "                'xx4', \"year\", \"unit\", \"value\", 'xx5', 'flag_description', 'origin', 'xx6']\n",
    "\n",
    "data = temp.pivot_table(index=[\"year\", \"country_code\", \"country\", \"origin\", \"item_code\", \\\n",
    "                               \"item\"], columns = [\"element\"], values=[\"value\"], aggfunc=sum)\n",
    "\n",
    "# rename columns\n",
    "data.columns = ['domestic_supply_quantity','export_quantity','fat_supply_quantity_gcapitaday','feed',\n",
    "                'food','food_supply_kcalcapitaday','food_supply_quantity_kgcapitayr','import_quantity','losses','other_uses','processing',\n",
    "                'production', 'protein_supply_quantity_gcapitaday', 'residuals', 'seed','stock_variation','tourist_consumption']\n",
    "\n",
    "data = data.reset_index()"
   ]
  },
  {
   "cell_type": "markdown",
   "metadata": {},
   "source": [
    "Data for China are duplicated. \n",
    "<br>data for 'China' = sum of the splitted data for 'China, mainland', 'China, Hong Kong', 'China, Macao', 'China, Province of Taiwan'.\n",
    "- deletion of 'China' data (code 351)\n",
    "- 'China, mainland', 'China, Hong Kong', 'China, Macao', 'China, Province of Taiwan' data are kept in order to preserve a better granularity.\n",
    "\n"
   ]
  },
  {
   "cell_type": "code",
   "execution_count": null,
   "metadata": {},
   "outputs": [],
   "source": [
    "# remove doublon from China (code_country 351)\n",
    "data = data.loc[data.country_code != 351]\n",
    "\n",
    "# remove Bermuda and Brunei - no information for 2017\n",
    "data = data.loc[data.country != 'Bermuda']\n",
    "data = data.loc[data.country != 'Brunei Darussalam']"
   ]
  },
  {
   "cell_type": "markdown",
   "metadata": {},
   "source": [
    "<h3>Population data</h3>"
   ]
  },
  {
   "cell_type": "markdown",
   "metadata": {},
   "source": [
    "- Population per country\n",
    "- Growth of the population (%) - 2017 vs 2013"
   ]
  },
  {
   "cell_type": "code",
   "execution_count": null,
   "metadata": {},
   "outputs": [],
   "source": [
    "# population\n",
    "pop.columns = [\"xx\",\"xx2\",\"country_code\",\"country\", 'xx3', 'xx4', 'xx5','xx6', \n",
    "               'xx7', 'year',\"xx8\",\"population_total_thousand\",\"xx9\", 'xx10', 'xx11']\n",
    "\n",
    "pop = pop.drop([\"xx\",\"xx2\",'xx3','xx4','xx5', 'xx6', 'xx7','xx8', 'xx9', 'xx10', 'xx11'], axis = 1)\n",
    "pop.reset_index(inplace=True)\n",
    "\n",
    "# merge data and pop\n",
    "data = pd.merge(data, pop, how='left')\n",
    "\n",
    "data_country = pop.pivot_table(index=['country_code', 'country'], columns = ['year'], values=['population_total_thousand'])\n",
    "data_country.columns = ['pop_2013_thousand', 'pop_2017_thousand']\n",
    "data_country.reset_index(inplace=True)\n",
    "\n",
    "#growth population\n",
    "data_country['pop_growth_percent'] = (data_country['pop_2017_thousand'] / data_country['pop_2013_thousand'] - 1) *100"
   ]
  },
  {
   "cell_type": "markdown",
   "metadata": {},
   "source": [
    "<h3>Diet caracterisitics : proteins and calories </h3>"
   ]
  },
  {
   "cell_type": "markdown",
   "metadata": {},
   "source": [
    "- Food supply kcal per capita per day - per country\n",
    "- Protein supply g per capita per day - per country\n",
    "- Growth of the protein supply per capita per country (%) - 2017 vs 2013"
   ]
  },
  {
   "cell_type": "code",
   "execution_count": null,
   "metadata": {},
   "outputs": [],
   "source": [
    "temp = data.pivot_table(index=['country_code', 'country'], columns=['year'], \\\n",
    "                        values=['food_supply_kcalcapitaday',  'protein_supply_quantity_gcapitaday'], aggfunc=sum)\n",
    "temp.columns = ['food_supply_kcalcapitaday_2013', 'food_supply_kcalcapitaday_2017', \\\n",
    "                'protein_supply_gcapitaday_2013', 'protein_supply_gcapitaday_2017']\n",
    "temp = temp.reset_index()\n",
    "\n",
    "temp['protein_supply_capita_growth_percent'] = (temp['protein_supply_gcapitaday_2017'] / temp['protein_supply_gcapitaday_2013'] - 1) * 100\n",
    "\n",
    "data_country = pd.merge(temp, data_country, how='left')"
   ]
  },
  {
   "cell_type": "markdown",
   "metadata": {},
   "source": [
    "- Food supply kcal per country (kcal)\n",
    "- Protein supply per country (kg)\n",
    "- Growth of the protein supply per country (%) - 2017 vs 2013"
   ]
  },
  {
   "cell_type": "code",
   "execution_count": null,
   "metadata": {},
   "outputs": [],
   "source": [
    "NB_DAYS_YEAR = 365 \n",
    "\n",
    "data_country['food_supply_kcal_2013'] = data_country['food_supply_kcalcapitaday_2013'] * NB_DAYS_YEAR * data_country['pop_2013_thousand'] * 1000\n",
    "data_country['food_supply_kcal_2017'] = data_country['food_supply_kcalcapitaday_2017'] * NB_DAYS_YEAR * data_country['pop_2017_thousand'] * 1000\n",
    "\n",
    "data_country['protein_supply_kg_2013'] = data_country['protein_supply_gcapitaday_2013']/1000 * NB_DAYS_YEAR *data_country['pop_2013_thousand']*1000\n",
    "data_country['protein_supply_kg_2017'] = data_country['protein_supply_gcapitaday_2017']/1000 * NB_DAYS_YEAR *data_country['pop_2017_thousand']*1000\n",
    "\n",
    "data_country['protein_supply_growth_percent'] = (data_country['protein_supply_kg_2017'] /data_country['protein_supply_kg_2013'] - 1) * 100"
   ]
  },
  {
   "cell_type": "markdown",
   "metadata": {},
   "source": [
    "Animal proteins per capita\n",
    "\n",
    "- Protein supply g per capita per day from animals - per country\n",
    "- Growth of the protein supply per capita per country (%) from animals - 2017 vs 2013\n"
   ]
  },
  {
   "cell_type": "code",
   "execution_count": null,
   "metadata": {},
   "outputs": [],
   "source": [
    "# protein per capita from animals\n",
    "temp = data.loc[data['origin']=='animal'].pivot_table(index=['country_code', 'country'], columns = ['year'], \\\n",
    "                                                      values=[ 'protein_supply_quantity_gcapitaday'], aggfunc=sum)\n",
    "temp.columns = ['protein_supply_animal_gcapitaday_2013', 'protein_supply_animal_gcapitaday_2017']\n",
    "temp.reset_index(inplace=True)\n",
    "\n",
    "temp['protein_supply_capita_animal_growth_percent'] = \\\n",
    "    (temp['protein_supply_animal_gcapitaday_2017'] / temp['protein_supply_animal_gcapitaday_2013'] - 1) * 100\n",
    "\n",
    "data_country = pd.merge(data_country, temp, how='left')\n"
   ]
  },
  {
   "cell_type": "markdown",
   "metadata": {},
   "source": [
    "Animal proteins total\n",
    "\n",
    "- Protein supply kg from animals - per country\n",
    "- Growth of the protein supply per country (%) from animals - 2017 vs 2013"
   ]
  },
  {
   "cell_type": "code",
   "execution_count": null,
   "metadata": {},
   "outputs": [],
   "source": [
    "# protein supply from animals\n",
    "data_country['protein_supply_animal_kg_2013'] = \\\n",
    "    data_country['protein_supply_animal_gcapitaday_2013']/1000 * NB_DAYS_YEAR *data_country['pop_2013_thousand']*1000\n",
    "\n",
    "data_country['protein_supply_animal_kg_2017'] = \\\n",
    "    data_country['protein_supply_animal_gcapitaday_2017']/1000 * NB_DAYS_YEAR *data_country['pop_2017_thousand']*1000\n",
    "\n",
    "data_country['protein_supply_animal_growth_percent'] = (data_country['protein_supply_animal_kg_2017'] /data_country['protein_supply_animal_kg_2013'] - 1) * 100"
   ]
  },
  {
   "cell_type": "markdown",
   "metadata": {},
   "source": [
    "Prevalence of animal proteins in the diet mix - per country"
   ]
  },
  {
   "cell_type": "code",
   "execution_count": null,
   "metadata": {},
   "outputs": [],
   "source": [
    "# prevalence of proteins from animals\n",
    "\n",
    "data_country['prevalence_protein_animal_capita_percent_2013'] = \\\n",
    "    data_country['protein_supply_animal_gcapitaday_2013'] / data_country['protein_supply_gcapitaday_2013'] * 100\n",
    "data_country['prevalence_protein_animal_capita_percent_2017'] = \\\n",
    "    data_country['protein_supply_animal_gcapitaday_2017'] / data_country['protein_supply_gcapitaday_2017'] * 100\n",
    "\n",
    "data_country['prevalence_protein_animal_percent_2013'] = data_country['protein_supply_animal_kg_2013'] / data_country['protein_supply_kg_2013'] * 100\n",
    "data_country['prevalence_protein_animal_percent_2017'] = data_country['protein_supply_animal_kg_2017'] / data_country['protein_supply_kg_2017'] * 100"
   ]
  },
  {
   "cell_type": "code",
   "execution_count": null,
   "metadata": {},
   "outputs": [],
   "source": [
    "# growth of the prevalence of proteins from animals\n",
    "data_country['prevalence_protein_animal_capita_growth_percent'] = \\\n",
    "    (data_country['prevalence_protein_animal_capita_percent_2017'] /data_country['prevalence_protein_animal_capita_percent_2013'] - 1) * 100\n",
    "\n",
    "data_country['prevalence_protein_animal_growth_percent'] = \\\n",
    "    (data_country['prevalence_protein_animal_percent_2017'] /data_country['prevalence_protein_animal_percent_2013'] - 1) * 100"
   ]
  },
  {
   "cell_type": "markdown",
   "metadata": {},
   "source": [
    "<h3>Gross Domestic Product (GDP) per capita</h3>"
   ]
  },
  {
   "cell_type": "markdown",
   "metadata": {},
   "source": [
    "- GDP per capita (USD)\n",
    "- GDP Growth - 2017 vs 2013"
   ]
  },
  {
   "cell_type": "code",
   "execution_count": null,
   "metadata": {},
   "outputs": [],
   "source": [
    "gdp.columns = [\"xx\", \"xx2\", \"country_code\", \"country\", 'xx3', 'xx4', 'xx5', 'item', 'xx6', \"year\", \"xx7\", \"value\", 'xx8', 'xx9', 'xx10']\n",
    "gdp = gdp.loc[gdp['item'] == 'Gross Domestic Product per capita'].pivot_table(index=[\"year\", \"country_code\", \"country\"], columns = ['item'], values=['value'])\n",
    "gdp.columns = ['gdp_percapita_usd']\n",
    "\n",
    "gdp = gdp.pivot_table(index=[\"country_code\", \"country\"], columns = ['year'], values=['gdp_percapita_usd'])\n",
    "gdp.columns = ['gdp_percapita_usd_2013', 'gdp_percapita_usd_2017']\n",
    "gdp.reset_index(inplace=True)\n",
    "\n",
    "data_country = pd.merge(data_country, gdp, how='left')"
   ]
  },
  {
   "cell_type": "markdown",
   "metadata": {},
   "source": [
    "GDP of Taiwan is missing. \n",
    "Informaiton collected from the International Monetary Fund (IMF).\n",
    "- GDP per capita 2013 : 43 739 USD\n",
    "- GDP per capita 2017 : 50 593 USD\n",
    "\n",
    "Source: https://bit.ly/2U2251b"
   ]
  },
  {
   "cell_type": "code",
   "execution_count": null,
   "metadata": {},
   "outputs": [],
   "source": [
    "data_country.loc[data_country['country'] == 'China, Taiwan Province of', 'gdp_percapita_usd_2013'] = 43739\n",
    "data_country.loc[data_country['country'] == 'China, Taiwan Province of', 'gdp_percapita_usd_2017'] = 50593"
   ]
  },
  {
   "cell_type": "code",
   "execution_count": null,
   "metadata": {},
   "outputs": [],
   "source": [
    "#growth of the GDP\n",
    "gdp['gdp_percapita_growth'] = (gdp['gdp_percapita_usd_2017'] / gdp['gdp_percapita_usd_2013'] - 1) * 100"
   ]
  },
  {
   "cell_type": "markdown",
   "metadata": {},
   "source": [
    "<h3>Poultry</h3>\n",
    "\n"
   ]
  },
  {
   "cell_type": "markdown",
   "metadata": {},
   "source": [
    "Poultry are domesticated avian species that can be raised for eggs, meat and/or feathers. The term “poultry” covers a wide range of birds, from indigenous and commercial breeds of chickens to Muscovy ducks, mallard ducks, turkeys, guinea fowl, geese, quail, pigeons, ostriches and pheasants. \n",
    "\n",
    "- In 2017, chickens accounted for some 92 percent of the world’s poultry population, followed by ducks (5 percent), and turkeys (2 percent). \n",
    "- Chickens contribute 89 percent of world poultry meat production, followed by turkeys with 5 percent, ducks with 4 percent and geese and guinea fowl with 2 percent. The rest comes from other poultry species.\n",
    "- Chickens provide 92 percent of world egg production.\n",
    "\n",
    "source: http://www.fao.org/poultry-production-products/production/en/\n",
    "\n",
    "There is no granular data about chicken exclusively in the dataset 'animal' but the data for the category 'Poultry' (in which chicken is accounting around 90% of the total) give us a fair indicator of the chicken market in each country. \n",
    "\n",
    "Poultry composition: Meat chicken, Fat liver prepared (foie gras), Meat chicken canned, Meat,duck, Meat goose and guinea fowl, Meat turkey."
   ]
  },
  {
   "cell_type": "code",
   "execution_count": null,
   "metadata": {},
   "outputs": [],
   "source": [
    "temp = data.loc[(data['item'] == 'Poultry Meat')|(data['item'] == 'Eggs')].pivot_table(index=['country_code', 'country'], columns=['year'], \\\n",
    "                                                            values=['domestic_supply_quantity', 'food', 'import_quantity', 'protein_supply_quantity_gcapitaday'], aggfunc=sum)\n",
    "\n",
    "temp.columns = ['domestic_supply_poultry_tons_2013', 'domestic_supply_poultry_tons_2017', 'food_poultry_tons_2013',  'food_poultry_tons_2017',\\\n",
    "                'import_poultry_tons_2013', 'import_poultry_tons_2017', 'protein_supply_poultry_gcapitaday_2013', 'protein_supply_poultry_gcapitaday_2017']\n",
    "\n",
    "temp.reset_index(inplace=True)\n",
    "temp\n",
    "\n",
    "#convert 1000 tons to tons\n",
    "temp['domestic_supply_poultry_tons_2013'] = temp['domestic_supply_poultry_tons_2013'] * 1000\n",
    "temp['domestic_supply_poultry_tons_2017'] = temp['domestic_supply_poultry_tons_2017'] * 1000\n",
    "temp['food_poultry_tons_2013'] = temp['food_poultry_tons_2013'] * 1000\n",
    "temp['food_poultry_tons_2017'] = temp['food_poultry_tons_2017'] * 1000\n",
    "temp['import_poultry_tons_2013'] = temp['import_poultry_tons_2013'] * 1000\n",
    "temp['import_poultry_tons_2017'] = temp['import_poultry_tons_2017'] * 1000\n",
    "\n",
    "data_country = pd.merge(data_country, temp, how='left')"
   ]
  },
  {
   "cell_type": "code",
   "execution_count": null,
   "metadata": {},
   "outputs": [],
   "source": [
    "#growth Poultry+Eggs protein supply\n",
    "data_country['food_poultry_growth'] = (data_country['food_poultry_tons_2017'] / data_country['food_poultry_tons_2013'] - 1) * 100\n",
    "#growth Poultry+Eggs imports\n",
    "data_country['import_poultry_growth'] = (data_country['import_poultry_tons_2017'] / data_country['import_poultry_tons_2013'] - 1) * 100"
   ]
  },
  {
   "cell_type": "markdown",
   "metadata": {},
   "source": [
    "<h3>Chicken Importations</h3>"
   ]
  },
  {
   "cell_type": "markdown",
   "metadata": {},
   "source": [
    "Data are from the food and agricultural trade dataset collected, processed and disseminated by FAO. The data is mainly provided by UNSD, Eurostat, and other national authorities as needed.\n",
    "- Import quantity of 'chicken' per country\n",
    "- Import value of 'chicken' per country\n",
    "\n",
    "The category 'chicken' is made of 'chicken', 'meat, chicken', 'meat, chicken, canned', 'offals, liver chicken'. \n",
    "Offals liver chicken was not available in the 'Poultry' section.  "
   ]
  },
  {
   "cell_type": "code",
   "execution_count": null,
   "metadata": {},
   "outputs": [],
   "source": [
    "chicken_trade.columns =['xx', 'xx2', 'country_code', 'country', 'partner_country_code', 'partner_country', 'xx6', \\\n",
    "                        'element', 'xx8', 'xx9', 'xx10', 'year', 'unit', 'value', 'xx13', 'xx14', 'xx15']\n",
    "\n",
    "# there is a disruptancy on the name of the UK between the FAO trade dataset and other FAO datasets\n",
    "chicken_trade.loc[chicken_trade['country'] == 'United Kingdom', 'country'] = 'United Kingdom of Great Britain and Northern Ireland'\n",
    "chicken_trade.loc[chicken_trade['partner_country'] == 'United Kingdom', 'partner_country'] = 'United Kingdom of Great Britain and Northern Ireland'"
   ]
  },
  {
   "cell_type": "code",
   "execution_count": null,
   "metadata": {},
   "outputs": [],
   "source": [
    "#Imports of chicken per country - in quantity and value\n",
    "\n",
    "chicken_import = chicken_trade.loc[((chicken_trade['element'] == 'Import Value') | (chicken_trade['element'] == 'Import Quantity')) \\\n",
    "                                  & (chicken_trade['unit'] != '1000 Head')]\n",
    "\n",
    "chicken_import = chicken_import.pivot_table(index=[\"country_code\", \"country\"], columns=['year', 'element'], values=['value'], aggfunc=sum)\n",
    "\n",
    "chicken_import.columns = ['import_chicken_quantity_tons_2013', 'import_chicken_value_thousand_usd_2013', 'import_chicken_quantity_tons_2017', \\\n",
    "                         'import_chicken_value_thousand_usd_2017']\n",
    "chicken_import.reset_index(inplace=True)\n",
    "\n",
    "data_country = pd.merge(data_country, chicken_import, how='left')"
   ]
  },
  {
   "cell_type": "code",
   "execution_count": null,
   "metadata": {},
   "outputs": [],
   "source": [
    "country_no_report_import_chicken = \\\n",
    "    data_country.loc[(data_country['import_chicken_quantity_tons_2017'].isna()) | (data_country['import_chicken_quantity_tons_2013'].isna())]"
   ]
  },
  {
   "cell_type": "markdown",
   "metadata": {},
   "source": [
    "{{ len(country_no_report_import_chicken)}} countries do have missing information about chicken importations due to the absence of reports in 2013 or 2017:\n",
    "\n",
    "{{country_no_report_import_chicken.country.tolist()}}"
   ]
  },
  {
   "cell_type": "markdown",
   "metadata": {},
   "source": [
    "We will get an approximation of these imports through the declaration of exports from partner countries."
   ]
  },
  {
   "cell_type": "code",
   "execution_count": null,
   "metadata": {},
   "outputs": [],
   "source": [
    "# getting information about the chicken imports on the countries not reporting the imports through the export reports from other countries.\n",
    "\n",
    "chicken_export = chicken_trade.loc[((chicken_trade['element'] == 'Export Quantity') | (chicken_trade['element'] == 'Export Value')) \\\n",
    "                                  & (chicken_trade['unit'] != '1000 Head')]\n",
    "\n",
    "# Export of chicken to countries not reporting any chicken imports\n",
    "chicken_export_to_countries_noreport = chicken_export.loc[chicken_export['partner_country'].isin(country_no_report_import_chicken.country)]\n",
    "\n",
    "chicken_export_to_countries_noreport = chicken_export_to_countries_noreport.pivot_table(\\\n",
    "                                                                                       index=['partner_country_code', 'partner_country'], columns=['year', 'element'], values=['value'], aggfunc=sum)\n",
    "\n",
    "chicken_export_to_countries_noreport.columns = ['import_chicken_quantity_tons_2013', 'import_chicken_value_thousand_usd_2013', \\\n",
    "                                                'import_chicken_quantity_tons_2017', 'import_chicken_value_thousand_usd_2017']\n",
    "chicken_export_to_countries_noreport.reset_index(inplace=True)\n",
    "\n",
    "chicken_export_to_countries_noreport.rename(columns = {'partner_country_code':'country_code', 'partner_country':'country'}, inplace=True)"
   ]
  },
  {
   "cell_type": "code",
   "execution_count": null,
   "metadata": {},
   "outputs": [],
   "source": [
    "data_country.set_index('country', inplace=True)\n",
    "chicken_export_to_countries_noreport.set_index('country', inplace=True)\n",
    "\n",
    "#overlapping values from chicken export to data_country for the countries not reporting their imports\n",
    "data_country = data_country.combine_first(chicken_export_to_countries_noreport)\n",
    "data_country.reset_index(inplace=True)"
   ]
  },
  {
   "cell_type": "code",
   "execution_count": null,
   "metadata": {},
   "outputs": [],
   "source": [
    "data_country['import_chicken_value_growth_percent'] = \\\n",
    "    (data_country['import_chicken_value_thousand_usd_2017'] / data_country['import_chicken_value_thousand_usd_2013'] - 1) *100\n",
    "\n",
    "data_country['import_chicken_quantity_growth_percent'] = \\\n",
    "    (data_country['import_chicken_quantity_tons_2017'] / data_country['import_chicken_quantity_tons_2013'] - 1) *100\n",
    "\n",
    "data_country['import_chicken_ratio_usd_tons'] = \\\n",
    "    data_country['import_chicken_value_thousand_usd_2017'] * 1000 / data_country['import_chicken_quantity_tons_2013']"
   ]
  },
  {
   "cell_type": "markdown",
   "metadata": {},
   "source": [
    "Analysis is made on 2017 figures and growth 2013-2017, removing columns with 2013 information"
   ]
  },
  {
   "cell_type": "code",
   "execution_count": null,
   "metadata": {},
   "outputs": [],
   "source": [
    "data_country = data_country.drop([ 'pop_2013_thousand', 'food_supply_kcal_2013',\n",
    "       'food_supply_kcal_2017', 'food_supply_kcalcapitaday_2013',\n",
    "       'food_supply_kcalcapitaday_2017', 'gdp_percapita_usd_2013',\n",
    "       'gdp_percapita_usd_2017', 'import_chicken_quantity_tons_2013',\n",
    "       'import_chicken_value_thousand_usd_2013',\n",
    "       'prevalence_protein_animal_capita_percent_2013',\n",
    "       'prevalence_protein_animal_percent_2013',\n",
    "       'protein_supply_animal_gcapitaday_2013',\n",
    "       'protein_supply_animal_growth_percent', 'protein_supply_animal_kg_2013',\n",
    "       'protein_supply_gcapitaday_2013',\n",
    "       'protein_supply_kg_2013', 'import_poultry_tons_2013', 'food_poultry_tons_2013', \n",
    "        'food_poultry_tons_2013', 'protein_supply_poultry_gcapitaday_2013',  'domestic_supply_poultry_tons_2013'], axis = 1)"
   ]
  },
  {
   "cell_type": "code",
   "execution_count": null,
   "metadata": {},
   "outputs": [],
   "source": [
    "data_country.columns"
   ]
  },
  {
   "cell_type": "code",
   "execution_count": null,
   "metadata": {},
   "outputs": [],
   "source": [
    "data_country"
   ]
  },
  {
   "cell_type": "code",
   "execution_count": null,
   "metadata": {},
   "outputs": [],
   "source": [
    "# Poultry- proteins supply, proteins per capita, imports\n",
    "temp = data.loc[data['item'] == 'Poultry Meat'].pivot_table(index=['country_code', 'country'], columns=['year'], \\\n",
    "                                                            values=['food', 'protein_supply_quantity_gcapitaday'], aggfunc=sum)\n",
    "temp.columns = ['import_poultry_1000tons_2013', 'import_poultry_1000tons_2017', 'protein_supply_poultry_kg_2013',  'protein_supply_poultry_kg_2017',\\\n",
    "                'protein_supply_poultry_gcapitaday_2013', 'protein_supply_poultry_gcapitaday_2017']\n",
    "temp.reset_index(inplace=True)\n",
    "data_country = pd.merge(data_country, temp, how='left')\n",
    "\n",
    "#growth Poultry+Eggs protein supply\n",
    "data_country['protein_supply_poultry_growth'] = (data_country['protein_supply_poultry_kg_2017'] / data_country['protein_supply_poultry_kg_2013'] - 1) * 100\n",
    "#growth Poultry+Eggs imports\n",
    "data_country['import_poultry_growth'] = (data_country['import_poultry_1000tons_2017'] / data_country['import_poultry_1000tons_2013'] - 1) * 100"
   ]
  },
  {
   "cell_type": "code",
   "execution_count": null,
   "metadata": {},
   "outputs": [],
   "source": []
  },
  {
   "cell_type": "code",
   "execution_count": null,
   "metadata": {},
   "outputs": [],
   "source": []
  },
  {
   "cell_type": "code",
   "execution_count": null,
   "metadata": {},
   "outputs": [],
   "source": []
  },
  {
   "cell_type": "code",
   "execution_count": null,
   "metadata": {},
   "outputs": [],
   "source": []
  }
 ],
 "metadata": {
  "kernelspec": {
   "display_name": "Python 3",
   "language": "python",
   "name": "python3"
  },
  "language_info": {
   "codemirror_mode": {
    "name": "ipython",
    "version": 3
   },
   "file_extension": ".py",
   "mimetype": "text/x-python",
   "name": "python",
   "nbconvert_exporter": "python",
   "pygments_lexer": "ipython3",
   "version": "3.7.6"
  },
  "toc": {
   "base_numbering": 1,
   "nav_menu": {},
   "number_sections": false,
   "sideBar": true,
   "skip_h1_title": false,
   "title_cell": "Table of Contents",
   "title_sidebar": "Contents",
   "toc_cell": false,
   "toc_position": {
    "height": "calc(100% - 180px)",
    "left": "10px",
    "top": "150px",
    "width": "556.767px"
   },
   "toc_section_display": true,
   "toc_window_display": true
  }
 },
 "nbformat": 4,
 "nbformat_minor": 4
}

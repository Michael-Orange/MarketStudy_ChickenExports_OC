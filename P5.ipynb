{
 "cells": [
  {
   "cell_type": "markdown",
   "metadata": {},
   "source": [
    "<h2>Market Study - Chicken Exports</h2>"
   ]
  },
  {
   "cell_type": "markdown",
   "metadata": {},
   "source": [
    "<a href=\"https://openclassrooms.com/en/\" >Openclassrooms</a>, Data Analyst Course\n",
    "<br>Project 5 - Michael Orange\n"
   ]
  },
  {
   "cell_type": "markdown",
   "metadata": {},
   "source": [
    "<hr>"
   ]
  },
  {
   "cell_type": "markdown",
   "metadata": {},
   "source": [
    "A chicken producer is looking for new export markets. All countries are considered. \n",
    "The core objective is to assist the company in targeting the markets with the highest potential. \n",
    "\n",
    "'Grouping' the countries in 'clusters' with similar caracteristics is expected. Variables are: \n",
    "- country population, \n",
    "- population growth, \n",
    "- food diet: calory supply per capita, protein supply per capita, \n",
    "- proportion of animal protein in the mix. \n",
    "\n",
    "Additional relevant variable might be included (ex. GDP per capita)"
   ]
  },
  {
   "cell_type": "markdown",
   "metadata": {},
   "source": [
    "<hr>"
   ]
  },
  {
   "cell_type": "markdown",
   "metadata": {},
   "source": [
    "<h2>Preparation Dataset data_country</h2>"
   ]
  },
  {
   "cell_type": "markdown",
   "metadata": {},
   "source": [
    "<h3>Import Datasets</h3>"
   ]
  },
  {
   "cell_type": "code",
   "execution_count": null,
   "metadata": {},
   "outputs": [],
   "source": [
    "import numpy as np\n",
    "import pandas as pd\n",
    "import seaborn as sns"
   ]
  },
  {
   "cell_type": "markdown",
   "metadata": {},
   "source": [
    "Data are collected from The Food and Agriculture Organization Corporate Statistical Database (FAOSTAT). The FAOSTAT website disseminates statistical data collected and maintained by the Food and Agriculture Organization (FAO).\n",
    "\n",
    "FAOSTAT - Data collected (2013 and 2017 are selected for the below analysis): analysis is based on 2017 figures, with a comparaison from 2013 data. \n",
    "2017 is the most recent comprehensive data from FAOSTAT.\n",
    "\n",
    "- Datasets Food Balance Animal and Vegetal\n",
    "- Dataset Population\n",
    "- Dataset Gross Domestic Product (GDP)\n",
    "- Dataset Trade Mix - Chicken "
   ]
  },
  {
   "cell_type": "code",
   "execution_count": 2,
   "metadata": {},
   "outputs": [],
   "source": [
    "#import food datasets\n",
    "veg2013 = pd.read_csv(\"data/raw/vegetal2013.csv\")\n",
    "ani2013 = pd.read_csv(\"data/raw/animal2013.csv\")\n",
    "veg2017 = pd.read_csv('data/raw/vegetal2017.csv', dtype={'Note': str })\n",
    "ani2017 = pd.read_csv(\"data/raw/animal2017.csv\")\n",
    "ani2013[\"origin\"] = \"animal\"\n",
    "veg2013[\"origin\"] = \"vegetal\"\n",
    "ani2017[\"origin\"] = \"animal\"\n",
    "veg2017[\"origin\"] = \"vegetal\"\n",
    "\n",
    "#import population\n",
    "pop = pd.read_csv(\"data/raw/FAOSTAT_data_Population_2013-2017.csv\")\n",
    "\n",
    "# import GDP\n",
    "gdp = pd.read_csv(\"data/raw/FAOSTAT_data_MacroIndicators_20132017.csv\")\n",
    "\n",
    "# import chicken trade\n",
    "chicken_trade = pd.read_csv(\"data/raw/FAOSTAT_data_Trade_Chicken_20132017.csv\")\n",
    "\n",
    "# import chicken livestock\n",
    "chicken_stock = pd.read_csv(\"data/raw/FAOSTAT_data_chicken_livestock_20132017.csv\")"
   ]
  },
  {
   "cell_type": "markdown",
   "metadata": {},
   "source": [
    "<h3>Preparation food dataset</h3>\n"
   ]
  },
  {
   "cell_type": "code",
   "execution_count": 3,
   "metadata": {},
   "outputs": [],
   "source": [
    "# group food datatsets\n",
    "temp = [veg2013, ani2013, ani2017, veg2017]\n",
    "temp = pd.concat(temp, ignore_index=True)\n",
    "\n",
    "# delete ani2013, veg2013, ani2017, veg2017\n",
    "del ani2013, veg2013, ani2017, veg2017\n",
    "\n",
    "temp.columns = [\"xx\", \"xx2\", \"country_code\", \"country\", 'xx3', 'element', 'item_code', 'item',\n",
    "                'xx4', \"year\", \"unit\", \"value\", 'xx5', 'flag_description', 'origin', 'xx6']\n",
    "\n",
    "data = temp.pivot_table(index=[\"year\", \"country_code\", \"country\", \"origin\", \"item_code\", \\\n",
    "                               \"item\"], columns = [\"element\"], values=[\"value\"], aggfunc=sum)\n",
    "\n",
    "# rename columns\n",
    "data.columns = ['domestic_supply_quantity','export_quantity','fat_supply_quantity_gcapitaday','feed',\n",
    "                'food','food_supply_kcalcapitaday','food_supply_quantity_kgcapitayr','import_quantity','losses','other_uses','processing',\n",
    "                'production', 'protein_supply_quantity_gcapitaday', 'residuals', 'seed','stock_variation','tourist_consumption']\n",
    "\n",
    "data = data.reset_index()"
   ]
  },
  {
   "cell_type": "markdown",
   "metadata": {},
   "source": [
    "Data for China are duplicated. \n",
    "<br>data for 'China' = sum of the splitted data for 'China, mainland', 'China, Hong Kong', 'China, Macao', 'China, Province of Taiwan'.\n",
    "- deletion of 'China' data (code 351)\n",
    "- 'China, mainland', 'China, Hong Kong', 'China, Macao', 'China, Province of Taiwan' data are kept in order to preserve a better granularity.\n",
    "\n"
   ]
  },
  {
   "cell_type": "code",
   "execution_count": 4,
   "metadata": {},
   "outputs": [],
   "source": [
    "# remove doublon from China (code_country 351)\n",
    "data = data.loc[data.country_code != 351]\n",
    "\n",
    "# remove Bermuda and Brunei - no information for 2017\n",
    "data = data.loc[data.country != 'Bermuda']\n",
    "data = data.loc[data.country != 'Brunei Darussalam']"
   ]
  },
  {
   "cell_type": "markdown",
   "metadata": {},
   "source": [
    "<h3>Population data</h3>"
   ]
  },
  {
   "cell_type": "markdown",
   "metadata": {},
   "source": [
    "- Population per country\n",
    "- Growth of the population (%) - 2017 vs 2013"
   ]
  },
  {
   "cell_type": "code",
   "execution_count": 5,
   "metadata": {},
   "outputs": [],
   "source": [
    "# population\n",
    "pop.columns = [\"xx\",\"xx2\",\"country_code\",\"country\", 'xx3', 'xx4', 'xx5','xx6', \n",
    "               'xx7', 'year',\"xx8\",\"population_total_thousand\",\"xx9\", 'xx10', 'xx11']\n",
    "\n",
    "pop = pop.drop([\"xx\",\"xx2\",'xx3','xx4','xx5', 'xx6', 'xx7','xx8', 'xx9', 'xx10', 'xx11'], axis = 1)\n",
    "pop.reset_index(drop=True, inplace=True)\n",
    "\n",
    "# merge data and pop\n",
    "data = pd.merge(data, pop, how='left')\n",
    "\n",
    "data_country = pop.pivot_table(index=['country_code', 'country'], columns = ['year'], values=['population_total_thousand'])\n",
    "data_country.columns = ['pop_2013_thousand', 'pop_2017_thousand']\n",
    "data_country.reset_index(inplace=True)\n",
    "\n",
    "#growth population\n",
    "data_country['pop_growth_percent'] = (data_country['pop_2017_thousand'] / data_country['pop_2013_thousand'] - 1) *100"
   ]
  },
  {
   "cell_type": "markdown",
   "metadata": {},
   "source": [
    "<h3>Diet caracterisitics : proteins and calories </h3>"
   ]
  },
  {
   "cell_type": "markdown",
   "metadata": {},
   "source": [
    "- Food supply kcal per capita per day - per country\n",
    "- Protein supply g per capita per day - per country\n",
    "- Growth of the protein supply per capita per country (%) - 2017 vs 2013"
   ]
  },
  {
   "cell_type": "code",
   "execution_count": 6,
   "metadata": {},
   "outputs": [],
   "source": [
    "temp = data.pivot_table(index=['country_code', 'country'], columns=['year'], \\\n",
    "                        values=['food_supply_kcalcapitaday',  'protein_supply_quantity_gcapitaday'], aggfunc=sum)\n",
    "temp.columns = ['food_supply_kcalcapitaday_2013', 'food_supply_kcalcapitaday_2017', \\\n",
    "                'protein_supply_gcapitaday_2013', 'protein_supply_gcapitaday_2017']\n",
    "temp = temp.reset_index()\n",
    "\n",
    "temp['protein_supply_capita_growth_percent'] = (temp['protein_supply_gcapitaday_2017'] / temp['protein_supply_gcapitaday_2013'] - 1) * 100\n",
    "\n",
    "data_country = pd.merge(temp, data_country, how='left')"
   ]
  },
  {
   "cell_type": "markdown",
   "metadata": {},
   "source": [
    "- Food supply kcal per country (kcal)\n",
    "- Protein supply per country (kg)\n",
    "- Growth of the protein supply per country (%) - 2017 vs 2013"
   ]
  },
  {
   "cell_type": "code",
   "execution_count": 7,
   "metadata": {},
   "outputs": [],
   "source": [
    "NB_DAYS_YEAR = 365 \n",
    "\n",
    "data_country['food_supply_kcal_2013'] = data_country['food_supply_kcalcapitaday_2013'] * NB_DAYS_YEAR * data_country['pop_2013_thousand'] * 1000\n",
    "data_country['food_supply_kcal_2017'] = data_country['food_supply_kcalcapitaday_2017'] * NB_DAYS_YEAR * data_country['pop_2017_thousand'] * 1000\n",
    "\n",
    "data_country['protein_supply_kg_2013'] = data_country['protein_supply_gcapitaday_2013']/1000 * NB_DAYS_YEAR *data_country['pop_2013_thousand']*1000\n",
    "data_country['protein_supply_kg_2017'] = data_country['protein_supply_gcapitaday_2017']/1000 * NB_DAYS_YEAR *data_country['pop_2017_thousand']*1000\n",
    "\n",
    "data_country['protein_supply_growth_percent'] = (data_country['protein_supply_kg_2017'] /data_country['protein_supply_kg_2013'] - 1) * 100"
   ]
  },
  {
   "cell_type": "markdown",
   "metadata": {},
   "source": [
    "Animal proteins per capita\n",
    "\n",
    "- Protein supply g per capita per day from animals - per country\n",
    "- Growth of the protein supply per capita per country (%) from animals - 2017 vs 2013\n"
   ]
  },
  {
   "cell_type": "code",
   "execution_count": 8,
   "metadata": {},
   "outputs": [],
   "source": [
    "# protein per capita from animals\n",
    "temp = data.loc[data['origin']=='animal'].pivot_table(index=['country_code', 'country'], columns = ['year'], \\\n",
    "                                                      values=[ 'protein_supply_quantity_gcapitaday'], aggfunc=sum)\n",
    "temp.columns = ['protein_supply_animal_gcapitaday_2013', 'protein_supply_animal_gcapitaday_2017']\n",
    "temp.reset_index(inplace=True)\n",
    "\n",
    "temp['protein_supply_capita_animal_growth_percent'] = \\\n",
    "    (temp['protein_supply_animal_gcapitaday_2017'] / temp['protein_supply_animal_gcapitaday_2013'] - 1) * 100\n",
    "\n",
    "data_country = pd.merge(data_country, temp, how='left')\n"
   ]
  },
  {
   "cell_type": "markdown",
   "metadata": {},
   "source": [
    "Animal proteins total\n",
    "\n",
    "- Protein supply kg from animals - per country\n",
    "- Growth of the protein supply per country (%) from animals - 2017 vs 2013"
   ]
  },
  {
   "cell_type": "code",
   "execution_count": 9,
   "metadata": {},
   "outputs": [],
   "source": [
    "# protein supply from animals\n",
    "data_country['protein_supply_animal_kg_2013'] = \\\n",
    "    data_country['protein_supply_animal_gcapitaday_2013']/1000 * NB_DAYS_YEAR *data_country['pop_2013_thousand']*1000\n",
    "\n",
    "data_country['protein_supply_animal_kg_2017'] = \\\n",
    "    data_country['protein_supply_animal_gcapitaday_2017']/1000 * NB_DAYS_YEAR *data_country['pop_2017_thousand']*1000\n",
    "\n",
    "data_country['protein_supply_animal_growth_percent'] = (data_country['protein_supply_animal_kg_2017'] /data_country['protein_supply_animal_kg_2013'] - 1) * 100"
   ]
  },
  {
   "cell_type": "markdown",
   "metadata": {},
   "source": [
    "Prevalence of animal proteins in the diet mix - per country"
   ]
  },
  {
   "cell_type": "code",
   "execution_count": 10,
   "metadata": {},
   "outputs": [],
   "source": [
    "# prevalence of proteins from animals\n",
    "\n",
    "data_country['prevalence_protein_animal_capita_percent_2013'] = \\\n",
    "    data_country['protein_supply_animal_gcapitaday_2013'] / data_country['protein_supply_gcapitaday_2013'] * 100\n",
    "data_country['prevalence_protein_animal_capita_percent_2017'] = \\\n",
    "    data_country['protein_supply_animal_gcapitaday_2017'] / data_country['protein_supply_gcapitaday_2017'] * 100\n",
    "\n",
    "data_country['prevalence_protein_animal_percent_2013'] = data_country['protein_supply_animal_kg_2013'] / data_country['protein_supply_kg_2013'] * 100\n",
    "data_country['prevalence_protein_animal_percent_2017'] = data_country['protein_supply_animal_kg_2017'] / data_country['protein_supply_kg_2017'] * 100"
   ]
  },
  {
   "cell_type": "code",
   "execution_count": 11,
   "metadata": {},
   "outputs": [],
   "source": [
    "# growth of the prevalence of proteins from animals\n",
    "data_country['prevalence_protein_animal_capita_growth_percent'] = \\\n",
    "    (data_country['prevalence_protein_animal_capita_percent_2017'] /data_country['prevalence_protein_animal_capita_percent_2013'] - 1) * 100\n",
    "\n",
    "data_country['prevalence_protein_animal_growth_percent'] = \\\n",
    "    (data_country['prevalence_protein_animal_percent_2017'] /data_country['prevalence_protein_animal_percent_2013'] - 1) * 100"
   ]
  },
  {
   "cell_type": "markdown",
   "metadata": {},
   "source": [
    "<h3>Gross Domestic Product (GDP) per capita</h3>"
   ]
  },
  {
   "cell_type": "markdown",
   "metadata": {},
   "source": [
    "- GDP per capita (USD)\n",
    "- GDP Growth - 2017 vs 2013"
   ]
  },
  {
   "cell_type": "code",
   "execution_count": 12,
   "metadata": {},
   "outputs": [],
   "source": [
    "gdp.columns = [\"xx\", \"xx2\", \"country_code\", \"country\", 'xx3', 'xx4', 'xx5', 'item', 'xx6', \"year\", \"xx7\", \"value\", 'xx8', 'xx9', 'xx10']\n",
    "gdp = gdp.loc[gdp['item'] == 'Gross Domestic Product per capita'].pivot_table(index=[\"year\", \"country_code\", \"country\"], columns = ['item'], values=['value'])\n",
    "gdp.columns = ['gdp_percapita_usd']\n",
    "\n",
    "gdp = gdp.pivot_table(index=[\"country_code\", \"country\"], columns = ['year'], values=['gdp_percapita_usd'])\n",
    "gdp.columns = ['gdp_percapita_usd_2013', 'gdp_percapita_usd_2017']\n",
    "gdp.reset_index(inplace=True)\n",
    "\n",
    "data_country = pd.merge(data_country, gdp, how='left')"
   ]
  },
  {
   "cell_type": "markdown",
   "metadata": {},
   "source": [
    "GDP of Taiwan is missing. \n",
    "Informaiton collected from the International Monetary Fund (IMF).\n",
    "- GDP per capita 2013 : 43 739 USD\n",
    "- GDP per capita 2017 : 50 593 USD\n",
    "\n",
    "Source: https://bit.ly/2U2251b"
   ]
  },
  {
   "cell_type": "code",
   "execution_count": 13,
   "metadata": {},
   "outputs": [],
   "source": [
    "data_country.loc[data_country['country'] == 'China, Taiwan Province of', 'gdp_percapita_usd_2013'] = 43739\n",
    "data_country.loc[data_country['country'] == 'China, Taiwan Province of', 'gdp_percapita_usd_2017'] = 50593"
   ]
  },
  {
   "cell_type": "code",
   "execution_count": 14,
   "metadata": {},
   "outputs": [],
   "source": [
    "#growth of the GDP\n",
    "gdp['gdp_percapita_growth'] = (gdp['gdp_percapita_usd_2017'] / gdp['gdp_percapita_usd_2013'] - 1) * 100"
   ]
  },
  {
   "cell_type": "markdown",
   "metadata": {},
   "source": [
    "<h3>Poultry</h3>\n",
    "\n"
   ]
  },
  {
   "cell_type": "markdown",
   "metadata": {},
   "source": [
    "Poultry are domesticated avian species that can be raised for eggs, meat and/or feathers. The term “poultry” covers a wide range of birds, from indigenous and commercial breeds of chickens to Muscovy ducks, mallard ducks, turkeys, guinea fowl, geese, quail, pigeons, ostriches and pheasants. \n",
    "\n",
    "- In 2017, chickens accounted for some 92 percent of the world’s poultry population, followed by ducks (5 percent), and turkeys (2 percent). \n",
    "- Chickens contribute 89 percent of world poultry meat production, followed by turkeys with 5 percent, ducks with 4 percent and geese and guinea fowl with 2 percent. The rest comes from other poultry species.\n",
    "- Chickens provide 92 percent of world egg production.\n",
    "\n",
    "source: http://www.fao.org/poultry-production-products/production/en/\n",
    "\n",
    "There is no granular data about chicken exclusively in the dataset 'animal' but the data for the category 'Poultry' (in which chicken is accounting around 90% of the total) give us a fair indicator of the chicken market in each country. \n",
    "\n",
    "Poultry composition: Meat chicken, Fat liver prepared (foie gras), Meat chicken canned, Meat,duck, Meat goose and guinea fowl, Meat turkey."
   ]
  },
  {
   "cell_type": "code",
   "execution_count": 15,
   "metadata": {},
   "outputs": [],
   "source": [
    "temp = data.loc[(data['item'] == 'Poultry Meat')|(data['item'] == 'Eggs')].pivot_table(index=['country_code', 'country'], columns=['year'], \\\n",
    "                                                            values=['domestic_supply_quantity', 'food', 'import_quantity', 'protein_supply_quantity_gcapitaday'], aggfunc=sum)\n",
    "\n",
    "temp.columns = ['domestic_supply_poultry_tons_2013', 'domestic_supply_poultry_tons_2017', 'food_poultry_tons_2013',  'food_poultry_tons_2017',\\\n",
    "                'import_poultry_tons_2013', 'import_poultry_tons_2017', 'protein_supply_poultry_gcapitaday_2013', 'protein_supply_poultry_gcapitaday_2017']\n",
    "\n",
    "temp.reset_index(inplace=True)\n",
    "temp\n",
    "\n",
    "#convert 1000 tons to tons\n",
    "temp['domestic_supply_poultry_tons_2013'] = temp['domestic_supply_poultry_tons_2013'] * 1000\n",
    "temp['domestic_supply_poultry_tons_2017'] = temp['domestic_supply_poultry_tons_2017'] * 1000\n",
    "temp['food_poultry_tons_2013'] = temp['food_poultry_tons_2013'] * 1000\n",
    "temp['food_poultry_tons_2017'] = temp['food_poultry_tons_2017'] * 1000\n",
    "temp['import_poultry_tons_2013'] = temp['import_poultry_tons_2013'] * 1000\n",
    "temp['import_poultry_tons_2017'] = temp['import_poultry_tons_2017'] * 1000\n",
    "\n",
    "data_country = pd.merge(data_country, temp, how='left')"
   ]
  },
  {
   "cell_type": "code",
   "execution_count": 16,
   "metadata": {},
   "outputs": [],
   "source": [
    "#growth Poultry+Eggs protein supply\n",
    "data_country['food_poultry_growth'] = (data_country['food_poultry_tons_2017'] / data_country['food_poultry_tons_2013'] - 1) * 100\n",
    "#growth Poultry+Eggs imports\n",
    "data_country['import_poultry_growth'] = (data_country['import_poultry_tons_2017'] / data_country['import_poultry_tons_2013'] - 1) * 100"
   ]
  },
  {
   "cell_type": "markdown",
   "metadata": {},
   "source": [
    "<h3>Chicken Importations</h3>"
   ]
  },
  {
   "cell_type": "markdown",
   "metadata": {},
   "source": [
    "Data are from the food and agricultural trade dataset collected, processed and disseminated by FAO. The data is mainly provided by UNSD, Eurostat, and other national authorities as needed.\n",
    "- Import quantity of 'chicken' per country\n",
    "- Import value of 'chicken' per country\n",
    "\n",
    "The category 'chicken' is made of 'chicken', 'meat, chicken', 'meat, chicken, canned', 'offals, liver chicken'. \n",
    "Offals liver chicken was not available in the 'Poultry' section.  "
   ]
  },
  {
   "cell_type": "code",
   "execution_count": 17,
   "metadata": {},
   "outputs": [],
   "source": [
    "chicken_trade.columns =['xx', 'xx2', 'country_code', 'country', 'partner_country_code', 'partner_country', 'xx6', \\\n",
    "                        'element', 'xx8', 'xx9', 'xx10', 'year', 'unit', 'value', 'xx13', 'xx14', 'xx15']\n",
    "\n",
    "# there is a disruptancy on the name of the UK between the FAO trade dataset and other FAO datasets\n",
    "chicken_trade.loc[chicken_trade['country'] == 'United Kingdom', 'country'] = 'United Kingdom of Great Britain and Northern Ireland'\n",
    "chicken_trade.loc[chicken_trade['partner_country'] == 'United Kingdom', 'partner_country'] = 'United Kingdom of Great Britain and Northern Ireland'"
   ]
  },
  {
   "cell_type": "code",
   "execution_count": 18,
   "metadata": {},
   "outputs": [],
   "source": [
    "#Imports of chicken per country - in quantity and value\n",
    "\n",
    "chicken_import = chicken_trade.loc[((chicken_trade['element'] == 'Import Value') | (chicken_trade['element'] == 'Import Quantity')) \\\n",
    "                                  & (chicken_trade['unit'] != '1000 Head')]\n",
    "\n",
    "chicken_import = chicken_import.pivot_table(index=[\"country_code\", \"country\"], columns=['year', 'element'], values=['value'], aggfunc=sum)\n",
    "\n",
    "chicken_import.columns = ['import_chicken_quantity_tons_2013', 'import_chicken_value_thousand_usd_2013', 'import_chicken_quantity_tons_2017', \\\n",
    "                         'import_chicken_value_thousand_usd_2017']\n",
    "chicken_import.reset_index(inplace=True)\n",
    "\n",
    "data_country = pd.merge(data_country, chicken_import, how='left')"
   ]
  },
  {
   "cell_type": "code",
   "execution_count": 19,
   "metadata": {},
   "outputs": [],
   "source": [
    "country_no_report_import_chicken = \\\n",
    "    data_country.loc[(data_country['import_chicken_quantity_tons_2017'].isna()) | (data_country['import_chicken_quantity_tons_2013'].isna())]"
   ]
  },
  {
   "cell_type": "markdown",
   "metadata": {
    "variables": {
     " len(country_no_report_import_chicken)": "45",
     "country_no_report_import_chicken.country.tolist()": "[&#39;Afghanistan&#39;,\n &#39;Angola&#39;,\n &#39;Bangladesh&#39;,\n &#39;Myanmar&#39;,\n &#39;Cameroon&#39;,\n &#39;Chad&#39;,\n &#39;Cuba&#39;,\n &#39;Dominica&#39;,\n &#39;Dominican Republic&#39;,\n &#39;Djibouti&#39;,\n &#39;Gabon&#39;,\n &#39;Kiribati&#39;,\n &#39;Grenada&#39;,\n &#39;Guinea&#39;,\n &#39;Haiti&#39;,\n &#39;Honduras&#39;,\n &#39;Iran (Islamic Republic of)&#39;,\n &#39;Iraq&#39;,\n &#39;Kyrgyzstan&#39;,\n &quot;Democratic People&#39;s Republic of Korea&quot;,\n &quot;Lao People&#39;s Democratic Republic&quot;,\n &#39;Lesotho&#39;,\n &#39;Liberia&#39;,\n &#39;China, Macao SAR&#39;,\n &#39;Mali&#39;,\n &#39;Mongolia&#39;,\n &#39;Mozambique&#39;,\n &#39;Vanuatu&#39;,\n &#39;Nigeria&#39;,\n &#39;Guinea-Bissau&#39;,\n &#39;Timor-Leste&#39;,\n &#39;Saint Kitts and Nevis&#39;,\n &#39;Saint Lucia&#39;,\n &#39;Saint Vincent and the Grenadines&#39;,\n &#39;Sierra Leone&#39;,\n &#39;Suriname&#39;,\n &#39;Tajikistan&#39;,\n &#39;Eswatini&#39;,\n &#39;Turkmenistan&#39;,\n &#39;Trinidad and Tobago&#39;,\n &#39;United Arab Emirates&#39;,\n &#39;Uzbekistan&#39;,\n &#39;Viet Nam&#39;,\n &#39;Samoa&#39;,\n &#39;Sudan&#39;]"
    }
   },
   "source": [
    "{{ len(country_no_report_import_chicken)}} countries do have missing information about chicken importations due to the absence of reports in 2013 or 2017:\n",
    "\n",
    "{{country_no_report_import_chicken.country.tolist()}}"
   ]
  },
  {
   "cell_type": "markdown",
   "metadata": {},
   "source": [
    "We will get an approximation of these imports through the declaration of exports from partner countries."
   ]
  },
  {
   "cell_type": "code",
   "execution_count": 20,
   "metadata": {},
   "outputs": [],
   "source": [
    "# getting information about the chicken imports on the countries not reporting the imports through the export reports from other countries.\n",
    "\n",
    "chicken_export = chicken_trade.loc[((chicken_trade['element'] == 'Export Quantity') | (chicken_trade['element'] == 'Export Value')) \\\n",
    "                                  & (chicken_trade['unit'] != '1000 Head')]\n",
    "\n",
    "# Export of chicken to countries not reporting any chicken imports\n",
    "chicken_export_to_countries_noreport = chicken_export.loc[chicken_export['partner_country'].isin(country_no_report_import_chicken.country)]\n",
    "\n",
    "chicken_export_to_countries_noreport = chicken_export_to_countries_noreport.pivot_table(\\\n",
    "                                                                                       index=['partner_country_code', 'partner_country'], columns=['year', 'element'], values=['value'], aggfunc=sum)\n",
    "\n",
    "chicken_export_to_countries_noreport.columns = ['import_chicken_quantity_tons_2013', 'import_chicken_value_thousand_usd_2013', \\\n",
    "                                                'import_chicken_quantity_tons_2017', 'import_chicken_value_thousand_usd_2017']\n",
    "chicken_export_to_countries_noreport.reset_index(inplace=True)\n",
    "\n",
    "chicken_export_to_countries_noreport.rename(columns = {'partner_country_code':'country_code', 'partner_country':'country'}, inplace=True)"
   ]
  },
  {
   "cell_type": "code",
   "execution_count": 21,
   "metadata": {},
   "outputs": [],
   "source": [
    "data_country.set_index('country', inplace=True)\n",
    "chicken_export_to_countries_noreport.set_index('country', inplace=True)\n",
    "\n",
    "#overlapping values from chicken export to data_country for the countries not reporting their imports\n",
    "data_country = data_country.combine_first(chicken_export_to_countries_noreport)\n",
    "data_country.reset_index(inplace=True)"
   ]
  },
  {
   "cell_type": "code",
   "execution_count": 22,
   "metadata": {},
   "outputs": [],
   "source": [
    "data_country['import_chicken_value_growth_percent'] = \\\n",
    "    (data_country['import_chicken_value_thousand_usd_2017'] / data_country['import_chicken_value_thousand_usd_2013'] - 1) *100\n",
    "\n",
    "data_country['import_chicken_quantity_growth_percent'] = \\\n",
    "    (data_country['import_chicken_quantity_tons_2017'] / data_country['import_chicken_quantity_tons_2013'] - 1) *100\n",
    "\n",
    "data_country['import_chicken_ratio_usd_tons'] = \\\n",
    "    data_country['import_chicken_value_thousand_usd_2017'] * 1000 / data_country['import_chicken_quantity_tons_2013']"
   ]
  },
  {
   "cell_type": "markdown",
   "metadata": {},
   "source": [
    "<h3>Chicken Livestock Patterns</h3>"
   ]
  },
  {
   "cell_type": "markdown",
   "metadata": {},
   "source": [
    "The Livestock Patterns contains (among others) data on livestock numbers, shares of major livestock species. \n",
    "\n",
    "- Units for the stock is Livestock Units (LSU)\n",
    "- Units for the share in total livestock is % of the total LSU \n"
   ]
  },
  {
   "cell_type": "code",
   "execution_count": 23,
   "metadata": {},
   "outputs": [],
   "source": [
    "chicken_stock.columns =['xx', 'xx1', 'country_code', 'country', 'xx3', 'element', 'xx4', 'xx5', 'xx6', 'year', 'xx7', 'value', 'xx8', 'xx9']\n",
    "\n",
    "chicken_stock = chicken_stock.loc[chicken_stock['element'] != 'Livestock units per agricultural land area']\n",
    "\n",
    "chicken_stock = chicken_stock.pivot_table(index=[\"country_code\", \"country\"], columns=['year', 'element'], values=['value'], aggfunc=sum)\n",
    "\n",
    "chicken_stock.columns = ['share_chicken_total_units_2013', 'livestock_chicken_units_2013', 'share_chicken_total_units_2017', 'livestock_chicken_units_2017']\n",
    "chicken_stock.reset_index(inplace=True)\n",
    "\n",
    "data_country = pd.merge(data_country, chicken_stock, how='left')"
   ]
  },
  {
   "cell_type": "code",
   "execution_count": 24,
   "metadata": {},
   "outputs": [],
   "source": [
    "data_country['share_chicken_growth_percent'] = \\\n",
    "    (data_country['share_chicken_total_units_2017'] / data_country['share_chicken_total_units_2013'] - 1) *100\n",
    "\n",
    "data_country['livestock_chicken_growth_percent'] = \\\n",
    "    (data_country['livestock_chicken_units_2017'] / data_country['livestock_chicken_units_2013'] - 1) *100"
   ]
  },
  {
   "cell_type": "markdown",
   "metadata": {},
   "source": [
    "Analysis is made on 2017 figures and growth 2013-2017, removing columns with 2013 information"
   ]
  },
  {
   "cell_type": "code",
   "execution_count": 28,
   "metadata": {},
   "outputs": [],
   "source": [
    "data_country = data_country.drop([ 'pop_2013_thousand', 'food_supply_kcal_2013',\n",
    "       'food_supply_kcal_2017', 'food_supply_kcalcapitaday_2013',\n",
    "       'food_supply_kcalcapitaday_2017', 'gdp_percapita_usd_2013',\n",
    "       'gdp_percapita_usd_2017', 'import_chicken_quantity_tons_2013',\n",
    "       'import_chicken_value_thousand_usd_2013',\n",
    "       'prevalence_protein_animal_capita_percent_2013',\n",
    "       'prevalence_protein_animal_percent_2013',\n",
    "       'protein_supply_animal_gcapitaday_2013',\n",
    "       'protein_supply_animal_growth_percent', 'protein_supply_animal_kg_2013',\n",
    "       'protein_supply_gcapitaday_2013',\n",
    "       'protein_supply_kg_2013', 'import_poultry_tons_2013', 'food_poultry_tons_2013', \n",
    "        'food_poultry_tons_2013', 'protein_supply_poultry_gcapitaday_2013',  'domestic_supply_poultry_tons_2013', \n",
    "        'share_chicken_total_units_2013', 'livestock_chicken_units_2013'], axis = 1)"
   ]
  },
  {
   "cell_type": "code",
   "execution_count": 29,
   "metadata": {},
   "outputs": [
    {
     "data": {
      "text/html": [
       "<div>\n",
       "<style scoped>\n",
       "    .dataframe tbody tr th:only-of-type {\n",
       "        vertical-align: middle;\n",
       "    }\n",
       "\n",
       "    .dataframe tbody tr th {\n",
       "        vertical-align: top;\n",
       "    }\n",
       "\n",
       "    .dataframe thead th {\n",
       "        text-align: right;\n",
       "    }\n",
       "</style>\n",
       "<table border=\"1\" class=\"dataframe\">\n",
       "  <thead>\n",
       "    <tr style=\"text-align: right;\">\n",
       "      <th></th>\n",
       "      <th>country</th>\n",
       "      <th>country_code</th>\n",
       "      <th>domestic_supply_poultry_tons_2017</th>\n",
       "      <th>food_poultry_growth</th>\n",
       "      <th>food_poultry_tons_2017</th>\n",
       "      <th>import_chicken_quantity_tons_2017</th>\n",
       "      <th>import_chicken_value_thousand_usd_2017</th>\n",
       "      <th>import_poultry_growth</th>\n",
       "      <th>import_poultry_tons_2017</th>\n",
       "      <th>pop_2017_thousand</th>\n",
       "      <th>...</th>\n",
       "      <th>protein_supply_growth_percent</th>\n",
       "      <th>protein_supply_kg_2017</th>\n",
       "      <th>protein_supply_poultry_gcapitaday_2017</th>\n",
       "      <th>import_chicken_value_growth_percent</th>\n",
       "      <th>import_chicken_quantity_growth_percent</th>\n",
       "      <th>import_chicken_ratio_usd_tons</th>\n",
       "      <th>share_chicken_total_units_2017</th>\n",
       "      <th>livestock_chicken_units_2017</th>\n",
       "      <th>share_chicken_growth_percent</th>\n",
       "      <th>livestock_chicken_growth_percent</th>\n",
       "    </tr>\n",
       "  </thead>\n",
       "  <tbody>\n",
       "    <tr>\n",
       "      <th>0</th>\n",
       "      <td>Afghanistan</td>\n",
       "      <td>2</td>\n",
       "      <td>131000.0</td>\n",
       "      <td>-5.217391</td>\n",
       "      <td>109000.0</td>\n",
       "      <td>70001.0</td>\n",
       "      <td>86403.0</td>\n",
       "      <td>7.792208</td>\n",
       "      <td>83000.0</td>\n",
       "      <td>36296.113</td>\n",
       "      <td>...</td>\n",
       "      <td>4.427092</td>\n",
       "      <td>7.165887e+08</td>\n",
       "      <td>0.98</td>\n",
       "      <td>47.081454</td>\n",
       "      <td>64.086637</td>\n",
       "      <td>2025.339303</td>\n",
       "      <td>2.04</td>\n",
       "      <td>135730.00</td>\n",
       "      <td>13.966480</td>\n",
       "      <td>12.610968</td>\n",
       "    </tr>\n",
       "    <tr>\n",
       "      <th>1</th>\n",
       "      <td>Albania</td>\n",
       "      <td>3</td>\n",
       "      <td>97000.0</td>\n",
       "      <td>8.536585</td>\n",
       "      <td>89000.0</td>\n",
       "      <td>40034.0</td>\n",
       "      <td>52618.0</td>\n",
       "      <td>52.000000</td>\n",
       "      <td>38000.0</td>\n",
       "      <td>2884.169</td>\n",
       "      <td>...</td>\n",
       "      <td>6.574962</td>\n",
       "      <td>1.258002e+08</td>\n",
       "      <td>10.58</td>\n",
       "      <td>21.427088</td>\n",
       "      <td>66.669442</td>\n",
       "      <td>2190.591174</td>\n",
       "      <td>10.54</td>\n",
       "      <td>78350.00</td>\n",
       "      <td>-11.651299</td>\n",
       "      <td>-12.242384</td>\n",
       "    </tr>\n",
       "    <tr>\n",
       "      <th>2</th>\n",
       "      <td>Algeria</td>\n",
       "      <td>4</td>\n",
       "      <td>667000.0</td>\n",
       "      <td>0.988468</td>\n",
       "      <td>613000.0</td>\n",
       "      <td>1991.0</td>\n",
       "      <td>25354.0</td>\n",
       "      <td>-33.333333</td>\n",
       "      <td>2000.0</td>\n",
       "      <td>41389.189</td>\n",
       "      <td>...</td>\n",
       "      <td>9.616670</td>\n",
       "      <td>1.402690e+09</td>\n",
       "      <td>4.37</td>\n",
       "      <td>-6.210927</td>\n",
       "      <td>-26.774549</td>\n",
       "      <td>9324.751747</td>\n",
       "      <td>20.69</td>\n",
       "      <td>1314355.20</td>\n",
       "      <td>-2.174941</td>\n",
       "      <td>1.104246</td>\n",
       "    </tr>\n",
       "    <tr>\n",
       "      <th>3</th>\n",
       "      <td>Angola</td>\n",
       "      <td>7</td>\n",
       "      <td>347000.0</td>\n",
       "      <td>-15.404040</td>\n",
       "      <td>335000.0</td>\n",
       "      <td>267388.0</td>\n",
       "      <td>271266.0</td>\n",
       "      <td>-18.032787</td>\n",
       "      <td>300000.0</td>\n",
       "      <td>29816.766</td>\n",
       "      <td>...</td>\n",
       "      <td>8.246401</td>\n",
       "      <td>5.886679e+08</td>\n",
       "      <td>3.79</td>\n",
       "      <td>-38.967973</td>\n",
       "      <td>-22.429454</td>\n",
       "      <td>786.955727</td>\n",
       "      <td>8.89</td>\n",
       "      <td>365000.00</td>\n",
       "      <td>21.282401</td>\n",
       "      <td>34.156468</td>\n",
       "    </tr>\n",
       "    <tr>\n",
       "      <th>4</th>\n",
       "      <td>Antigua and Barbuda</td>\n",
       "      <td>8</td>\n",
       "      <td>7000.0</td>\n",
       "      <td>0.000000</td>\n",
       "      <td>5000.0</td>\n",
       "      <td>6455.0</td>\n",
       "      <td>12779.0</td>\n",
       "      <td>16.666667</td>\n",
       "      <td>7000.0</td>\n",
       "      <td>95.426</td>\n",
       "      <td>...</td>\n",
       "      <td>1.350000</td>\n",
       "      <td>2.826494e+06</td>\n",
       "      <td>18.56</td>\n",
       "      <td>2.240179</td>\n",
       "      <td>9.965928</td>\n",
       "      <td>2177.001704</td>\n",
       "      <td>14.54</td>\n",
       "      <td>1579.23</td>\n",
       "      <td>4.454023</td>\n",
       "      <td>5.282000</td>\n",
       "    </tr>\n",
       "    <tr>\n",
       "      <th>...</th>\n",
       "      <td>...</td>\n",
       "      <td>...</td>\n",
       "      <td>...</td>\n",
       "      <td>...</td>\n",
       "      <td>...</td>\n",
       "      <td>...</td>\n",
       "      <td>...</td>\n",
       "      <td>...</td>\n",
       "      <td>...</td>\n",
       "      <td>...</td>\n",
       "      <td>...</td>\n",
       "      <td>...</td>\n",
       "      <td>...</td>\n",
       "      <td>...</td>\n",
       "      <td>...</td>\n",
       "      <td>...</td>\n",
       "      <td>...</td>\n",
       "      <td>...</td>\n",
       "      <td>...</td>\n",
       "      <td>...</td>\n",
       "      <td>...</td>\n",
       "    </tr>\n",
       "    <tr>\n",
       "      <th>167</th>\n",
       "      <td>Venezuela (Bolivarian Republic of)</td>\n",
       "      <td>236</td>\n",
       "      <td>790000.0</td>\n",
       "      <td>-48.571429</td>\n",
       "      <td>702000.0</td>\n",
       "      <td>25033.0</td>\n",
       "      <td>61682.0</td>\n",
       "      <td>-91.103203</td>\n",
       "      <td>25000.0</td>\n",
       "      <td>29402.484</td>\n",
       "      <td>...</td>\n",
       "      <td>-23.815305</td>\n",
       "      <td>6.042063e+08</td>\n",
       "      <td>8.21</td>\n",
       "      <td>-91.569178</td>\n",
       "      <td>-91.089620</td>\n",
       "      <td>219.554214</td>\n",
       "      <td>8.37</td>\n",
       "      <td>1205946.84</td>\n",
       "      <td>1.948843</td>\n",
       "      <td>-1.151898</td>\n",
       "    </tr>\n",
       "    <tr>\n",
       "      <th>168</th>\n",
       "      <td>Viet Nam</td>\n",
       "      <td>237</td>\n",
       "      <td>1740000.0</td>\n",
       "      <td>6.464646</td>\n",
       "      <td>1581000.0</td>\n",
       "      <td>363681.0</td>\n",
       "      <td>393775.0</td>\n",
       "      <td>-41.000000</td>\n",
       "      <td>295000.0</td>\n",
       "      <td>94600.648</td>\n",
       "      <td>...</td>\n",
       "      <td>14.994997</td>\n",
       "      <td>3.108667e+09</td>\n",
       "      <td>5.39</td>\n",
       "      <td>-33.404533</td>\n",
       "      <td>-30.725185</td>\n",
       "      <td>750.071907</td>\n",
       "      <td>19.00</td>\n",
       "      <td>2952093.66</td>\n",
       "      <td>15.431349</td>\n",
       "      <td>25.884024</td>\n",
       "    </tr>\n",
       "    <tr>\n",
       "      <th>169</th>\n",
       "      <td>Yemen</td>\n",
       "      <td>249</td>\n",
       "      <td>312000.0</td>\n",
       "      <td>-11.392405</td>\n",
       "      <td>280000.0</td>\n",
       "      <td>77952.0</td>\n",
       "      <td>121190.0</td>\n",
       "      <td>-28.440367</td>\n",
       "      <td>78000.0</td>\n",
       "      <td>27834.819</td>\n",
       "      <td>...</td>\n",
       "      <td>0.051381</td>\n",
       "      <td>5.409029e+08</td>\n",
       "      <td>3.50</td>\n",
       "      <td>-51.958868</td>\n",
       "      <td>-28.257989</td>\n",
       "      <td>1115.354881</td>\n",
       "      <td>14.88</td>\n",
       "      <td>650000.00</td>\n",
       "      <td>4.347826</td>\n",
       "      <td>3.174603</td>\n",
       "    </tr>\n",
       "    <tr>\n",
       "      <th>170</th>\n",
       "      <td>Zambia</td>\n",
       "      <td>251</td>\n",
       "      <td>111000.0</td>\n",
       "      <td>3.125000</td>\n",
       "      <td>99000.0</td>\n",
       "      <td>12070.0</td>\n",
       "      <td>11117.0</td>\n",
       "      <td>500.000000</td>\n",
       "      <td>12000.0</td>\n",
       "      <td>16853.599</td>\n",
       "      <td>...</td>\n",
       "      <td>20.762037</td>\n",
       "      <td>3.633113e+08</td>\n",
       "      <td>1.84</td>\n",
       "      <td>143.900834</td>\n",
       "      <td>669.279796</td>\n",
       "      <td>7085.404716</td>\n",
       "      <td>13.55</td>\n",
       "      <td>403338.90</td>\n",
       "      <td>2.963526</td>\n",
       "      <td>6.141816</td>\n",
       "    </tr>\n",
       "    <tr>\n",
       "      <th>171</th>\n",
       "      <td>Zimbabwe</td>\n",
       "      <td>181</td>\n",
       "      <td>106000.0</td>\n",
       "      <td>-2.105263</td>\n",
       "      <td>93000.0</td>\n",
       "      <td>6600.0</td>\n",
       "      <td>9784.0</td>\n",
       "      <td>0.000000</td>\n",
       "      <td>7000.0</td>\n",
       "      <td>14236.595</td>\n",
       "      <td>...</td>\n",
       "      <td>12.994100</td>\n",
       "      <td>2.660535e+08</td>\n",
       "      <td>2.11</td>\n",
       "      <td>29.555085</td>\n",
       "      <td>11.448835</td>\n",
       "      <td>1652.144546</td>\n",
       "      <td>5.88</td>\n",
       "      <td>220751.98</td>\n",
       "      <td>21.739130</td>\n",
       "      <td>11.778525</td>\n",
       "    </tr>\n",
       "  </tbody>\n",
       "</table>\n",
       "<p>172 rows × 30 columns</p>\n",
       "</div>"
      ],
      "text/plain": [
       "                                country  country_code  \\\n",
       "0                           Afghanistan             2   \n",
       "1                               Albania             3   \n",
       "2                               Algeria             4   \n",
       "3                                Angola             7   \n",
       "4                   Antigua and Barbuda             8   \n",
       "..                                  ...           ...   \n",
       "167  Venezuela (Bolivarian Republic of)           236   \n",
       "168                            Viet Nam           237   \n",
       "169                               Yemen           249   \n",
       "170                              Zambia           251   \n",
       "171                            Zimbabwe           181   \n",
       "\n",
       "     domestic_supply_poultry_tons_2017  food_poultry_growth  \\\n",
       "0                             131000.0            -5.217391   \n",
       "1                              97000.0             8.536585   \n",
       "2                             667000.0             0.988468   \n",
       "3                             347000.0           -15.404040   \n",
       "4                               7000.0             0.000000   \n",
       "..                                 ...                  ...   \n",
       "167                           790000.0           -48.571429   \n",
       "168                          1740000.0             6.464646   \n",
       "169                           312000.0           -11.392405   \n",
       "170                           111000.0             3.125000   \n",
       "171                           106000.0            -2.105263   \n",
       "\n",
       "     food_poultry_tons_2017  import_chicken_quantity_tons_2017  \\\n",
       "0                  109000.0                            70001.0   \n",
       "1                   89000.0                            40034.0   \n",
       "2                  613000.0                             1991.0   \n",
       "3                  335000.0                           267388.0   \n",
       "4                    5000.0                             6455.0   \n",
       "..                      ...                                ...   \n",
       "167                702000.0                            25033.0   \n",
       "168               1581000.0                           363681.0   \n",
       "169                280000.0                            77952.0   \n",
       "170                 99000.0                            12070.0   \n",
       "171                 93000.0                             6600.0   \n",
       "\n",
       "     import_chicken_value_thousand_usd_2017  import_poultry_growth  \\\n",
       "0                                   86403.0               7.792208   \n",
       "1                                   52618.0              52.000000   \n",
       "2                                   25354.0             -33.333333   \n",
       "3                                  271266.0             -18.032787   \n",
       "4                                   12779.0              16.666667   \n",
       "..                                      ...                    ...   \n",
       "167                                 61682.0             -91.103203   \n",
       "168                                393775.0             -41.000000   \n",
       "169                                121190.0             -28.440367   \n",
       "170                                 11117.0             500.000000   \n",
       "171                                  9784.0               0.000000   \n",
       "\n",
       "     import_poultry_tons_2017  pop_2017_thousand  ...  \\\n",
       "0                     83000.0          36296.113  ...   \n",
       "1                     38000.0           2884.169  ...   \n",
       "2                      2000.0          41389.189  ...   \n",
       "3                    300000.0          29816.766  ...   \n",
       "4                      7000.0             95.426  ...   \n",
       "..                        ...                ...  ...   \n",
       "167                   25000.0          29402.484  ...   \n",
       "168                  295000.0          94600.648  ...   \n",
       "169                   78000.0          27834.819  ...   \n",
       "170                   12000.0          16853.599  ...   \n",
       "171                    7000.0          14236.595  ...   \n",
       "\n",
       "     protein_supply_growth_percent  protein_supply_kg_2017  \\\n",
       "0                         4.427092            7.165887e+08   \n",
       "1                         6.574962            1.258002e+08   \n",
       "2                         9.616670            1.402690e+09   \n",
       "3                         8.246401            5.886679e+08   \n",
       "4                         1.350000            2.826494e+06   \n",
       "..                             ...                     ...   \n",
       "167                     -23.815305            6.042063e+08   \n",
       "168                      14.994997            3.108667e+09   \n",
       "169                       0.051381            5.409029e+08   \n",
       "170                      20.762037            3.633113e+08   \n",
       "171                      12.994100            2.660535e+08   \n",
       "\n",
       "     protein_supply_poultry_gcapitaday_2017  \\\n",
       "0                                      0.98   \n",
       "1                                     10.58   \n",
       "2                                      4.37   \n",
       "3                                      3.79   \n",
       "4                                     18.56   \n",
       "..                                      ...   \n",
       "167                                    8.21   \n",
       "168                                    5.39   \n",
       "169                                    3.50   \n",
       "170                                    1.84   \n",
       "171                                    2.11   \n",
       "\n",
       "     import_chicken_value_growth_percent  \\\n",
       "0                              47.081454   \n",
       "1                              21.427088   \n",
       "2                              -6.210927   \n",
       "3                             -38.967973   \n",
       "4                               2.240179   \n",
       "..                                   ...   \n",
       "167                           -91.569178   \n",
       "168                           -33.404533   \n",
       "169                           -51.958868   \n",
       "170                           143.900834   \n",
       "171                            29.555085   \n",
       "\n",
       "     import_chicken_quantity_growth_percent  import_chicken_ratio_usd_tons  \\\n",
       "0                                 64.086637                    2025.339303   \n",
       "1                                 66.669442                    2190.591174   \n",
       "2                                -26.774549                    9324.751747   \n",
       "3                                -22.429454                     786.955727   \n",
       "4                                  9.965928                    2177.001704   \n",
       "..                                      ...                            ...   \n",
       "167                              -91.089620                     219.554214   \n",
       "168                              -30.725185                     750.071907   \n",
       "169                              -28.257989                    1115.354881   \n",
       "170                              669.279796                    7085.404716   \n",
       "171                               11.448835                    1652.144546   \n",
       "\n",
       "     share_chicken_total_units_2017  livestock_chicken_units_2017  \\\n",
       "0                              2.04                     135730.00   \n",
       "1                             10.54                      78350.00   \n",
       "2                             20.69                    1314355.20   \n",
       "3                              8.89                     365000.00   \n",
       "4                             14.54                       1579.23   \n",
       "..                              ...                           ...   \n",
       "167                            8.37                    1205946.84   \n",
       "168                           19.00                    2952093.66   \n",
       "169                           14.88                     650000.00   \n",
       "170                           13.55                     403338.90   \n",
       "171                            5.88                     220751.98   \n",
       "\n",
       "     share_chicken_growth_percent  livestock_chicken_growth_percent  \n",
       "0                       13.966480                         12.610968  \n",
       "1                      -11.651299                        -12.242384  \n",
       "2                       -2.174941                          1.104246  \n",
       "3                       21.282401                         34.156468  \n",
       "4                        4.454023                          5.282000  \n",
       "..                            ...                               ...  \n",
       "167                      1.948843                         -1.151898  \n",
       "168                     15.431349                         25.884024  \n",
       "169                      4.347826                          3.174603  \n",
       "170                      2.963526                          6.141816  \n",
       "171                     21.739130                         11.778525  \n",
       "\n",
       "[172 rows x 30 columns]"
      ]
     },
     "execution_count": 29,
     "metadata": {},
     "output_type": "execute_result"
    }
   ],
   "source": [
    "data_country"
   ]
  },
  {
   "cell_type": "code",
   "execution_count": null,
   "metadata": {},
   "outputs": [],
   "source": []
  }
 ],
 "metadata": {
  "kernelspec": {
   "display_name": "Python 3",
   "language": "python",
   "name": "python3"
  },
  "language_info": {
   "codemirror_mode": {
    "name": "ipython",
    "version": 3
   },
   "file_extension": ".py",
   "mimetype": "text/x-python",
   "name": "python",
   "nbconvert_exporter": "python",
   "pygments_lexer": "ipython3",
   "version": "3.7.6"
  },
  "toc": {
   "base_numbering": 1,
   "nav_menu": {},
   "number_sections": false,
   "sideBar": true,
   "skip_h1_title": false,
   "title_cell": "Table of Contents",
   "title_sidebar": "Contents",
   "toc_cell": false,
   "toc_position": {
    "height": "calc(100% - 180px)",
    "left": "10px",
    "top": "150px",
    "width": "556.767px"
   },
   "toc_section_display": true,
   "toc_window_display": true
  }
 },
 "nbformat": 4,
 "nbformat_minor": 4
}
